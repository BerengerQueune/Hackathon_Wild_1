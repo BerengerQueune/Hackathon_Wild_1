{
 "cells": [
  {
   "cell_type": "code",
   "execution_count": 243,
   "metadata": {},
   "outputs": [
    {
     "data": {
      "text/html": [
       "<div>\n",
       "<style scoped>\n",
       "    .dataframe tbody tr th:only-of-type {\n",
       "        vertical-align: middle;\n",
       "    }\n",
       "\n",
       "    .dataframe tbody tr th {\n",
       "        vertical-align: top;\n",
       "    }\n",
       "\n",
       "    .dataframe thead th {\n",
       "        text-align: right;\n",
       "    }\n",
       "</style>\n",
       "<table border=\"1\" class=\"dataframe\">\n",
       "  <thead>\n",
       "    <tr style=\"text-align: right;\">\n",
       "      <th></th>\n",
       "      <th>genre</th>\n",
       "      <th>artist_name</th>\n",
       "      <th>track_name</th>\n",
       "      <th>track_id</th>\n",
       "      <th>popularity</th>\n",
       "      <th>acousticness</th>\n",
       "      <th>danceability</th>\n",
       "      <th>duration_ms</th>\n",
       "      <th>energy</th>\n",
       "      <th>instrumentalness</th>\n",
       "      <th>key</th>\n",
       "      <th>liveness</th>\n",
       "      <th>loudness</th>\n",
       "      <th>mode</th>\n",
       "      <th>speechiness</th>\n",
       "      <th>tempo</th>\n",
       "      <th>time_signature</th>\n",
       "      <th>valence</th>\n",
       "    </tr>\n",
       "  </thead>\n",
       "  <tbody>\n",
       "    <tr>\n",
       "      <th>0</th>\n",
       "      <td>Movie</td>\n",
       "      <td>Henri Salvador</td>\n",
       "      <td>C'est beau de faire un Show</td>\n",
       "      <td>0BRjO6ga9RKCKjfDqeFgWV</td>\n",
       "      <td>0</td>\n",
       "      <td>0.611</td>\n",
       "      <td>0.389</td>\n",
       "      <td>99373</td>\n",
       "      <td>0.910</td>\n",
       "      <td>0.000</td>\n",
       "      <td>C#</td>\n",
       "      <td>0.3460</td>\n",
       "      <td>-1.828</td>\n",
       "      <td>Major</td>\n",
       "      <td>0.0525</td>\n",
       "      <td>166.969</td>\n",
       "      <td>4/4</td>\n",
       "      <td>0.814</td>\n",
       "    </tr>\n",
       "    <tr>\n",
       "      <th>1</th>\n",
       "      <td>Movie</td>\n",
       "      <td>Martin &amp; les fées</td>\n",
       "      <td>Perdu d'avance (par Gad Elmaleh)</td>\n",
       "      <td>0BjC1NfoEOOusryehmNudP</td>\n",
       "      <td>1</td>\n",
       "      <td>0.246</td>\n",
       "      <td>0.590</td>\n",
       "      <td>137373</td>\n",
       "      <td>0.737</td>\n",
       "      <td>0.000</td>\n",
       "      <td>F#</td>\n",
       "      <td>0.1510</td>\n",
       "      <td>-5.559</td>\n",
       "      <td>Minor</td>\n",
       "      <td>0.0868</td>\n",
       "      <td>174.003</td>\n",
       "      <td>4/4</td>\n",
       "      <td>0.816</td>\n",
       "    </tr>\n",
       "    <tr>\n",
       "      <th>2</th>\n",
       "      <td>Movie</td>\n",
       "      <td>Joseph Williams</td>\n",
       "      <td>Don't Let Me Be Lonely Tonight</td>\n",
       "      <td>0CoSDzoNIKCRs124s9uTVy</td>\n",
       "      <td>3</td>\n",
       "      <td>0.952</td>\n",
       "      <td>0.663</td>\n",
       "      <td>170267</td>\n",
       "      <td>0.131</td>\n",
       "      <td>0.000</td>\n",
       "      <td>C</td>\n",
       "      <td>0.1030</td>\n",
       "      <td>-13.879</td>\n",
       "      <td>Minor</td>\n",
       "      <td>0.0362</td>\n",
       "      <td>99.488</td>\n",
       "      <td>5/4</td>\n",
       "      <td>0.368</td>\n",
       "    </tr>\n",
       "    <tr>\n",
       "      <th>3</th>\n",
       "      <td>Movie</td>\n",
       "      <td>Henri Salvador</td>\n",
       "      <td>Dis-moi Monsieur Gordon Cooper</td>\n",
       "      <td>0Gc6TVm52BwZD07Ki6tIvf</td>\n",
       "      <td>0</td>\n",
       "      <td>0.703</td>\n",
       "      <td>0.240</td>\n",
       "      <td>152427</td>\n",
       "      <td>0.326</td>\n",
       "      <td>0.000</td>\n",
       "      <td>C#</td>\n",
       "      <td>0.0985</td>\n",
       "      <td>-12.178</td>\n",
       "      <td>Major</td>\n",
       "      <td>0.0395</td>\n",
       "      <td>171.758</td>\n",
       "      <td>4/4</td>\n",
       "      <td>0.227</td>\n",
       "    </tr>\n",
       "    <tr>\n",
       "      <th>4</th>\n",
       "      <td>Movie</td>\n",
       "      <td>Fabien Nataf</td>\n",
       "      <td>Ouverture</td>\n",
       "      <td>0IuslXpMROHdEPvSl1fTQK</td>\n",
       "      <td>4</td>\n",
       "      <td>0.950</td>\n",
       "      <td>0.331</td>\n",
       "      <td>82625</td>\n",
       "      <td>0.225</td>\n",
       "      <td>0.123</td>\n",
       "      <td>F</td>\n",
       "      <td>0.2020</td>\n",
       "      <td>-21.150</td>\n",
       "      <td>Major</td>\n",
       "      <td>0.0456</td>\n",
       "      <td>140.576</td>\n",
       "      <td>4/4</td>\n",
       "      <td>0.390</td>\n",
       "    </tr>\n",
       "  </tbody>\n",
       "</table>\n",
       "</div>"
      ],
      "text/plain": [
       "   genre        artist_name                        track_name  \\\n",
       "0  Movie     Henri Salvador       C'est beau de faire un Show   \n",
       "1  Movie  Martin & les fées  Perdu d'avance (par Gad Elmaleh)   \n",
       "2  Movie    Joseph Williams    Don't Let Me Be Lonely Tonight   \n",
       "3  Movie     Henri Salvador    Dis-moi Monsieur Gordon Cooper   \n",
       "4  Movie       Fabien Nataf                         Ouverture   \n",
       "\n",
       "                 track_id  popularity  acousticness  danceability  \\\n",
       "0  0BRjO6ga9RKCKjfDqeFgWV           0         0.611         0.389   \n",
       "1  0BjC1NfoEOOusryehmNudP           1         0.246         0.590   \n",
       "2  0CoSDzoNIKCRs124s9uTVy           3         0.952         0.663   \n",
       "3  0Gc6TVm52BwZD07Ki6tIvf           0         0.703         0.240   \n",
       "4  0IuslXpMROHdEPvSl1fTQK           4         0.950         0.331   \n",
       "\n",
       "   duration_ms  energy  instrumentalness key  liveness  loudness   mode  \\\n",
       "0        99373   0.910             0.000  C#    0.3460    -1.828  Major   \n",
       "1       137373   0.737             0.000  F#    0.1510    -5.559  Minor   \n",
       "2       170267   0.131             0.000   C    0.1030   -13.879  Minor   \n",
       "3       152427   0.326             0.000  C#    0.0985   -12.178  Major   \n",
       "4        82625   0.225             0.123   F    0.2020   -21.150  Major   \n",
       "\n",
       "   speechiness    tempo time_signature  valence  \n",
       "0       0.0525  166.969            4/4    0.814  \n",
       "1       0.0868  174.003            4/4    0.816  \n",
       "2       0.0362   99.488            5/4    0.368  \n",
       "3       0.0395  171.758            4/4    0.227  \n",
       "4       0.0456  140.576            4/4    0.390  "
      ]
     },
     "execution_count": 243,
     "metadata": {},
     "output_type": "execute_result"
    }
   ],
   "source": [
    "import pandas as pd\n",
    "import seaborn as sns\n",
    "from sklearn.model_selection import train_test_split\n",
    "from sklearn.linear_model import LinearRegression\n",
    "import seaborn as sns\n",
    "import matplotlib.pyplot as plt\n",
    "import plotly.express as px\n",
    "import plotly.graph_objects as go\n",
    "from sklearn.model_selection import cross_val_score\n",
    "import numpy as np\n",
    "import math\n",
    "from sklearn.linear_model import LogisticRegression\n",
    "from sklearn.tree import DecisionTreeClassifier\n",
    "from sklearn.neighbors import KNeighborsClassifier\n",
    "from sklearn.ensemble import RandomForestClassifier\n",
    "from sklearn.preprocessing import StandardScaler\n",
    "\n",
    "url = \"https://raw.githubusercontent.com/murpi/wilddata/master/quests/spotify.zip\"\n",
    "df_music = pd.read_csv(url)\n",
    "df_music.head()"
   ]
  },
  {
   "cell_type": "code",
   "execution_count": 229,
   "metadata": {},
   "outputs": [],
   "source": [
    "# There is two columns with similar name: \"Children’s Music\" and \"Children's Music\". I rename it before a merge with the following get dummies\n",
    "df_music[\"genre\"].replace('Children’s Music', \"Children's Music\", inplace=True)\n",
    "\n",
    "# Get dummies on genre for Machine Learning Usage\n",
    "df_music_dumies = pd.concat([df_music , df_music['genre'].str.get_dummies()], axis = 1)\n",
    "\n",
    "# Factorization of \"mode\"\n",
    "df_music_dumies['mode'] = df_music_dumies['mode'].factorize()[0]"
   ]
  },
  {
   "cell_type": "code",
   "execution_count": 230,
   "metadata": {},
   "outputs": [
    {
     "name": "stdout",
     "output_type": "stream",
     "text": [
      "accuracy score on train set: 0.6235298303234635\n",
      "accuracy score on test set: 0.6185060306982363\n"
     ]
    }
   ],
   "source": [
    "# Linear regression first test\n",
    "\n",
    "X = df_music_dumies[[\n",
    "       'acousticness', 'danceability', 'duration_ms', 'energy',\n",
    "       'instrumentalness', 'liveness', 'loudness', 'mode',\n",
    "       'speechiness', 'tempo', 'valence', 'A Capella',\n",
    "       'Alternative', 'Anime', 'Blues', \"Children's Music\",\n",
    "       'Classical', 'Comedy', 'Country', 'Dance', 'Electronic', 'Folk',\n",
    "       'Hip-Hop', 'Indie', 'Jazz', 'Movie', 'Opera', 'Pop', 'R&B', 'Rap',\n",
    "       'Reggae', 'Reggaeton', 'Rock', 'Ska', 'Soul', 'Soundtrack', 'World']]\n",
    "       \n",
    "y = df_music_dumies['popularity']\n",
    "\n",
    "X_train, X_test, y_train, y_test = train_test_split(X, y, random_state = 1, train_size = 0.8)\n",
    "\n",
    "modelLR = LinearRegression().fit(X_train,y_train)\n",
    "\n",
    "print(\"accuracy score on train set:\",modelLR.score(X_train, y_train))\n",
    "print(\"accuracy score on test set:\",modelLR.score(X_test, y_test))"
   ]
  },
  {
   "cell_type": "code",
   "execution_count": 231,
   "metadata": {},
   "outputs": [],
   "source": [
    "# Get dummies on key for Machine Learning Usage\n",
    "\n",
    "df_music_dumies_keys = pd.concat([df_music_dumies , df_music_dumies['key'].str.get_dummies()], axis = 1)"
   ]
  },
  {
   "cell_type": "code",
   "execution_count": 232,
   "metadata": {},
   "outputs": [
    {
     "name": "stdout",
     "output_type": "stream",
     "text": [
      "accuracy score on train set: 0.6222983256902899\n",
      "accuracy score on test set: 0.6250000193339308\n"
     ]
    }
   ],
   "source": [
    "X = df_music_dumies_keys[[\n",
    "       'acousticness', 'danceability', 'duration_ms', 'energy',\n",
    "       'instrumentalness', 'liveness', 'loudness', 'mode',\n",
    "       'speechiness', 'tempo', 'valence', 'A Capella',\n",
    "       'Alternative', 'Anime', 'Blues', \"Children's Music\",\n",
    "       'Classical', 'Comedy', 'Country', 'Dance', 'Electronic', 'Folk',\n",
    "       'Hip-Hop', 'Indie', 'Jazz', 'Movie', 'Opera', 'Pop', 'R&B', 'Rap',\n",
    "       'Reggae', 'Reggaeton', 'Rock', 'Ska', 'Soul', 'Soundtrack', 'World', 'A', 'A#', 'B', 'C', 'C#',\n",
    "       'D', 'D#', 'E', 'F', 'F#', 'G', 'G#']]\n",
    "       \n",
    "y = df_music_dumies_keys['popularity']\n",
    "\n",
    "X_train, X_test, y_train, y_test = train_test_split(X, y, train_size = 0.8)\n",
    "\n",
    "modelLR = LinearRegression().fit(X_train,y_train)\n",
    "\n",
    "print(\"accuracy score on train set:\",modelLR.score(X_train, y_train))\n",
    "print(\"accuracy score on test set:\",modelLR.score(X_test, y_test))"
   ]
  },
  {
   "cell_type": "code",
   "execution_count": 233,
   "metadata": {},
   "outputs": [
    {
     "data": {
      "text/plain": [
       "array([ 0.10732396, -0.01424236, -0.23472697,  0.13938638, -0.84604192,\n",
       "        0.40047679])"
      ]
     },
     "execution_count": 233,
     "metadata": {},
     "output_type": "execute_result"
    }
   ],
   "source": [
    "cross_val_score(LinearRegression(), X, y, scoring=\"r2\", cv = 6)"
   ]
  },
  {
   "cell_type": "code",
   "execution_count": 234,
   "metadata": {},
   "outputs": [],
   "source": [
    "# Function to split the popularity in 5 classes in order to use a classification Machine Learning method (suggested by Tarik as he says it's better than Linear Regression here)\n",
    "\n",
    "def popularity_score(popularity):\n",
    "  popularity = popularity / 20\n",
    "  popularity = math.ceil(popularity)\n",
    "  return popularity"
   ]
  },
  {
   "cell_type": "code",
   "execution_count": 235,
   "metadata": {},
   "outputs": [],
   "source": [
    "# Applying the function\n",
    "\n",
    "df_music_dumies_keys[\"popularity_score\"] = df_music[\"popularity\"].apply(popularity_score)"
   ]
  },
  {
   "cell_type": "code",
   "execution_count": 236,
   "metadata": {},
   "outputs": [
    {
     "name": "stdout",
     "output_type": "stream",
     "text": [
      "<class 'pandas.core.frame.DataFrame'>\n",
      "RangeIndex: 232725 entries, 0 to 232724\n",
      "Data columns (total 50 columns):\n",
      " #   Column            Non-Null Count   Dtype  \n",
      "---  ------            --------------   -----  \n",
      " 0   acousticness      232725 non-null  float64\n",
      " 1   danceability      232725 non-null  float64\n",
      " 2   duration_ms       232725 non-null  int64  \n",
      " 3   energy            232725 non-null  float64\n",
      " 4   instrumentalness  232725 non-null  float64\n",
      " 5   liveness          232725 non-null  float64\n",
      " 6   loudness          232725 non-null  float64\n",
      " 7   mode              232725 non-null  int64  \n",
      " 8   speechiness       232725 non-null  float64\n",
      " 9   tempo             232725 non-null  float64\n",
      " 10  valence           232725 non-null  float64\n",
      " 11  A Capella         232725 non-null  int64  \n",
      " 12  Alternative       232725 non-null  int64  \n",
      " 13  Anime             232725 non-null  int64  \n",
      " 14  Blues             232725 non-null  int64  \n",
      " 15  Children's Music  232725 non-null  int64  \n",
      " 16  Classical         232725 non-null  int64  \n",
      " 17  Comedy            232725 non-null  int64  \n",
      " 18  Country           232725 non-null  int64  \n",
      " 19  Dance             232725 non-null  int64  \n",
      " 20  Electronic        232725 non-null  int64  \n",
      " 21  Folk              232725 non-null  int64  \n",
      " 22  Hip-Hop           232725 non-null  int64  \n",
      " 23  Indie             232725 non-null  int64  \n",
      " 24  Jazz              232725 non-null  int64  \n",
      " 25  Movie             232725 non-null  int64  \n",
      " 26  Opera             232725 non-null  int64  \n",
      " 27  Pop               232725 non-null  int64  \n",
      " 28  R&B               232725 non-null  int64  \n",
      " 29  Rap               232725 non-null  int64  \n",
      " 30  Reggae            232725 non-null  int64  \n",
      " 31  Reggaeton         232725 non-null  int64  \n",
      " 32  Rock              232725 non-null  int64  \n",
      " 33  Ska               232725 non-null  int64  \n",
      " 34  Soul              232725 non-null  int64  \n",
      " 35  Soundtrack        232725 non-null  int64  \n",
      " 36  World             232725 non-null  int64  \n",
      " 37  A                 232725 non-null  int64  \n",
      " 38  A#                232725 non-null  int64  \n",
      " 39  B                 232725 non-null  int64  \n",
      " 40  C                 232725 non-null  int64  \n",
      " 41  C#                232725 non-null  int64  \n",
      " 42  D                 232725 non-null  int64  \n",
      " 43  D#                232725 non-null  int64  \n",
      " 44  E                 232725 non-null  int64  \n",
      " 45  F                 232725 non-null  int64  \n",
      " 46  F#                232725 non-null  int64  \n",
      " 47  G                 232725 non-null  int64  \n",
      " 48  G#                232725 non-null  int64  \n",
      " 49  popularity_score  232725 non-null  int64  \n",
      "dtypes: float64(9), int64(41)\n",
      "memory usage: 88.8 MB\n"
     ]
    }
   ],
   "source": [
    "cols = ['genre', 'artist_name', 'track_name', 'track_id', 'popularity', 'key', 'time_signature']\n",
    "df_music_dumies_keys.drop(cols, axis=1, inplace=True)\n",
    "\n",
    "df_music_dumies_keys.info()"
   ]
  },
  {
   "cell_type": "code",
   "execution_count": 237,
   "metadata": {},
   "outputs": [
    {
     "data": {
      "text/plain": [
       "3    95006\n",
       "2    72744\n",
       "4    31546\n",
       "1    26128\n",
       "0     6312\n",
       "5      989\n",
       "Name: popularity_score, dtype: int64"
      ]
     },
     "execution_count": 237,
     "metadata": {},
     "output_type": "execute_result"
    }
   ],
   "source": [
    "df_music_dumies_keys[\"popularity_score\"].value_counts()"
   ]
  },
  {
   "cell_type": "code",
   "execution_count": 238,
   "metadata": {},
   "outputs": [],
   "source": [
    "# As we can see, there is column with a popularity of 0 and we wonder if it has a positive or negative impact on the Machine learning\n",
    "# We create two dataset for our tests, one with the 0 pop value and one without this value\n",
    "\n",
    "df_music_with_0_pop = df_music_dumies_keys\n",
    "df_music_without_0_pop = df_music_dumies_keys[df_music_dumies_keys['popularity_score'] != 0]"
   ]
  },
  {
   "cell_type": "code",
   "execution_count": 239,
   "metadata": {},
   "outputs": [
    {
     "data": {
      "text/plain": [
       "3    95006\n",
       "2    72744\n",
       "4    31546\n",
       "1    26128\n",
       "5      989\n",
       "Name: popularity_score, dtype: int64"
      ]
     },
     "execution_count": 239,
     "metadata": {},
     "output_type": "execute_result"
    }
   ],
   "source": [
    "df_music_without_0_pop[\"popularity_score\"].value_counts()"
   ]
  },
  {
   "cell_type": "code",
   "execution_count": 240,
   "metadata": {},
   "outputs": [
    {
     "data": {
      "text/plain": [
       "Index(['acousticness', 'danceability', 'duration_ms', 'energy',\n",
       "       'instrumentalness', 'liveness', 'loudness', 'mode', 'speechiness',\n",
       "       'tempo', 'valence', 'A Capella', 'Alternative', 'Anime', 'Blues',\n",
       "       'Children's Music', 'Classical', 'Comedy', 'Country', 'Dance',\n",
       "       'Electronic', 'Folk', 'Hip-Hop', 'Indie', 'Jazz', 'Movie', 'Opera',\n",
       "       'Pop', 'R&B', 'Rap', 'Reggae', 'Reggaeton', 'Rock', 'Ska', 'Soul',\n",
       "       'Soundtrack', 'World', 'A', 'A#', 'B', 'C', 'C#', 'D', 'D#', 'E', 'F',\n",
       "       'F#', 'G', 'G#', 'popularity_score'],\n",
       "      dtype='object')"
      ]
     },
     "execution_count": 240,
     "metadata": {},
     "output_type": "execute_result"
    }
   ],
   "source": [
    "df_music_dumies_keys.columns"
   ]
  },
  {
   "cell_type": "code",
   "execution_count": 245,
   "metadata": {},
   "outputs": [],
   "source": [
    "cols = ['acousticness', 'danceability', 'duration_ms', 'energy',\n",
    "       'instrumentalness', 'liveness', 'loudness', 'mode',\n",
    "       'speechiness', 'tempo', 'valence', 'A Capella',\n",
    "       'Alternative', 'Anime', 'Blues', \"Children's Music\",\n",
    "       'Classical', 'Comedy', 'Country', 'Dance', 'Electronic', 'Folk',\n",
    "       'Hip-Hop', 'Indie', 'Jazz', 'Movie', 'Opera', 'Pop', 'R&B', 'Rap',\n",
    "       'Reggae', 'Reggaeton', 'Rock', 'Ska', 'Soul', 'Soundtrack', 'World', 'A', 'A#', 'B', 'C', 'C#',\n",
    "       'D', 'D#', 'E', 'F', 'F#', 'G', 'G#']\n",
    "\n",
    "X = df_music_with_0_pop[cols]\n",
    "y = df_music_with_0_pop['popularity_score']"
   ]
  },
  {
   "cell_type": "code",
   "execution_count": 249,
   "metadata": {},
   "outputs": [
    {
     "name": "stdout",
     "output_type": "stream",
     "text": [
      "accuracy score on logistic regression test set: 0.41985\n",
      "accuracy score on logistic regression train set: 0.41954\n",
      "\n",
      "accuracy score on decision tree classifier test set: 0.56703\n",
      "accuracy score on decision tree classifier train set: 0.99925\n",
      "\n",
      "accuracy score on RandomForest classifier test set: 0.67152\n",
      "accuracy score on RandomForest classifier train set: 0.99191\n"
     ]
    }
   ],
   "source": [
    "# Test with the value 0 in popularity\n",
    "\n",
    "X_train, X_test, y_train, y_test = train_test_split(X, y, random_state = 2, train_size=0.75)\n",
    "\n",
    "# Logistic Regression\n",
    "model = LogisticRegression().fit(X_train,y_train)\n",
    "\n",
    "print(\"accuracy score on logistic regression test set:\",round(model.score(X_test, y_test), 5))\n",
    "print(\"accuracy score on logistic regression train set:\",round(model.score(X_train, y_train), 5))\n",
    "print (\"\")\n",
    "\n",
    "\n",
    "# Decision Tree\n",
    "modelDTR = DecisionTreeClassifier()\n",
    "modelDTR.fit(X_train, y_train)\n",
    "\n",
    "print(\"accuracy score on decision tree classifier test set:\",round(modelDTR.score(X_test, y_test), 5))\n",
    "print(\"accuracy score on decision tree classifier train set:\",round(modelDTR.score(X_train, y_train), 5))\n",
    "print (\"\")\n",
    "\n",
    "# Random Forest\n",
    "rfc = RandomForestClassifier(n_estimators=15)\n",
    "rfc.fit(X_train, y_train)\n",
    "\n",
    "print(\"accuracy score on RandomForest classifier test set:\",round(rfc.score(X_test, y_test), 5))\n",
    "print(\"accuracy score on RandomForest classifier train set:\",round(rfc.score(X_train, y_train), 5))"
   ]
  },
  {
   "cell_type": "code",
   "execution_count": 250,
   "metadata": {},
   "outputs": [
    {
     "name": "stdout",
     "output_type": "stream",
     "text": [
      "accuracy score on logistic regression test set: 0.41985\n",
      "accuracy score on logistic regression train set: 0.41954\n",
      "\n",
      "accuracy score on decision tree classifier test set: 0.56636\n",
      "accuracy score on decision tree classifier train set: 0.99925\n",
      "\n",
      "accuracy score on RandomForest classifier test set: 0.66972\n",
      "accuracy score on RandomForest classifier train set: 0.99209\n"
     ]
    }
   ],
   "source": [
    "# Test without the value 0 in popularity\n",
    "\n",
    "X = df_music_without_0_pop[cols]\n",
    "y = df_music_without_0_pop['popularity_score']\n",
    "\n",
    "X_train, X_test, y_train, y_test = train_test_split(X, y, random_state = 2, train_size=0.75)\n",
    "\n",
    "# Logistic Regression\n",
    "model = LogisticRegression().fit(X_train,y_train)\n",
    "\n",
    "print(\"accuracy score on logistic regression test set:\",round(model.score(X_test, y_test), 5))\n",
    "print(\"accuracy score on logistic regression train set:\",round(model.score(X_train, y_train), 5))\n",
    "print (\"\")\n",
    "\n",
    "\n",
    "# Decision Tree\n",
    "modelDTR = DecisionTreeClassifier()\n",
    "modelDTR.fit(X_train, y_train)\n",
    "\n",
    "print(\"accuracy score on decision tree classifier test set:\",round(modelDTR.score(X_test, y_test), 5))\n",
    "print(\"accuracy score on decision tree classifier train set:\",round(modelDTR.score(X_train, y_train), 5))\n",
    "print (\"\")\n",
    "\n",
    "# Random Forest\n",
    "rfc = RandomForestClassifier(n_estimators=15)\n",
    "rfc.fit(X_train, y_train)\n",
    "\n",
    "print(\"accuracy score on RandomForest classifier test set:\",round(rfc.score(X_test, y_test), 5))\n",
    "print(\"accuracy score on RandomForest classifier train set:\",round(rfc.score(X_train, y_train), 5))"
   ]
  },
  {
   "cell_type": "code",
   "execution_count": 204,
   "metadata": {},
   "outputs": [],
   "source": [
    "df_music_dumies_keys.to_csv(\"..\\data\\music_dumies.csv.zip\", header = True, compression = \"zip\")"
   ]
  },
  {
   "cell_type": "code",
   "execution_count": 251,
   "metadata": {},
   "outputs": [
    {
     "name": "stderr",
     "output_type": "stream",
     "text": [
      "C:\\Users\\Berenger\\anaconda3\\lib\\site-packages\\sklearn\\linear_model\\_logistic.py:763: ConvergenceWarning: lbfgs failed to converge (status=1):\n",
      "STOP: TOTAL NO. of ITERATIONS REACHED LIMIT.\n",
      "\n",
      "Increase the number of iterations (max_iter) or scale the data as shown in:\n",
      "    https://scikit-learn.org/stable/modules/preprocessing.html\n",
      "Please also refer to the documentation for alternative solver options:\n",
      "    https://scikit-learn.org/stable/modules/linear_model.html#logistic-regression\n",
      "  n_iter_i = _check_optimize_result(\n"
     ]
    },
    {
     "name": "stdout",
     "output_type": "stream",
     "text": [
      "accuracy score on logistic regression train set: 0.67883\n",
      "accuracy score on logistic regression test set: 0.67702\n",
      "\n",
      "accuracy score on decision tree classifier train set: 0.99925\n",
      "accuracy score on decision tree classifier test set: 0.56521\n",
      "\n",
      "accuracy score on RandomForest classifier test set: 0.66683\n",
      "accuracy score on RandomForest classifier train set: 0.99194\n"
     ]
    }
   ],
   "source": [
    "# Create and fit a scaler model\n",
    "scaler = StandardScaler().fit(X_train)\n",
    "\n",
    "# Your scaler model can now transform your data\n",
    "X_train_scaled = scaler.transform(X_train)\n",
    "X_test_scaled = scaler.transform(X_test)\n",
    "\n",
    "# Logistic Regression\n",
    "model = LogisticRegression().fit(X_train_scaled,y_train)\n",
    "\n",
    "print(\"accuracy score on logistic regression train set:\",round(model.score(X_train_scaled, y_train), 5))\n",
    "print(\"accuracy score on logistic regression test set:\",round(model.score(X_test_scaled, y_test), 5))\n",
    "print (\"\")\n",
    "\n",
    "# Decision Tree\n",
    "modelDTR = DecisionTreeClassifier()\n",
    "modelDTR.fit(X_train_scaled, y_train)\n",
    "\n",
    "print(\"accuracy score on decision tree classifier train set:\",round(modelDTR.score(X_train_scaled, y_train), 5))\n",
    "print(\"accuracy score on decision tree classifier test set:\",round(modelDTR.score(X_test_scaled, y_test), 5))\n",
    "print (\"\")\n",
    "\n",
    "# Random Forest\n",
    "rfc = RandomForestClassifier(n_estimators=15)\n",
    "rfc.fit(X_train, y_train)\n",
    "\n",
    "print(\"accuracy score on RandomForest classifier test set:\",round(rfc.score(X_test, y_test), 5))\n",
    "print(\"accuracy score on RandomForest classifier train set:\",round(rfc.score(X_train, y_train), 5))"
   ]
  }
 ],
 "metadata": {
  "interpreter": {
   "hash": "78b7e305d27bf9bc60ca6e97d3f20268b064d9f5fcf2d23d574a1486a0310c34"
  },
  "kernelspec": {
   "display_name": "Python 3.8.12 64-bit ('base': conda)",
   "language": "python",
   "name": "python3"
  },
  "language_info": {
   "codemirror_mode": {
    "name": "ipython",
    "version": 3
   },
   "file_extension": ".py",
   "mimetype": "text/x-python",
   "name": "python",
   "nbconvert_exporter": "python",
   "pygments_lexer": "ipython3",
   "version": "3.8.12"
  },
  "orig_nbformat": 4
 },
 "nbformat": 4,
 "nbformat_minor": 2
}
