{
 "cells": [
  {
   "cell_type": "code",
   "execution_count": 483,
   "metadata": {},
   "outputs": [
    {
     "data": {
      "text/html": [
       "<div>\n",
       "<style scoped>\n",
       "    .dataframe tbody tr th:only-of-type {\n",
       "        vertical-align: middle;\n",
       "    }\n",
       "\n",
       "    .dataframe tbody tr th {\n",
       "        vertical-align: top;\n",
       "    }\n",
       "\n",
       "    .dataframe thead th {\n",
       "        text-align: right;\n",
       "    }\n",
       "</style>\n",
       "<table border=\"1\" class=\"dataframe\">\n",
       "  <thead>\n",
       "    <tr style=\"text-align: right;\">\n",
       "      <th></th>\n",
       "      <th>genre</th>\n",
       "      <th>artist_name</th>\n",
       "      <th>track_name</th>\n",
       "      <th>track_id</th>\n",
       "      <th>popularity</th>\n",
       "      <th>acousticness</th>\n",
       "      <th>danceability</th>\n",
       "      <th>duration_ms</th>\n",
       "      <th>energy</th>\n",
       "      <th>instrumentalness</th>\n",
       "      <th>key</th>\n",
       "      <th>liveness</th>\n",
       "      <th>loudness</th>\n",
       "      <th>mode</th>\n",
       "      <th>speechiness</th>\n",
       "      <th>tempo</th>\n",
       "      <th>time_signature</th>\n",
       "      <th>valence</th>\n",
       "    </tr>\n",
       "  </thead>\n",
       "  <tbody>\n",
       "    <tr>\n",
       "      <th>0</th>\n",
       "      <td>Movie</td>\n",
       "      <td>Henri Salvador</td>\n",
       "      <td>C'est beau de faire un Show</td>\n",
       "      <td>0BRjO6ga9RKCKjfDqeFgWV</td>\n",
       "      <td>0</td>\n",
       "      <td>0.611</td>\n",
       "      <td>0.389</td>\n",
       "      <td>99373</td>\n",
       "      <td>0.910</td>\n",
       "      <td>0.000</td>\n",
       "      <td>C#</td>\n",
       "      <td>0.3460</td>\n",
       "      <td>-1.828</td>\n",
       "      <td>Major</td>\n",
       "      <td>0.0525</td>\n",
       "      <td>166.969</td>\n",
       "      <td>4/4</td>\n",
       "      <td>0.814</td>\n",
       "    </tr>\n",
       "    <tr>\n",
       "      <th>1</th>\n",
       "      <td>Movie</td>\n",
       "      <td>Martin &amp; les fées</td>\n",
       "      <td>Perdu d'avance (par Gad Elmaleh)</td>\n",
       "      <td>0BjC1NfoEOOusryehmNudP</td>\n",
       "      <td>1</td>\n",
       "      <td>0.246</td>\n",
       "      <td>0.590</td>\n",
       "      <td>137373</td>\n",
       "      <td>0.737</td>\n",
       "      <td>0.000</td>\n",
       "      <td>F#</td>\n",
       "      <td>0.1510</td>\n",
       "      <td>-5.559</td>\n",
       "      <td>Minor</td>\n",
       "      <td>0.0868</td>\n",
       "      <td>174.003</td>\n",
       "      <td>4/4</td>\n",
       "      <td>0.816</td>\n",
       "    </tr>\n",
       "    <tr>\n",
       "      <th>2</th>\n",
       "      <td>Movie</td>\n",
       "      <td>Joseph Williams</td>\n",
       "      <td>Don't Let Me Be Lonely Tonight</td>\n",
       "      <td>0CoSDzoNIKCRs124s9uTVy</td>\n",
       "      <td>3</td>\n",
       "      <td>0.952</td>\n",
       "      <td>0.663</td>\n",
       "      <td>170267</td>\n",
       "      <td>0.131</td>\n",
       "      <td>0.000</td>\n",
       "      <td>C</td>\n",
       "      <td>0.1030</td>\n",
       "      <td>-13.879</td>\n",
       "      <td>Minor</td>\n",
       "      <td>0.0362</td>\n",
       "      <td>99.488</td>\n",
       "      <td>5/4</td>\n",
       "      <td>0.368</td>\n",
       "    </tr>\n",
       "    <tr>\n",
       "      <th>3</th>\n",
       "      <td>Movie</td>\n",
       "      <td>Henri Salvador</td>\n",
       "      <td>Dis-moi Monsieur Gordon Cooper</td>\n",
       "      <td>0Gc6TVm52BwZD07Ki6tIvf</td>\n",
       "      <td>0</td>\n",
       "      <td>0.703</td>\n",
       "      <td>0.240</td>\n",
       "      <td>152427</td>\n",
       "      <td>0.326</td>\n",
       "      <td>0.000</td>\n",
       "      <td>C#</td>\n",
       "      <td>0.0985</td>\n",
       "      <td>-12.178</td>\n",
       "      <td>Major</td>\n",
       "      <td>0.0395</td>\n",
       "      <td>171.758</td>\n",
       "      <td>4/4</td>\n",
       "      <td>0.227</td>\n",
       "    </tr>\n",
       "    <tr>\n",
       "      <th>4</th>\n",
       "      <td>Movie</td>\n",
       "      <td>Fabien Nataf</td>\n",
       "      <td>Ouverture</td>\n",
       "      <td>0IuslXpMROHdEPvSl1fTQK</td>\n",
       "      <td>4</td>\n",
       "      <td>0.950</td>\n",
       "      <td>0.331</td>\n",
       "      <td>82625</td>\n",
       "      <td>0.225</td>\n",
       "      <td>0.123</td>\n",
       "      <td>F</td>\n",
       "      <td>0.2020</td>\n",
       "      <td>-21.150</td>\n",
       "      <td>Major</td>\n",
       "      <td>0.0456</td>\n",
       "      <td>140.576</td>\n",
       "      <td>4/4</td>\n",
       "      <td>0.390</td>\n",
       "    </tr>\n",
       "  </tbody>\n",
       "</table>\n",
       "</div>"
      ],
      "text/plain": [
       "   genre        artist_name                        track_name  \\\n",
       "0  Movie     Henri Salvador       C'est beau de faire un Show   \n",
       "1  Movie  Martin & les fées  Perdu d'avance (par Gad Elmaleh)   \n",
       "2  Movie    Joseph Williams    Don't Let Me Be Lonely Tonight   \n",
       "3  Movie     Henri Salvador    Dis-moi Monsieur Gordon Cooper   \n",
       "4  Movie       Fabien Nataf                         Ouverture   \n",
       "\n",
       "                 track_id  popularity  acousticness  danceability  \\\n",
       "0  0BRjO6ga9RKCKjfDqeFgWV           0         0.611         0.389   \n",
       "1  0BjC1NfoEOOusryehmNudP           1         0.246         0.590   \n",
       "2  0CoSDzoNIKCRs124s9uTVy           3         0.952         0.663   \n",
       "3  0Gc6TVm52BwZD07Ki6tIvf           0         0.703         0.240   \n",
       "4  0IuslXpMROHdEPvSl1fTQK           4         0.950         0.331   \n",
       "\n",
       "   duration_ms  energy  instrumentalness key  liveness  loudness   mode  \\\n",
       "0        99373   0.910             0.000  C#    0.3460    -1.828  Major   \n",
       "1       137373   0.737             0.000  F#    0.1510    -5.559  Minor   \n",
       "2       170267   0.131             0.000   C    0.1030   -13.879  Minor   \n",
       "3       152427   0.326             0.000  C#    0.0985   -12.178  Major   \n",
       "4        82625   0.225             0.123   F    0.2020   -21.150  Major   \n",
       "\n",
       "   speechiness    tempo time_signature  valence  \n",
       "0       0.0525  166.969            4/4    0.814  \n",
       "1       0.0868  174.003            4/4    0.816  \n",
       "2       0.0362   99.488            5/4    0.368  \n",
       "3       0.0395  171.758            4/4    0.227  \n",
       "4       0.0456  140.576            4/4    0.390  "
      ]
     },
     "execution_count": 483,
     "metadata": {},
     "output_type": "execute_result"
    }
   ],
   "source": [
    "import pandas as pd\n",
    "import seaborn as sns\n",
    "from sklearn.model_selection import train_test_split\n",
    "from sklearn.linear_model import LinearRegression\n",
    "import seaborn as sns\n",
    "import matplotlib.pyplot as plt\n",
    "import plotly.express as px\n",
    "import plotly.graph_objects as go\n",
    "from sklearn.model_selection import cross_val_score\n",
    "import numpy as np\n",
    "import math\n",
    "from sklearn.linear_model import LogisticRegression\n",
    "from sklearn.tree import DecisionTreeClassifier\n",
    "from sklearn.neighbors import KNeighborsClassifier\n",
    "from sklearn.ensemble import RandomForestClassifier\n",
    "from sklearn.preprocessing import StandardScaler\n",
    "from sklearn.model_selection import RandomizedSearchCV\n",
    "from sklearn.model_selection import GridSearchCV\n",
    "\n",
    "url = \"https://raw.githubusercontent.com/murpi/wilddata/master/quests/spotify.zip\"\n",
    "df_music = pd.read_csv(url)\n",
    "df_music.head()"
   ]
  },
  {
   "cell_type": "code",
   "execution_count": 484,
   "metadata": {},
   "outputs": [],
   "source": [
    "# There is two genre with similar name: \"Children’s Music\" and \"Children's Music\". I rename it before a merge with the following get dummies\n",
    "df_music[\"genre\"].replace('Children’s Music', \"Children's Music\", inplace=True)\n",
    "\n",
    "# Get dummies on genre for Machine Learning Usage\n",
    "df_music_dumies = pd.concat([df_music , df_music['genre'].str.get_dummies()], axis = 1)\n",
    "\n",
    "# Factorization of \"mode\"\n",
    "df_music_dumies['mode'] = df_music_dumies['mode'].factorize()[0]"
   ]
  },
  {
   "cell_type": "code",
   "execution_count": 487,
   "metadata": {},
   "outputs": [
    {
     "ename": "ValueError",
     "evalue": "Columns must be same length as key",
     "output_type": "error",
     "traceback": [
      "\u001b[1;31m---------------------------------------------------------------------------\u001b[0m",
      "\u001b[1;31mValueError\u001b[0m                                Traceback (most recent call last)",
      "\u001b[1;32m~\\AppData\\Local\\Temp/ipykernel_19692/3547405134.py\u001b[0m in \u001b[0;36m<module>\u001b[1;34m\u001b[0m\n\u001b[1;32m----> 1\u001b[1;33m \u001b[0mdf_music_dumies\u001b[0m\u001b[1;33m[\u001b[0m\u001b[1;34m'duration_ms'\u001b[0m\u001b[1;33m]\u001b[0m \u001b[1;33m=\u001b[0m \u001b[0mdf_music_dumies\u001b[0m\u001b[1;33m.\u001b[0m\u001b[0mloc\u001b[0m\u001b[1;33m[\u001b[0m\u001b[0mdf_music_dumies\u001b[0m\u001b[1;33m[\u001b[0m\u001b[1;34m'duration_ms'\u001b[0m\u001b[1;33m]\u001b[0m \u001b[1;33m>=\u001b[0m \u001b[1;36m90000\u001b[0m\u001b[1;33m]\u001b[0m\u001b[1;33m\u001b[0m\u001b[1;33m\u001b[0m\u001b[0m\n\u001b[0m\u001b[0;32m      2\u001b[0m \u001b[1;31m#df_music_dumies['duration_ms'] = df_music_dumies.loc[df_music_dumies['duration_ms'] <= 900000]\u001b[0m\u001b[1;33m\u001b[0m\u001b[1;33m\u001b[0m\u001b[1;33m\u001b[0m\u001b[0m\n",
      "\u001b[1;32m~\\anaconda3\\lib\\site-packages\\pandas\\core\\frame.py\u001b[0m in \u001b[0;36m__setitem__\u001b[1;34m(self, key, value)\u001b[0m\n\u001b[0;32m   3600\u001b[0m             \u001b[0mself\u001b[0m\u001b[1;33m.\u001b[0m\u001b[0m_setitem_array\u001b[0m\u001b[1;33m(\u001b[0m\u001b[0mkey\u001b[0m\u001b[1;33m,\u001b[0m \u001b[0mvalue\u001b[0m\u001b[1;33m)\u001b[0m\u001b[1;33m\u001b[0m\u001b[1;33m\u001b[0m\u001b[0m\n\u001b[0;32m   3601\u001b[0m         \u001b[1;32melif\u001b[0m \u001b[0misinstance\u001b[0m\u001b[1;33m(\u001b[0m\u001b[0mvalue\u001b[0m\u001b[1;33m,\u001b[0m \u001b[0mDataFrame\u001b[0m\u001b[1;33m)\u001b[0m\u001b[1;33m:\u001b[0m\u001b[1;33m\u001b[0m\u001b[1;33m\u001b[0m\u001b[0m\n\u001b[1;32m-> 3602\u001b[1;33m             \u001b[0mself\u001b[0m\u001b[1;33m.\u001b[0m\u001b[0m_set_item_frame_value\u001b[0m\u001b[1;33m(\u001b[0m\u001b[0mkey\u001b[0m\u001b[1;33m,\u001b[0m \u001b[0mvalue\u001b[0m\u001b[1;33m)\u001b[0m\u001b[1;33m\u001b[0m\u001b[1;33m\u001b[0m\u001b[0m\n\u001b[0m\u001b[0;32m   3603\u001b[0m         elif (\n\u001b[0;32m   3604\u001b[0m             \u001b[0mis_list_like\u001b[0m\u001b[1;33m(\u001b[0m\u001b[0mvalue\u001b[0m\u001b[1;33m)\u001b[0m\u001b[1;33m\u001b[0m\u001b[1;33m\u001b[0m\u001b[0m\n",
      "\u001b[1;32m~\\anaconda3\\lib\\site-packages\\pandas\\core\\frame.py\u001b[0m in \u001b[0;36m_set_item_frame_value\u001b[1;34m(self, key, value)\u001b[0m\n\u001b[0;32m   3727\u001b[0m             \u001b[0mlen_cols\u001b[0m \u001b[1;33m=\u001b[0m \u001b[1;36m1\u001b[0m \u001b[1;32mif\u001b[0m \u001b[0mis_scalar\u001b[0m\u001b[1;33m(\u001b[0m\u001b[0mcols\u001b[0m\u001b[1;33m)\u001b[0m \u001b[1;32melse\u001b[0m \u001b[0mlen\u001b[0m\u001b[1;33m(\u001b[0m\u001b[0mcols\u001b[0m\u001b[1;33m)\u001b[0m\u001b[1;33m\u001b[0m\u001b[1;33m\u001b[0m\u001b[0m\n\u001b[0;32m   3728\u001b[0m             \u001b[1;32mif\u001b[0m \u001b[0mlen_cols\u001b[0m \u001b[1;33m!=\u001b[0m \u001b[0mlen\u001b[0m\u001b[1;33m(\u001b[0m\u001b[0mvalue\u001b[0m\u001b[1;33m.\u001b[0m\u001b[0mcolumns\u001b[0m\u001b[1;33m)\u001b[0m\u001b[1;33m:\u001b[0m\u001b[1;33m\u001b[0m\u001b[1;33m\u001b[0m\u001b[0m\n\u001b[1;32m-> 3729\u001b[1;33m                 \u001b[1;32mraise\u001b[0m \u001b[0mValueError\u001b[0m\u001b[1;33m(\u001b[0m\u001b[1;34m\"Columns must be same length as key\"\u001b[0m\u001b[1;33m)\u001b[0m\u001b[1;33m\u001b[0m\u001b[1;33m\u001b[0m\u001b[0m\n\u001b[0m\u001b[0;32m   3730\u001b[0m \u001b[1;33m\u001b[0m\u001b[0m\n\u001b[0;32m   3731\u001b[0m             \u001b[1;31m# align right-hand-side columns if self.columns\u001b[0m\u001b[1;33m\u001b[0m\u001b[1;33m\u001b[0m\u001b[1;33m\u001b[0m\u001b[0m\n",
      "\u001b[1;31mValueError\u001b[0m: Columns must be same length as key"
     ]
    }
   ],
   "source": [
    "df_music_dumies['duration_ms'] = df_music_dumies.loc[df_music_dumies['duration_ms'] >= 90000]\n",
    "#df_music_dumies['duration_ms'] = df_music_dumies.loc[df_music_dumies['duration_ms'] <= 900000]"
   ]
  },
  {
   "cell_type": "code",
   "execution_count": null,
   "metadata": {},
   "outputs": [
    {
     "name": "stdout",
     "output_type": "stream",
     "text": [
      "accuracy score on train set: 0.6220407995441986\n",
      "accuracy score on test set: 0.6243868124869434\n"
     ]
    }
   ],
   "source": [
    "# Linear regression first test\n",
    "\n",
    "X = df_music_dumies[[\n",
    "       'acousticness', 'danceability', 'duration_ms', 'energy',\n",
    "       'instrumentalness', 'liveness', 'loudness', 'mode',\n",
    "       'speechiness', 'tempo', 'valence', 'A Capella',\n",
    "       'Alternative', 'Anime', 'Blues', \"Children's Music\",\n",
    "       'Classical', 'Comedy', 'Country', 'Dance', 'Electronic', 'Folk',\n",
    "       'Hip-Hop', 'Indie', 'Jazz', 'Movie', 'Opera', 'Pop', 'R&B', 'Rap',\n",
    "       'Reggae', 'Reggaeton', 'Rock', 'Ska', 'Soul', 'Soundtrack', 'World']]\n",
    "       \n",
    "y = df_music_dumies['popularity']\n",
    "\n",
    "X_train, X_test, y_train, y_test = train_test_split(X, y, train_size = 0.8)\n",
    "\n",
    "modelLR = LinearRegression().fit(X_train,y_train)\n",
    "\n",
    "print(\"accuracy score on train set:\",modelLR.score(X_train, y_train))\n",
    "print(\"accuracy score on test set:\",modelLR.score(X_test, y_test))"
   ]
  },
  {
   "cell_type": "code",
   "execution_count": null,
   "metadata": {},
   "outputs": [],
   "source": [
    "# Get dummies on key for Machine Learning Usage\n",
    "\n",
    "df_music_dumies_keys = pd.concat([df_music_dumies , df_music_dumies['key'].str.get_dummies()], axis = 1)"
   ]
  },
  {
   "cell_type": "code",
   "execution_count": null,
   "metadata": {},
   "outputs": [
    {
     "name": "stdout",
     "output_type": "stream",
     "text": [
      "accuracy score on train set: 0.6231701546541846\n",
      "accuracy score on test set: 0.6218618238573941\n"
     ]
    }
   ],
   "source": [
    "X = df_music_dumies_keys[[\n",
    "       'acousticness', 'danceability', 'duration_ms', 'energy',\n",
    "       'instrumentalness', 'liveness', 'loudness', 'mode',\n",
    "       'speechiness', 'tempo', 'valence', 'A Capella',\n",
    "       'Alternative', 'Anime', 'Blues', \"Children's Music\",\n",
    "       'Classical', 'Comedy', 'Country', 'Dance', 'Electronic', 'Folk',\n",
    "       'Hip-Hop', 'Indie', 'Jazz', 'Movie', 'Opera', 'Pop', 'R&B', 'Rap',\n",
    "       'Reggae', 'Reggaeton', 'Rock', 'Ska', 'Soul', 'Soundtrack', 'World', 'A', 'A#', 'B', 'C', 'C#',\n",
    "       'D', 'D#', 'E', 'F', 'F#', 'G', 'G#']]\n",
    "\n",
    "y = df_music_dumies_keys['popularity']\n",
    "\n",
    "X_train, X_test, y_train, y_test = train_test_split(X, y, train_size = 0.75)\n",
    "\n",
    "modelLR = LinearRegression().fit(X_train,y_train)\n",
    "\n",
    "print(\"accuracy score on train set:\",modelLR.score(X_train, y_train))\n",
    "print(\"accuracy score on test set:\",modelLR.score(X_test, y_test))"
   ]
  },
  {
   "cell_type": "code",
   "execution_count": null,
   "metadata": {},
   "outputs": [
    {
     "data": {
      "text/plain": [
       "array([ 0.10732396, -0.01424236, -0.23472697,  0.13938638, -0.84604192,\n",
       "        0.40047679])"
      ]
     },
     "execution_count": 446,
     "metadata": {},
     "output_type": "execute_result"
    }
   ],
   "source": [
    "cross_val_score(LinearRegression(), X, y, scoring=\"r2\", cv = 6)"
   ]
  },
  {
   "cell_type": "code",
   "execution_count": null,
   "metadata": {},
   "outputs": [],
   "source": [
    "# Function to split the popularity in 5 classes in order to use a classification Machine Learning method (suggested by Tarik as he says it's better than Linear Regression here)\n",
    "\n",
    "def popularity_score(popularity):\n",
    "  popularity = popularity / 20\n",
    "  popularity = math.ceil(popularity)\n",
    "  return popularity"
   ]
  },
  {
   "cell_type": "code",
   "execution_count": null,
   "metadata": {},
   "outputs": [],
   "source": [
    "# Applying the function\n",
    "\n",
    "df_music_dumies_keys[\"popularity_score\"] = df_music[\"popularity\"].apply(popularity_score)"
   ]
  },
  {
   "cell_type": "code",
   "execution_count": null,
   "metadata": {},
   "outputs": [
    {
     "name": "stdout",
     "output_type": "stream",
     "text": [
      "<class 'pandas.core.frame.DataFrame'>\n",
      "RangeIndex: 232725 entries, 0 to 232724\n",
      "Data columns (total 51 columns):\n",
      " #   Column            Non-Null Count   Dtype  \n",
      "---  ------            --------------   -----  \n",
      " 0   popularity        232725 non-null  int64  \n",
      " 1   acousticness      232725 non-null  float64\n",
      " 2   danceability      232725 non-null  float64\n",
      " 3   duration_ms       232725 non-null  int64  \n",
      " 4   energy            232725 non-null  float64\n",
      " 5   instrumentalness  232725 non-null  float64\n",
      " 6   liveness          232725 non-null  float64\n",
      " 7   loudness          232725 non-null  float64\n",
      " 8   mode              232725 non-null  int64  \n",
      " 9   speechiness       232725 non-null  float64\n",
      " 10  tempo             232725 non-null  float64\n",
      " 11  valence           232725 non-null  float64\n",
      " 12  A Capella         232725 non-null  int64  \n",
      " 13  Alternative       232725 non-null  int64  \n",
      " 14  Anime             232725 non-null  int64  \n",
      " 15  Blues             232725 non-null  int64  \n",
      " 16  Children's Music  232725 non-null  int64  \n",
      " 17  Classical         232725 non-null  int64  \n",
      " 18  Comedy            232725 non-null  int64  \n",
      " 19  Country           232725 non-null  int64  \n",
      " 20  Dance             232725 non-null  int64  \n",
      " 21  Electronic        232725 non-null  int64  \n",
      " 22  Folk              232725 non-null  int64  \n",
      " 23  Hip-Hop           232725 non-null  int64  \n",
      " 24  Indie             232725 non-null  int64  \n",
      " 25  Jazz              232725 non-null  int64  \n",
      " 26  Movie             232725 non-null  int64  \n",
      " 27  Opera             232725 non-null  int64  \n",
      " 28  Pop               232725 non-null  int64  \n",
      " 29  R&B               232725 non-null  int64  \n",
      " 30  Rap               232725 non-null  int64  \n",
      " 31  Reggae            232725 non-null  int64  \n",
      " 32  Reggaeton         232725 non-null  int64  \n",
      " 33  Rock              232725 non-null  int64  \n",
      " 34  Ska               232725 non-null  int64  \n",
      " 35  Soul              232725 non-null  int64  \n",
      " 36  Soundtrack        232725 non-null  int64  \n",
      " 37  World             232725 non-null  int64  \n",
      " 38  A                 232725 non-null  int64  \n",
      " 39  A#                232725 non-null  int64  \n",
      " 40  B                 232725 non-null  int64  \n",
      " 41  C                 232725 non-null  int64  \n",
      " 42  C#                232725 non-null  int64  \n",
      " 43  D                 232725 non-null  int64  \n",
      " 44  D#                232725 non-null  int64  \n",
      " 45  E                 232725 non-null  int64  \n",
      " 46  F                 232725 non-null  int64  \n",
      " 47  F#                232725 non-null  int64  \n",
      " 48  G                 232725 non-null  int64  \n",
      " 49  G#                232725 non-null  int64  \n",
      " 50  popularity_score  232725 non-null  int64  \n",
      "dtypes: float64(9), int64(42)\n",
      "memory usage: 90.6 MB\n"
     ]
    }
   ],
   "source": [
    "cols = ['genre', 'artist_name', 'track_name', 'track_id', 'key', 'time_signature']\n",
    "df_music_dumies_keys.drop(cols, axis=1, inplace=True)\n",
    "\n",
    "df_music_dumies_keys.info()"
   ]
  },
  {
   "cell_type": "code",
   "execution_count": null,
   "metadata": {},
   "outputs": [
    {
     "data": {
      "text/plain": [
       "3    95006\n",
       "2    72744\n",
       "4    31546\n",
       "1    26128\n",
       "0     6312\n",
       "5      989\n",
       "Name: popularity_score, dtype: int64"
      ]
     },
     "execution_count": 450,
     "metadata": {},
     "output_type": "execute_result"
    }
   ],
   "source": [
    "df_music_dumies_keys[\"popularity_score\"].value_counts()"
   ]
  },
  {
   "cell_type": "code",
   "execution_count": null,
   "metadata": {},
   "outputs": [],
   "source": [
    "# As we can see, there is column with a popularity of 0 and we wonder if it has a positive or negative impact on the Machine learning\n",
    "# We create two dataset for our tests, one with the 0 pop value and one without this value\n",
    "\n",
    "df_music_with_0_pop = df_music_dumies_keys\n",
    "df_music_without_0_pop = df_music_dumies_keys[df_music_dumies_keys['popularity_score'] != 0]"
   ]
  },
  {
   "cell_type": "code",
   "execution_count": null,
   "metadata": {},
   "outputs": [
    {
     "data": {
      "text/plain": [
       "3    95006\n",
       "2    72744\n",
       "4    31546\n",
       "1    26128\n",
       "5      989\n",
       "Name: popularity_score, dtype: int64"
      ]
     },
     "execution_count": 452,
     "metadata": {},
     "output_type": "execute_result"
    }
   ],
   "source": [
    "df_music_without_0_pop[\"popularity_score\"].value_counts()"
   ]
  },
  {
   "cell_type": "code",
   "execution_count": null,
   "metadata": {},
   "outputs": [
    {
     "data": {
      "text/html": [
       "<div>\n",
       "<style scoped>\n",
       "    .dataframe tbody tr th:only-of-type {\n",
       "        vertical-align: middle;\n",
       "    }\n",
       "\n",
       "    .dataframe tbody tr th {\n",
       "        vertical-align: top;\n",
       "    }\n",
       "\n",
       "    .dataframe thead th {\n",
       "        text-align: right;\n",
       "    }\n",
       "</style>\n",
       "<table border=\"1\" class=\"dataframe\">\n",
       "  <thead>\n",
       "    <tr style=\"text-align: right;\">\n",
       "      <th></th>\n",
       "      <th>popularity</th>\n",
       "      <th>acousticness</th>\n",
       "      <th>danceability</th>\n",
       "      <th>duration_ms</th>\n",
       "      <th>energy</th>\n",
       "      <th>instrumentalness</th>\n",
       "      <th>liveness</th>\n",
       "      <th>loudness</th>\n",
       "      <th>mode</th>\n",
       "      <th>speechiness</th>\n",
       "      <th>...</th>\n",
       "      <th>C</th>\n",
       "      <th>C#</th>\n",
       "      <th>D</th>\n",
       "      <th>D#</th>\n",
       "      <th>E</th>\n",
       "      <th>F</th>\n",
       "      <th>F#</th>\n",
       "      <th>G</th>\n",
       "      <th>G#</th>\n",
       "      <th>popularity_score</th>\n",
       "    </tr>\n",
       "  </thead>\n",
       "  <tbody>\n",
       "    <tr>\n",
       "      <th>1</th>\n",
       "      <td>1</td>\n",
       "      <td>0.246</td>\n",
       "      <td>0.590</td>\n",
       "      <td>137373</td>\n",
       "      <td>0.737</td>\n",
       "      <td>0.000</td>\n",
       "      <td>0.151</td>\n",
       "      <td>-5.559</td>\n",
       "      <td>1</td>\n",
       "      <td>0.0868</td>\n",
       "      <td>...</td>\n",
       "      <td>0</td>\n",
       "      <td>0</td>\n",
       "      <td>0</td>\n",
       "      <td>0</td>\n",
       "      <td>0</td>\n",
       "      <td>0</td>\n",
       "      <td>1</td>\n",
       "      <td>0</td>\n",
       "      <td>0</td>\n",
       "      <td>1</td>\n",
       "    </tr>\n",
       "    <tr>\n",
       "      <th>2</th>\n",
       "      <td>3</td>\n",
       "      <td>0.952</td>\n",
       "      <td>0.663</td>\n",
       "      <td>170267</td>\n",
       "      <td>0.131</td>\n",
       "      <td>0.000</td>\n",
       "      <td>0.103</td>\n",
       "      <td>-13.879</td>\n",
       "      <td>1</td>\n",
       "      <td>0.0362</td>\n",
       "      <td>...</td>\n",
       "      <td>1</td>\n",
       "      <td>0</td>\n",
       "      <td>0</td>\n",
       "      <td>0</td>\n",
       "      <td>0</td>\n",
       "      <td>0</td>\n",
       "      <td>0</td>\n",
       "      <td>0</td>\n",
       "      <td>0</td>\n",
       "      <td>1</td>\n",
       "    </tr>\n",
       "    <tr>\n",
       "      <th>4</th>\n",
       "      <td>4</td>\n",
       "      <td>0.950</td>\n",
       "      <td>0.331</td>\n",
       "      <td>82625</td>\n",
       "      <td>0.225</td>\n",
       "      <td>0.123</td>\n",
       "      <td>0.202</td>\n",
       "      <td>-21.150</td>\n",
       "      <td>0</td>\n",
       "      <td>0.0456</td>\n",
       "      <td>...</td>\n",
       "      <td>0</td>\n",
       "      <td>0</td>\n",
       "      <td>0</td>\n",
       "      <td>0</td>\n",
       "      <td>0</td>\n",
       "      <td>1</td>\n",
       "      <td>0</td>\n",
       "      <td>0</td>\n",
       "      <td>0</td>\n",
       "      <td>1</td>\n",
       "    </tr>\n",
       "    <tr>\n",
       "      <th>6</th>\n",
       "      <td>2</td>\n",
       "      <td>0.344</td>\n",
       "      <td>0.703</td>\n",
       "      <td>212293</td>\n",
       "      <td>0.270</td>\n",
       "      <td>0.000</td>\n",
       "      <td>0.105</td>\n",
       "      <td>-12.675</td>\n",
       "      <td>0</td>\n",
       "      <td>0.9530</td>\n",
       "      <td>...</td>\n",
       "      <td>0</td>\n",
       "      <td>1</td>\n",
       "      <td>0</td>\n",
       "      <td>0</td>\n",
       "      <td>0</td>\n",
       "      <td>0</td>\n",
       "      <td>0</td>\n",
       "      <td>0</td>\n",
       "      <td>0</td>\n",
       "      <td>1</td>\n",
       "    </tr>\n",
       "    <tr>\n",
       "      <th>7</th>\n",
       "      <td>15</td>\n",
       "      <td>0.939</td>\n",
       "      <td>0.416</td>\n",
       "      <td>240067</td>\n",
       "      <td>0.269</td>\n",
       "      <td>0.000</td>\n",
       "      <td>0.113</td>\n",
       "      <td>-8.949</td>\n",
       "      <td>0</td>\n",
       "      <td>0.0286</td>\n",
       "      <td>...</td>\n",
       "      <td>0</td>\n",
       "      <td>0</td>\n",
       "      <td>0</td>\n",
       "      <td>0</td>\n",
       "      <td>0</td>\n",
       "      <td>0</td>\n",
       "      <td>1</td>\n",
       "      <td>0</td>\n",
       "      <td>0</td>\n",
       "      <td>1</td>\n",
       "    </tr>\n",
       "  </tbody>\n",
       "</table>\n",
       "<p>5 rows × 51 columns</p>\n",
       "</div>"
      ],
      "text/plain": [
       "   popularity  acousticness  danceability  duration_ms  energy  \\\n",
       "1           1         0.246         0.590       137373   0.737   \n",
       "2           3         0.952         0.663       170267   0.131   \n",
       "4           4         0.950         0.331        82625   0.225   \n",
       "6           2         0.344         0.703       212293   0.270   \n",
       "7          15         0.939         0.416       240067   0.269   \n",
       "\n",
       "   instrumentalness  liveness  loudness  mode  speechiness  ...  C  C#  D  D#  \\\n",
       "1             0.000     0.151    -5.559     1       0.0868  ...  0   0  0   0   \n",
       "2             0.000     0.103   -13.879     1       0.0362  ...  1   0  0   0   \n",
       "4             0.123     0.202   -21.150     0       0.0456  ...  0   0  0   0   \n",
       "6             0.000     0.105   -12.675     0       0.9530  ...  0   1  0   0   \n",
       "7             0.000     0.113    -8.949     0       0.0286  ...  0   0  0   0   \n",
       "\n",
       "   E  F  F#  G  G#  popularity_score  \n",
       "1  0  0   1  0   0                 1  \n",
       "2  0  0   0  0   0                 1  \n",
       "4  0  1   0  0   0                 1  \n",
       "6  0  0   0  0   0                 1  \n",
       "7  0  0   1  0   0                 1  \n",
       "\n",
       "[5 rows x 51 columns]"
      ]
     },
     "execution_count": 453,
     "metadata": {},
     "output_type": "execute_result"
    }
   ],
   "source": [
    "df_music_without_0_pop.head()"
   ]
  },
  {
   "cell_type": "code",
   "execution_count": null,
   "metadata": {},
   "outputs": [
    {
     "data": {
      "text/plain": [
       "Index(['popularity', 'acousticness', 'danceability', 'duration_ms', 'energy',\n",
       "       'instrumentalness', 'liveness', 'loudness', 'mode', 'speechiness',\n",
       "       'tempo', 'valence', 'A Capella', 'Alternative', 'Anime', 'Blues',\n",
       "       'Children's Music', 'Classical', 'Comedy', 'Country', 'Dance',\n",
       "       'Electronic', 'Folk', 'Hip-Hop', 'Indie', 'Jazz', 'Movie', 'Opera',\n",
       "       'Pop', 'R&B', 'Rap', 'Reggae', 'Reggaeton', 'Rock', 'Ska', 'Soul',\n",
       "       'Soundtrack', 'World', 'A', 'A#', 'B', 'C', 'C#', 'D', 'D#', 'E', 'F',\n",
       "       'F#', 'G', 'G#', 'popularity_score'],\n",
       "      dtype='object')"
      ]
     },
     "execution_count": 454,
     "metadata": {},
     "output_type": "execute_result"
    }
   ],
   "source": [
    "df_music_dumies_keys.columns"
   ]
  },
  {
   "cell_type": "code",
   "execution_count": null,
   "metadata": {},
   "outputs": [],
   "source": [
    "cols = ['acousticness', 'danceability', 'duration_ms', 'energy',\n",
    "       'instrumentalness', 'liveness', 'loudness', 'mode',\n",
    "       'speechiness', 'tempo', 'valence', 'A Capella',\n",
    "       'Alternative', 'Anime', 'Blues', \"Children's Music\",\n",
    "       'Classical', 'Comedy', 'Country', 'Dance', 'Electronic', 'Folk',\n",
    "       'Hip-Hop', 'Indie', 'Jazz', 'Movie', 'Opera', 'Pop', 'R&B', 'Rap',\n",
    "       'Reggae', 'Reggaeton', 'Rock', 'Ska', 'Soul', 'Soundtrack', 'World']\n",
    "\n",
    "X = df_music_with_0_pop[cols]\n",
    "y = df_music_with_0_pop['popularity_score']"
   ]
  },
  {
   "cell_type": "code",
   "execution_count": null,
   "metadata": {},
   "outputs": [
    {
     "name": "stdout",
     "output_type": "stream",
     "text": [
      "accuracy score on logistic regression test set: 0.42327\n",
      "accuracy score on logistic regression train set: 0.41846\n",
      "\n",
      "accuracy score on decision tree classifier test set: 0.55181\n",
      "accuracy score on decision tree classifier train set: 0.99934\n",
      "\n",
      "accuracy score on RandomForest classifier test set: 0.65607\n",
      "accuracy score on RandomForest classifier train set: 0.99171\n"
     ]
    }
   ],
   "source": [
    "# # Test with the value 0 in popularity\n",
    "\n",
    "# X_train, X_test, y_train, y_test = train_test_split(X, y, random_state = 2, train_size=0.6)\n",
    "\n",
    "# # Logistic Regression\n",
    "# model = LogisticRegression().fit(X_train,y_train)\n",
    "\n",
    "# print(\"accuracy score on logistic regression test set:\",round(model.score(X_test, y_test), 5))\n",
    "# print(\"accuracy score on logistic regression train set:\",round(model.score(X_train, y_train), 5))\n",
    "# print (\"\")\n",
    "\n",
    "\n",
    "# # Decision Tree\n",
    "# modelDTR = DecisionTreeClassifier()\n",
    "# modelDTR.fit(X_train, y_train)\n",
    "\n",
    "# print(\"accuracy score on decision tree classifier test set:\",round(modelDTR.score(X_test, y_test), 5))\n",
    "# print(\"accuracy score on decision tree classifier train set:\",round(modelDTR.score(X_train, y_train), 5))\n",
    "# print (\"\")\n",
    "\n",
    "# # Random Forest\n",
    "# rfc = RandomForestClassifier(n_estimators=15)\n",
    "# rfc.fit(X_train, y_train)\n",
    "\n",
    "# print(\"accuracy score on RandomForest classifier test set:\",round(rfc.score(X_test, y_test), 5))\n",
    "# print(\"accuracy score on RandomForest classifier train set:\",round(rfc.score(X_train, y_train), 5))"
   ]
  },
  {
   "cell_type": "code",
   "execution_count": null,
   "metadata": {},
   "outputs": [
    {
     "name": "stdout",
     "output_type": "stream",
     "text": [
      "accuracy score on logistic regression test set: 0.4211\n",
      "accuracy score on logistic regression train set: 0.41912\n",
      "\n",
      "accuracy score on decision tree classifier test set: 0.56892\n",
      "accuracy score on decision tree classifier train set: 0.99925\n",
      "\n",
      "accuracy score on RandomForest classifier test set: 0.67059\n",
      "accuracy score on RandomForest classifier train set: 0.99188\n"
     ]
    }
   ],
   "source": [
    "# Test without the value 0 in popularity\n",
    "\n",
    "X = df_music_without_0_pop[cols]\n",
    "y = df_music_without_0_pop['popularity_score']\n",
    "\n",
    "X_train, X_test, y_train, y_test = train_test_split(X, y, train_size=0.75)\n",
    "\n",
    "# Logistic Regression\n",
    "model = LogisticRegression().fit(X_train,y_train)\n",
    "\n",
    "print(\"accuracy score on logistic regression test set:\",round(model.score(X_test, y_test), 5))\n",
    "print(\"accuracy score on logistic regression train set:\",round(model.score(X_train, y_train), 5))\n",
    "print (\"\")\n",
    "\n",
    "\n",
    "# Decision Tree\n",
    "modelDTR = DecisionTreeClassifier()\n",
    "modelDTR.fit(X_train, y_train)\n",
    "\n",
    "print(\"accuracy score on decision tree classifier test set:\",round(modelDTR.score(X_test, y_test), 5))\n",
    "print(\"accuracy score on decision tree classifier train set:\",round(modelDTR.score(X_train, y_train), 5))\n",
    "print (\"\")\n",
    "\n",
    "# Random Forest\n",
    "rfc = RandomForestClassifier(n_estimators=15)\n",
    "rfc.fit(X_train, y_train)\n",
    "\n",
    "print(\"accuracy score on RandomForest classifier test set:\",round(rfc.score(X_test, y_test), 5))\n",
    "print(\"accuracy score on RandomForest classifier train set:\",round(rfc.score(X_train, y_train), 5))"
   ]
  },
  {
   "cell_type": "code",
   "execution_count": null,
   "metadata": {},
   "outputs": [],
   "source": [
    "df_music_dumies_keys.to_csv(\"..\\data\\music_dumies.csv.zip\", header = True, compression = \"zip\")"
   ]
  },
  {
   "cell_type": "code",
   "execution_count": null,
   "metadata": {},
   "outputs": [
    {
     "name": "stderr",
     "output_type": "stream",
     "text": [
      "C:\\Users\\Berenger\\anaconda3\\lib\\site-packages\\sklearn\\linear_model\\_logistic.py:763: ConvergenceWarning: lbfgs failed to converge (status=1):\n",
      "STOP: TOTAL NO. of ITERATIONS REACHED LIMIT.\n",
      "\n",
      "Increase the number of iterations (max_iter) or scale the data as shown in:\n",
      "    https://scikit-learn.org/stable/modules/preprocessing.html\n",
      "Please also refer to the documentation for alternative solver options:\n",
      "    https://scikit-learn.org/stable/modules/linear_model.html#logistic-regression\n",
      "  n_iter_i = _check_optimize_result(\n"
     ]
    },
    {
     "name": "stdout",
     "output_type": "stream",
     "text": [
      "accuracy score on logistic regression train set: 0.67821\n",
      "accuracy score on logistic regression test set: 0.67903\n",
      "\n",
      "accuracy score on decision tree classifier train set: 0.99925\n",
      "accuracy score on decision tree classifier test set: 0.56837\n",
      "\n",
      "accuracy score on RandomForest classifier test set: 0.6714\n",
      "accuracy score on RandomForest classifier train set: 0.99178\n"
     ]
    }
   ],
   "source": [
    "# Create and fit a scaler model\n",
    "scaler = StandardScaler().fit(X_train)\n",
    "\n",
    "# Your scaler model can now transform your data\n",
    "X_train_scaled = scaler.transform(X_train)\n",
    "X_test_scaled = scaler.transform(X_test)\n",
    "\n",
    "# Logistic Regression\n",
    "model = LogisticRegression(max_iter=10).fit(X_train_scaled,y_train)\n",
    "\n",
    "print(\"accuracy score on logistic regression train set:\",round(model.score(X_train_scaled, y_train), 5))\n",
    "print(\"accuracy score on logistic regression test set:\",round(model.score(X_test_scaled, y_test), 5))\n",
    "print (\"\")\n",
    "\n",
    "# Decision Tree\n",
    "modelDTR = DecisionTreeClassifier()\n",
    "modelDTR.fit(X_train_scaled, y_train)\n",
    "\n",
    "print(\"accuracy score on decision tree classifier train set:\",round(modelDTR.score(X_train_scaled, y_train), 5))\n",
    "print(\"accuracy score on decision tree classifier test set:\",round(modelDTR.score(X_test_scaled, y_test), 5))\n",
    "print (\"\")\n",
    "\n",
    "# Random Forest\n",
    "rfc = RandomForestClassifier(n_estimators=15)\n",
    "rfc.fit(X_train, y_train)\n",
    "\n",
    "print(\"accuracy score on RandomForest classifier test set:\",round(rfc.score(X_test, y_test), 5))\n",
    "print(\"accuracy score on RandomForest classifier train set:\",round(rfc.score(X_train, y_train), 5))"
   ]
  },
  {
   "cell_type": "code",
   "execution_count": 489,
   "metadata": {},
   "outputs": [
    {
     "name": "stdout",
     "output_type": "stream",
     "text": [
      "accuracy score on logistic regression train set: 0.67821\n",
      "accuracy score on logistic regression test set: 0.67903\n",
      "\n"
     ]
    },
    {
     "name": "stderr",
     "output_type": "stream",
     "text": [
      "C:\\Users\\Berenger\\anaconda3\\lib\\site-packages\\sklearn\\linear_model\\_logistic.py:763: ConvergenceWarning: lbfgs failed to converge (status=1):\n",
      "STOP: TOTAL NO. of ITERATIONS REACHED LIMIT.\n",
      "\n",
      "Increase the number of iterations (max_iter) or scale the data as shown in:\n",
      "    https://scikit-learn.org/stable/modules/preprocessing.html\n",
      "Please also refer to the documentation for alternative solver options:\n",
      "    https://scikit-learn.org/stable/modules/linear_model.html#logistic-regression\n",
      "  n_iter_i = _check_optimize_result(\n"
     ]
    }
   ],
   "source": [
    "# Logistic Regression\n",
    "model = LogisticRegression(max_iter=10).fit(X_train_scaled,y_train)\n",
    "\n",
    "print(\"accuracy score on logistic regression train set:\",round(model.score(X_train_scaled, y_train), 5))\n",
    "print(\"accuracy score on logistic regression test set:\",round(model.score(X_test_scaled, y_test), 5))\n",
    "print (\"\")"
   ]
  },
  {
   "cell_type": "code",
   "execution_count": null,
   "metadata": {},
   "outputs": [
    {
     "name": "stdout",
     "output_type": "stream",
     "text": [
      "accuracy score on RandomForest classifier test set: 0.66188\n",
      "accuracy score on RandomForest classifier train set: 0.97972\n"
     ]
    }
   ],
   "source": [
    "# # Random Forest\n",
    "# rfc = RandomForestClassifier(n_estimators= 9, max_features= 'sqrt', max_depth= 54, criterion= 'entropy')\n",
    "# rfc.fit(X_train, y_train)\n",
    "\n",
    "# print(\"accuracy score on RandomForest classifier test set:\",round(rfc.score(X_test, y_test), 5))\n",
    "# print(\"accuracy score on RandomForest classifier train set:\",round(rfc.score(X_train, y_train), 5))"
   ]
  },
  {
   "cell_type": "code",
   "execution_count": null,
   "metadata": {},
   "outputs": [
    {
     "name": "stdout",
     "output_type": "stream",
     "text": [
      "best score: 0.6711423129258929\n",
      "best parameters: {'n_estimators': 15, 'max_features': 'sqrt', 'max_depth': 54, 'criterion': 'entropy'}\n"
     ]
    }
   ],
   "source": [
    "# param_grid = {'n_estimators': range(5, 21)\n",
    "#               ,'max_features': ['auto', 'sqrt', 'log2']\n",
    "#               ,'max_depth': range(50, 55)\n",
    "#               ,'criterion': ['gini', 'entropy']\n",
    "#               }\n",
    "\n",
    "# rando = RandomizedSearchCV(RandomForestClassifier(), param_grid, n_iter=2)\n",
    "# rando.fit(X_train, y_train)\n",
    "\n",
    "# print(\"best score:\",rando.best_score_)\n",
    "# print(\"best parameters:\",rando.best_params_)"
   ]
  },
  {
   "cell_type": "code",
   "execution_count": null,
   "metadata": {},
   "outputs": [],
   "source": []
  },
  {
   "cell_type": "code",
   "execution_count": null,
   "metadata": {},
   "outputs": [
    {
     "name": "stdout",
     "output_type": "stream",
     "text": [
      "best score: 0.4213674189262056\n",
      "best parameters: {'min_samples_split': 2, 'min_samples_leaf': 14, 'max_depth': 12}\n"
     ]
    }
   ],
   "source": [
    "# dico = {'max_depth': range(1,51),\n",
    "#         'min_samples_leaf': range(1,16),\n",
    "#         'min_samples_split' : (2, 5, 7, 10, 15, 30)}\n",
    "\n",
    "# rando = RandomizedSearchCV(DecisionTreeClassifier(), dico, n_iter=2)\n",
    "# rando.fit(X,y)\n",
    "\n",
    "# print(\"best score:\",rando.best_score_)\n",
    "# print(\"best parameters:\",rando.best_params_)"
   ]
  },
  {
   "cell_type": "code",
   "execution_count": null,
   "metadata": {},
   "outputs": [
    {
     "name": "stdout",
     "output_type": "stream",
     "text": [
      "best score: 0.6624442828634163\n",
      "best parameters: {'n_estimators': 10}\n"
     ]
    }
   ],
   "source": [
    "# param_grid = {'n_estimators': range(5,11)\n",
    "#               #,'max_features': ['auto', 'sqrt', 'log2']\n",
    "#               #,'max_depth': range(50, 55)\n",
    "#               #,'criterion': ['gini', 'entropy']\n",
    "#               }\n",
    "\n",
    "# grid = GridSearchCV(RandomForestClassifier(), param_grid)\n",
    "# grid.fit(X_train, y_train)\n",
    "\n",
    "# print(\"best score:\",grid.best_score_)\n",
    "# print(\"best parameters:\",grid.best_params_)"
   ]
  }
 ],
 "metadata": {
  "interpreter": {
   "hash": "78b7e305d27bf9bc60ca6e97d3f20268b064d9f5fcf2d23d574a1486a0310c34"
  },
  "kernelspec": {
   "display_name": "Python 3.8.12 64-bit ('base': conda)",
   "language": "python",
   "name": "python3"
  },
  "language_info": {
   "codemirror_mode": {
    "name": "ipython",
    "version": 3
   },
   "file_extension": ".py",
   "mimetype": "text/x-python",
   "name": "python",
   "nbconvert_exporter": "python",
   "pygments_lexer": "ipython3",
   "version": "3.8.12"
  },
  "orig_nbformat": 4
 },
 "nbformat": 4,
 "nbformat_minor": 2
}
