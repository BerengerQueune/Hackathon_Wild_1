{
 "cells": [
  {
   "cell_type": "code",
   "execution_count": 101,
   "metadata": {},
   "outputs": [
    {
     "data": {
      "text/plain": [
       "(232725, 18)"
      ]
     },
     "execution_count": 101,
     "metadata": {},
     "output_type": "execute_result"
    }
   ],
   "source": [
    "import pandas as pd\n",
    "import numpy as np\n",
    "import math\n",
    "\n",
    "\n",
    "url = \"https://raw.githubusercontent.com/murpi/wilddata/master/quests/spotify.zip\"\n",
    "df_music = pd.read_csv(url)\n",
    "df_music.shape"
   ]
  },
  {
   "cell_type": "code",
   "execution_count": 102,
   "metadata": {},
   "outputs": [
    {
     "data": {
      "text/html": [
       "<div>\n",
       "<style scoped>\n",
       "    .dataframe tbody tr th:only-of-type {\n",
       "        vertical-align: middle;\n",
       "    }\n",
       "\n",
       "    .dataframe tbody tr th {\n",
       "        vertical-align: top;\n",
       "    }\n",
       "\n",
       "    .dataframe thead th {\n",
       "        text-align: right;\n",
       "    }\n",
       "</style>\n",
       "<table border=\"1\" class=\"dataframe\">\n",
       "  <thead>\n",
       "    <tr style=\"text-align: right;\">\n",
       "      <th></th>\n",
       "      <th>genre</th>\n",
       "      <th>artist_name</th>\n",
       "      <th>track_name</th>\n",
       "      <th>track_id</th>\n",
       "      <th>popularity</th>\n",
       "      <th>acousticness</th>\n",
       "      <th>danceability</th>\n",
       "      <th>duration_ms</th>\n",
       "      <th>energy</th>\n",
       "      <th>instrumentalness</th>\n",
       "      <th>key</th>\n",
       "      <th>liveness</th>\n",
       "      <th>loudness</th>\n",
       "      <th>mode</th>\n",
       "      <th>speechiness</th>\n",
       "      <th>tempo</th>\n",
       "      <th>time_signature</th>\n",
       "      <th>valence</th>\n",
       "    </tr>\n",
       "  </thead>\n",
       "  <tbody>\n",
       "    <tr>\n",
       "      <th>9027</th>\n",
       "      <td>Dance</td>\n",
       "      <td>Ariana Grande</td>\n",
       "      <td>7 rings</td>\n",
       "      <td>14msK75pk3pA33pzPVNtBF</td>\n",
       "      <td>100</td>\n",
       "      <td>0.578</td>\n",
       "      <td>0.725</td>\n",
       "      <td>178640</td>\n",
       "      <td>0.321</td>\n",
       "      <td>0.0</td>\n",
       "      <td>C#</td>\n",
       "      <td>0.0884</td>\n",
       "      <td>-10.744</td>\n",
       "      <td>Minor</td>\n",
       "      <td>0.323</td>\n",
       "      <td>70.142</td>\n",
       "      <td>4/4</td>\n",
       "      <td>0.319</td>\n",
       "    </tr>\n",
       "    <tr>\n",
       "      <th>107804</th>\n",
       "      <td>Pop</td>\n",
       "      <td>Ariana Grande</td>\n",
       "      <td>7 rings</td>\n",
       "      <td>14msK75pk3pA33pzPVNtBF</td>\n",
       "      <td>100</td>\n",
       "      <td>0.578</td>\n",
       "      <td>0.725</td>\n",
       "      <td>178640</td>\n",
       "      <td>0.321</td>\n",
       "      <td>0.0</td>\n",
       "      <td>C#</td>\n",
       "      <td>0.0884</td>\n",
       "      <td>-10.744</td>\n",
       "      <td>Minor</td>\n",
       "      <td>0.323</td>\n",
       "      <td>70.142</td>\n",
       "      <td>4/4</td>\n",
       "      <td>0.319</td>\n",
       "    </tr>\n",
       "  </tbody>\n",
       "</table>\n",
       "</div>"
      ],
      "text/plain": [
       "        genre    artist_name track_name                track_id  popularity  \\\n",
       "9027    Dance  Ariana Grande    7 rings  14msK75pk3pA33pzPVNtBF         100   \n",
       "107804    Pop  Ariana Grande    7 rings  14msK75pk3pA33pzPVNtBF         100   \n",
       "\n",
       "        acousticness  danceability  duration_ms  energy  instrumentalness key  \\\n",
       "9027           0.578         0.725       178640   0.321               0.0  C#   \n",
       "107804         0.578         0.725       178640   0.321               0.0  C#   \n",
       "\n",
       "        liveness  loudness   mode  speechiness   tempo time_signature  valence  \n",
       "9027      0.0884   -10.744  Minor        0.323  70.142            4/4    0.319  \n",
       "107804    0.0884   -10.744  Minor        0.323  70.142            4/4    0.319  "
      ]
     },
     "execution_count": 102,
     "metadata": {},
     "output_type": "execute_result"
    }
   ],
   "source": [
    "df_music.loc[df_music['track_name'] == \"7 rings\"]"
   ]
  },
  {
   "cell_type": "code",
   "execution_count": 103,
   "metadata": {},
   "outputs": [],
   "source": [
    "# There is two genre with similar name: \"Children’s Music\" and \"Children's Music\". I rename it before a merge with the following get dummies\n",
    "df_music[\"genre\"].replace('Children’s Music', \"Children's Music\", inplace=True)\n",
    "\n",
    "# We remove Soundtrack and Movie genre\n",
    "df_music_dumies = df_music[(df_music['genre'] != 'Soundtrack') & (df_music['genre'] != 'Movie')]\n",
    "\n",
    "# Get dummies on genre for Machine Learning Usage\n",
    "df_music_dumies = pd.concat([df_music_dumies , df_music_dumies['genre'].str.get_dummies()], axis = 1)\n",
    "\n",
    "# Factorization of \"mode\"\n",
    "df_music_dumies['mode'] = df_music_dumies['mode'].factorize()[0]\n",
    "\n",
    "# We remove song with a duration below 90 seconds et above 900 seconds\n",
    "df_music_dumies = df_music_dumies.loc[df_music_dumies['duration_ms'] >= 90000]\n",
    "df_music_dumies = df_music_dumies.loc[df_music_dumies['duration_ms'] <= 900000]"
   ]
  },
  {
   "cell_type": "code",
   "execution_count": 104,
   "metadata": {},
   "outputs": [],
   "source": [
    "# Function to split the popularity in 5 classes in order to use a classification Machine Learning method (suggested by Tarik as he says it's better than Linear Regression here)\n",
    "def popularity_score(popularity):\n",
    "  popularity = popularity / 20\n",
    "  popularity = math.ceil(popularity)\n",
    "  return popularity"
   ]
  },
  {
   "cell_type": "code",
   "execution_count": 105,
   "metadata": {},
   "outputs": [],
   "source": [
    "# Applying the function\n",
    "df_music_dumies[\"popularity_score\"] = df_music_dumies[\"popularity\"].apply(popularity_score)"
   ]
  },
  {
   "cell_type": "code",
   "execution_count": 106,
   "metadata": {},
   "outputs": [],
   "source": [
    "# We remove useless columns\n",
    "cols = ['genre', 'artist_name', 'track_id', 'key', 'time_signature', 'popularity']\n",
    "df_music_dumies.drop(cols, axis=1, inplace=True)"
   ]
  },
  {
   "cell_type": "code",
   "execution_count": 107,
   "metadata": {},
   "outputs": [],
   "source": [
    "# There are cells with a popularity of 0 and after many tests it seems we have better Machine Learning accuracy score when we remove it\n",
    "df_music_without_0_pop = df_music_dumies[df_music_dumies['popularity_score'] != 0]"
   ]
  },
  {
   "cell_type": "code",
   "execution_count": 108,
   "metadata": {},
   "outputs": [],
   "source": [
    "df_music_without_0_pop.to_csv('..\\data\\dataset_algo.csv.zip', header = True, compression='zip')"
   ]
  },
  {
   "cell_type": "code",
   "execution_count": 109,
   "metadata": {},
   "outputs": [
    {
     "data": {
      "text/plain": [
       "3    92238\n",
       "2    61713\n",
       "4    31368\n",
       "1    19181\n",
       "5      988\n",
       "Name: popularity_score, dtype: int64"
      ]
     },
     "execution_count": 109,
     "metadata": {},
     "output_type": "execute_result"
    }
   ],
   "source": [
    "df_music_without_0_pop[\"popularity_score\"].value_counts()"
   ]
  }
 ],
 "metadata": {
  "interpreter": {
   "hash": "78b7e305d27bf9bc60ca6e97d3f20268b064d9f5fcf2d23d574a1486a0310c34"
  },
  "kernelspec": {
   "display_name": "Python 3.8.12 64-bit ('base': conda)",
   "language": "python",
   "name": "python3"
  },
  "language_info": {
   "codemirror_mode": {
    "name": "ipython",
    "version": 3
   },
   "file_extension": ".py",
   "mimetype": "text/x-python",
   "name": "python",
   "nbconvert_exporter": "python",
   "pygments_lexer": "ipython3",
   "version": "3.8.12"
  },
  "orig_nbformat": 4
 },
 "nbformat": 4,
 "nbformat_minor": 2
}
