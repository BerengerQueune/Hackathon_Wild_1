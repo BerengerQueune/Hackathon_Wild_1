{
 "cells": [
  {
   "cell_type": "code",
   "execution_count": 19,
   "metadata": {},
   "outputs": [],
   "source": [
    "import pandas as pd\n",
    "from sklearn.model_selection import train_test_split\n",
    "import numpy as np\n",
    "import math\n",
    "from sklearn.linear_model import LogisticRegression\n",
    "from sklearn.preprocessing import StandardScaler"
   ]
  },
  {
   "cell_type": "code",
   "execution_count": 20,
   "metadata": {},
   "outputs": [],
   "source": [
    "df = pd.read_csv('..\\data\\dataset_algo.csv.zip', index_col=0)"
   ]
  },
  {
   "cell_type": "code",
   "execution_count": 21,
   "metadata": {},
   "outputs": [],
   "source": [
    "cols = ['acousticness', 'danceability', 'duration_ms', 'energy',\n",
    "       'instrumentalness', 'liveness', 'loudness', 'mode',\n",
    "       'speechiness', 'tempo', 'valence', 'A Capella',\n",
    "       'Alternative', 'Anime', 'Blues', \"Children's Music\",\n",
    "       'Classical', 'Comedy', 'Country', 'Dance', 'Electronic', 'Folk',\n",
    "       'Hip-Hop', 'Indie', 'Jazz', 'Opera', 'Pop', 'R&B', 'Rap',\n",
    "       'Reggae', 'Reggaeton', 'Rock', 'Ska', 'Soul', 'World']\n",
    "\n",
    "X = df[cols]\n",
    "y = df['popularity_score']"
   ]
  },
  {
   "cell_type": "code",
   "execution_count": 27,
   "metadata": {},
   "outputs": [],
   "source": [
    "X_train, X_test, y_train, y_test = train_test_split(X, y, train_size=0.75)\n",
    "\n",
    "# Create and fit a scaler model\n",
    "scaler = StandardScaler().fit(X_train)\n",
    "\n",
    "# Your scaler model can now transform your data\n",
    "X_train_scaled = scaler.transform(X_train)\n",
    "X_test_scaled = scaler.transform(X_test)"
   ]
  },
  {
   "cell_type": "code",
   "execution_count": 31,
   "metadata": {},
   "outputs": [
    {
     "name": "stdout",
     "output_type": "stream",
     "text": [
      "accuracy score on logistic regression train set: 0.44807\n",
      "accuracy score on logistic regression test set: 0.4513\n",
      "\n"
     ]
    },
    {
     "name": "stderr",
     "output_type": "stream",
     "text": [
      "C:\\Users\\Berenger\\anaconda3\\lib\\site-packages\\sklearn\\linear_model\\_logistic.py:763: ConvergenceWarning: lbfgs failed to converge (status=1):\n",
      "STOP: TOTAL NO. of ITERATIONS REACHED LIMIT.\n",
      "\n",
      "Increase the number of iterations (max_iter) or scale the data as shown in:\n",
      "    https://scikit-learn.org/stable/modules/preprocessing.html\n",
      "Please also refer to the documentation for alternative solver options:\n",
      "    https://scikit-learn.org/stable/modules/linear_model.html#logistic-regression\n",
      "  n_iter_i = _check_optimize_result(\n"
     ]
    }
   ],
   "source": [
    "# Logistic Regression\n",
    "model = LogisticRegression(max_iter=10).fit(X_train_scaled,y_train)\n",
    "\n",
    "print(\"accuracy score on logistic regression train set:\",round(model.score(X_train_scaled, y_train), 5))\n",
    "print(\"accuracy score on logistic regression test set:\",round(model.score(X_test_scaled, y_test), 5))\n",
    "print (\"\")"
   ]
  },
  {
   "cell_type": "code",
   "execution_count": 52,
   "metadata": {},
   "outputs": [
    {
     "name": "stdout",
     "output_type": "stream",
     "text": [
      "accuracy score on RandomForest classifier test set: 0.65195\n",
      "accuracy score on RandomForest classifier train set: 0.97097\n"
     ]
    }
   ],
   "source": [
    "from sklearn.ensemble import RandomForestClassifier\n",
    "\n",
    "# Random Forest\n",
    "rfc = RandomForestClassifier(n_estimators=8)\n",
    "rfc.fit(X_train, y_train)\n",
    "\n",
    "print(\"accuracy score on RandomForest classifier test set:\",round(rfc.score(X_test, y_test), 5))\n",
    "print(\"accuracy score on RandomForest classifier train set:\",round(rfc.score(X_train, y_train), 5))"
   ]
  },
  {
   "cell_type": "code",
   "execution_count": 53,
   "metadata": {},
   "outputs": [],
   "source": [
    "df[\"prediction_pop_score\"] = rfc.predict(df[cols])"
   ]
  },
  {
   "cell_type": "code",
   "execution_count": 54,
   "metadata": {},
   "outputs": [
    {
     "data": {
      "text/plain": [
       "3    94234\n",
       "2    64839\n",
       "4    26213\n",
       "1    19563\n",
       "5      639\n",
       "Name: prediction_pop_score, dtype: int64"
      ]
     },
     "execution_count": 54,
     "metadata": {},
     "output_type": "execute_result"
    }
   ],
   "source": [
    "df[\"prediction_pop_score\"].value_counts()\n",
    "\n"
   ]
  },
  {
   "cell_type": "code",
   "execution_count": 55,
   "metadata": {},
   "outputs": [
    {
     "ename": "UFuncTypeError",
     "evalue": "ufunc 'add' did not contain a loop with signature matching types (dtype('int64'), dtype('<U7')) -> None",
     "output_type": "error",
     "traceback": [
      "\u001b[1;31m---------------------------------------------------------------------------\u001b[0m",
      "\u001b[1;31mUFuncTypeError\u001b[0m                            Traceback (most recent call last)",
      "\u001b[1;32m~\\AppData\\Local\\Temp/ipykernel_14828/1583751368.py\u001b[0m in \u001b[0;36m<module>\u001b[1;34m\u001b[0m\n\u001b[0;32m      2\u001b[0m \u001b[1;33m\u001b[0m\u001b[0m\n\u001b[0;32m      3\u001b[0m pd.DataFrame(data = confusion_matrix(y_true = y_test, y_pred = model.predict(X_test)),\n\u001b[1;32m----> 4\u001b[1;33m              \u001b[0mindex\u001b[0m \u001b[1;33m=\u001b[0m \u001b[0mmodel\u001b[0m\u001b[1;33m.\u001b[0m\u001b[0mclasses_\u001b[0m \u001b[1;33m+\u001b[0m \u001b[1;34m\" actual\"\u001b[0m\u001b[1;33m,\u001b[0m\u001b[1;33m\u001b[0m\u001b[1;33m\u001b[0m\u001b[0m\n\u001b[0m\u001b[0;32m      5\u001b[0m              columns = model.classes_ + \" predicted\")\n",
      "\u001b[1;31mUFuncTypeError\u001b[0m: ufunc 'add' did not contain a loop with signature matching types (dtype('int64'), dtype('<U7')) -> None"
     ]
    }
   ],
   "source": [
    "from sklearn.metrics import confusion_matrix\n",
    "\n",
    "pd.DataFrame(data = confusion_matrix(y_true = y_test, y_pred = model.predict(X_test)),\n",
    "             index = model.classes_ + \" actual\",\n",
    "             columns = model.classes_ + \" predicted\")"
   ]
  }
 ],
 "metadata": {
  "interpreter": {
   "hash": "78b7e305d27bf9bc60ca6e97d3f20268b064d9f5fcf2d23d574a1486a0310c34"
  },
  "kernelspec": {
   "display_name": "Python 3.8.12 64-bit ('base': conda)",
   "language": "python",
   "name": "python3"
  },
  "language_info": {
   "codemirror_mode": {
    "name": "ipython",
    "version": 3
   },
   "file_extension": ".py",
   "mimetype": "text/x-python",
   "name": "python",
   "nbconvert_exporter": "python",
   "pygments_lexer": "ipython3",
   "version": "3.8.12"
  },
  "orig_nbformat": 4
 },
 "nbformat": 4,
 "nbformat_minor": 2
}
