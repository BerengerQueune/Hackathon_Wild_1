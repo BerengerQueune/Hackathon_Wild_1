{
 "cells": [
  {
   "cell_type": "code",
   "execution_count": 549,
   "metadata": {},
   "outputs": [
    {
     "data": {
      "text/plain": [
       "(232725, 18)"
      ]
     },
     "execution_count": 549,
     "metadata": {},
     "output_type": "execute_result"
    }
   ],
   "source": [
    "import pandas as pd\n",
    "import seaborn as sns\n",
    "from sklearn.model_selection import train_test_split\n",
    "from sklearn.linear_model import LinearRegression\n",
    "import seaborn as sns\n",
    "import matplotlib.pyplot as plt\n",
    "import plotly.express as px\n",
    "import plotly.graph_objects as go\n",
    "from sklearn.model_selection import cross_val_score\n",
    "import numpy as np\n",
    "import math\n",
    "from sklearn.linear_model import LogisticRegression\n",
    "from sklearn.preprocessing import StandardScaler\n",
    "\n",
    "url = \"https://raw.githubusercontent.com/murpi/wilddata/master/quests/spotify.zip\"\n",
    "df_music = pd.read_csv(url)\n",
    "df_music.shape"
   ]
  },
  {
   "cell_type": "code",
   "execution_count": 523,
   "metadata": {},
   "outputs": [],
   "source": [
    "# There is two genre with similar name: \"Children’s Music\" and \"Children's Music\". I rename it before a merge with the following get dummies\n",
    "df_music[\"genre\"].replace('Children’s Music', \"Children's Music\", inplace=True)\n",
    "\n",
    "# Get dummies on genre for Machine Learning Usage\n",
    "df_music_dumies = pd.concat([df_music , df_music['genre'].str.get_dummies()], axis = 1)\n",
    "\n",
    "# Factorization of \"mode\"\n",
    "df_music_dumies['mode'] = df_music_dumies['mode'].factorize()[0]"
   ]
  },
  {
   "cell_type": "code",
   "execution_count": 524,
   "metadata": {},
   "outputs": [
    {
     "data": {
      "text/plain": [
       "(232725, 44)"
      ]
     },
     "execution_count": 524,
     "metadata": {},
     "output_type": "execute_result"
    }
   ],
   "source": [
    "df_music_dumies.shape"
   ]
  },
  {
   "cell_type": "code",
   "execution_count": 525,
   "metadata": {},
   "outputs": [],
   "source": [
    "# We remove song with a duration below 90 seconds et above 900 seconds\n",
    "\n",
    "df_music_dumies = df_music_dumies.loc[df_music_dumies['duration_ms'] >= 90000]\n",
    "df_music_dumies = df_music_dumies.loc[df_music_dumies['duration_ms'] <= 900000]"
   ]
  },
  {
   "cell_type": "code",
   "execution_count": 526,
   "metadata": {},
   "outputs": [],
   "source": [
    "df_music_dumies = df_music_dumies[(df_music_dumies['genre'] != 'Soundtrack') & (df_music_dumies['genre'] != 'Movie') ]"
   ]
  },
  {
   "cell_type": "code",
   "execution_count": 527,
   "metadata": {},
   "outputs": [
    {
     "data": {
      "text/plain": [
       "(209308, 44)"
      ]
     },
     "execution_count": 527,
     "metadata": {},
     "output_type": "execute_result"
    }
   ],
   "source": [
    "df_music_dumies.shape"
   ]
  },
  {
   "cell_type": "code",
   "execution_count": 528,
   "metadata": {},
   "outputs": [
    {
     "name": "stdout",
     "output_type": "stream",
     "text": [
      "accuracy score on train set: 0.5992642450359075\n",
      "accuracy score on test set: 0.5999739884976283\n"
     ]
    }
   ],
   "source": [
    "# Linear regression first test\n",
    "\n",
    "X = df_music_dumies[[\n",
    "       'acousticness', 'danceability', 'duration_ms', 'energy',\n",
    "       'instrumentalness', 'liveness', 'loudness', 'mode',\n",
    "       'speechiness', 'tempo', 'valence', 'A Capella',\n",
    "       'Alternative', 'Anime', 'Blues', \"Children's Music\",\n",
    "       'Classical', 'Comedy', 'Country', 'Dance', 'Electronic', 'Folk',\n",
    "       'Hip-Hop', 'Indie', 'Jazz', 'Movie', 'Opera', 'Pop', 'R&B', 'Rap',\n",
    "       'Reggae', 'Reggaeton', 'Rock', 'Ska', 'Soul', 'Soundtrack', 'World']]\n",
    "       \n",
    "y = df_music_dumies['popularity']\n",
    "\n",
    "X_train, X_test, y_train, y_test = train_test_split(X, y, train_size = 0.8)\n",
    "\n",
    "modelLR = LinearRegression().fit(X_train,y_train)\n",
    "\n",
    "print(\"accuracy score on train set:\",modelLR.score(X_train, y_train))\n",
    "print(\"accuracy score on test set:\",modelLR.score(X_test, y_test))"
   ]
  },
  {
   "cell_type": "code",
   "execution_count": 529,
   "metadata": {},
   "outputs": [],
   "source": [
    "# Get dummies on key for Machine Learning Usage\n",
    "\n",
    "df_music_dumies_keys = pd.concat([df_music_dumies , df_music_dumies['key'].str.get_dummies()], axis = 1)"
   ]
  },
  {
   "cell_type": "code",
   "execution_count": 530,
   "metadata": {},
   "outputs": [
    {
     "name": "stdout",
     "output_type": "stream",
     "text": [
      "accuracy score on train set: 0.5999068211981908\n",
      "accuracy score on test set: 0.5993474378219982\n"
     ]
    }
   ],
   "source": [
    "X = df_music_dumies_keys[[\n",
    "       'acousticness', 'danceability', 'duration_ms', 'energy',\n",
    "       'instrumentalness', 'liveness', 'loudness', 'mode',\n",
    "       'speechiness', 'tempo', 'valence', 'A Capella',\n",
    "       'Alternative', 'Anime', 'Blues', \"Children's Music\",\n",
    "       'Classical', 'Comedy', 'Country', 'Dance', 'Electronic', 'Folk',\n",
    "       'Hip-Hop', 'Indie', 'Jazz', 'Movie', 'Opera', 'Pop', 'R&B', 'Rap',\n",
    "       'Reggae', 'Reggaeton', 'Rock', 'Ska', 'Soul', 'Soundtrack', 'World', 'A', 'A#', 'B', 'C', 'C#',\n",
    "       'D', 'D#', 'E', 'F', 'F#', 'G', 'G#']]\n",
    "\n",
    "y = df_music_dumies_keys['popularity']\n",
    "\n",
    "X_train, X_test, y_train, y_test = train_test_split(X, y, train_size = 0.75)\n",
    "\n",
    "modelLR = LinearRegression().fit(X_train,y_train)\n",
    "\n",
    "print(\"accuracy score on train set:\",modelLR.score(X_train, y_train))\n",
    "print(\"accuracy score on test set:\",modelLR.score(X_test, y_test))"
   ]
  },
  {
   "cell_type": "code",
   "execution_count": 531,
   "metadata": {},
   "outputs": [
    {
     "data": {
      "text/plain": [
       "array([ 0.08352754,  0.33644026, -0.0979565 ,  0.16003534, -0.35806045,\n",
       "        0.26022852])"
      ]
     },
     "execution_count": 531,
     "metadata": {},
     "output_type": "execute_result"
    }
   ],
   "source": [
    "cross_val_score(LinearRegression(), X, y, scoring=\"r2\", cv = 6)"
   ]
  },
  {
   "cell_type": "code",
   "execution_count": 532,
   "metadata": {},
   "outputs": [],
   "source": [
    "# Function to split the popularity in 5 classes in order to use a classification Machine Learning method (suggested by Tarik as he says it's better than Linear Regression here)\n",
    "\n",
    "def popularity_score(popularity):\n",
    "  popularity = popularity / 20\n",
    "  popularity = math.ceil(popularity)\n",
    "  return popularity"
   ]
  },
  {
   "cell_type": "code",
   "execution_count": 533,
   "metadata": {},
   "outputs": [],
   "source": [
    "# Applying the function\n",
    "\n",
    "df_music_dumies_keys[\"popularity_score\"] = df_music[\"popularity\"].apply(popularity_score)"
   ]
  },
  {
   "cell_type": "code",
   "execution_count": 534,
   "metadata": {},
   "outputs": [
    {
     "name": "stdout",
     "output_type": "stream",
     "text": [
      "<class 'pandas.core.frame.DataFrame'>\n",
      "Int64Index: 209308 entries, 135 to 232724\n",
      "Data columns (total 51 columns):\n",
      " #   Column            Non-Null Count   Dtype  \n",
      "---  ------            --------------   -----  \n",
      " 0   popularity        209308 non-null  int64  \n",
      " 1   acousticness      209308 non-null  float64\n",
      " 2   danceability      209308 non-null  float64\n",
      " 3   duration_ms       209308 non-null  int64  \n",
      " 4   energy            209308 non-null  float64\n",
      " 5   instrumentalness  209308 non-null  float64\n",
      " 6   liveness          209308 non-null  float64\n",
      " 7   loudness          209308 non-null  float64\n",
      " 8   mode              209308 non-null  int64  \n",
      " 9   speechiness       209308 non-null  float64\n",
      " 10  tempo             209308 non-null  float64\n",
      " 11  valence           209308 non-null  float64\n",
      " 12  A Capella         209308 non-null  int64  \n",
      " 13  Alternative       209308 non-null  int64  \n",
      " 14  Anime             209308 non-null  int64  \n",
      " 15  Blues             209308 non-null  int64  \n",
      " 16  Children's Music  209308 non-null  int64  \n",
      " 17  Classical         209308 non-null  int64  \n",
      " 18  Comedy            209308 non-null  int64  \n",
      " 19  Country           209308 non-null  int64  \n",
      " 20  Dance             209308 non-null  int64  \n",
      " 21  Electronic        209308 non-null  int64  \n",
      " 22  Folk              209308 non-null  int64  \n",
      " 23  Hip-Hop           209308 non-null  int64  \n",
      " 24  Indie             209308 non-null  int64  \n",
      " 25  Jazz              209308 non-null  int64  \n",
      " 26  Movie             209308 non-null  int64  \n",
      " 27  Opera             209308 non-null  int64  \n",
      " 28  Pop               209308 non-null  int64  \n",
      " 29  R&B               209308 non-null  int64  \n",
      " 30  Rap               209308 non-null  int64  \n",
      " 31  Reggae            209308 non-null  int64  \n",
      " 32  Reggaeton         209308 non-null  int64  \n",
      " 33  Rock              209308 non-null  int64  \n",
      " 34  Ska               209308 non-null  int64  \n",
      " 35  Soul              209308 non-null  int64  \n",
      " 36  Soundtrack        209308 non-null  int64  \n",
      " 37  World             209308 non-null  int64  \n",
      " 38  A                 209308 non-null  int64  \n",
      " 39  A#                209308 non-null  int64  \n",
      " 40  B                 209308 non-null  int64  \n",
      " 41  C                 209308 non-null  int64  \n",
      " 42  C#                209308 non-null  int64  \n",
      " 43  D                 209308 non-null  int64  \n",
      " 44  D#                209308 non-null  int64  \n",
      " 45  E                 209308 non-null  int64  \n",
      " 46  F                 209308 non-null  int64  \n",
      " 47  F#                209308 non-null  int64  \n",
      " 48  G                 209308 non-null  int64  \n",
      " 49  G#                209308 non-null  int64  \n",
      " 50  popularity_score  209308 non-null  int64  \n",
      "dtypes: float64(9), int64(42)\n",
      "memory usage: 83.0 MB\n"
     ]
    }
   ],
   "source": [
    "# We remove useless columns\n",
    "cols = ['genre', 'artist_name', 'track_name', 'track_id', 'key', 'time_signature']\n",
    "df_music_dumies_keys.drop(cols, axis=1, inplace=True)\n",
    "\n",
    "df_music_dumies_keys.info()"
   ]
  },
  {
   "cell_type": "code",
   "execution_count": 535,
   "metadata": {},
   "outputs": [
    {
     "data": {
      "text/plain": [
       "3    92238\n",
       "2    61713\n",
       "4    31368\n",
       "1    19181\n",
       "0     3820\n",
       "5      988\n",
       "Name: popularity_score, dtype: int64"
      ]
     },
     "execution_count": 535,
     "metadata": {},
     "output_type": "execute_result"
    }
   ],
   "source": [
    "df_music_dumies_keys[\"popularity_score\"].value_counts()"
   ]
  },
  {
   "cell_type": "code",
   "execution_count": 536,
   "metadata": {},
   "outputs": [],
   "source": [
    "# As we can see, there is column with a popularity of 0 and we wonder if it has a positive or negative impact on the Machine learning\n",
    "# We create two dataset for our tests, one with the 0 pop value and one without this value\n",
    "\n",
    "df_music_with_0_pop = df_music_dumies_keys\n",
    "df_music_without_0_pop = df_music_dumies_keys[df_music_dumies_keys['popularity_score'] != 0]"
   ]
  },
  {
   "cell_type": "code",
   "execution_count": 537,
   "metadata": {},
   "outputs": [
    {
     "data": {
      "text/plain": [
       "3    92238\n",
       "2    61713\n",
       "4    31368\n",
       "1    19181\n",
       "5      988\n",
       "Name: popularity_score, dtype: int64"
      ]
     },
     "execution_count": 537,
     "metadata": {},
     "output_type": "execute_result"
    }
   ],
   "source": [
    "df_music_without_0_pop[\"popularity_score\"].value_counts()"
   ]
  },
  {
   "cell_type": "code",
   "execution_count": 538,
   "metadata": {},
   "outputs": [
    {
     "data": {
      "text/plain": [
       "(205488, 51)"
      ]
     },
     "execution_count": 538,
     "metadata": {},
     "output_type": "execute_result"
    }
   ],
   "source": [
    "df_music_without_0_pop.shape"
   ]
  },
  {
   "cell_type": "code",
   "execution_count": 539,
   "metadata": {},
   "outputs": [
    {
     "data": {
      "text/plain": [
       "Index(['popularity', 'acousticness', 'danceability', 'duration_ms', 'energy',\n",
       "       'instrumentalness', 'liveness', 'loudness', 'mode', 'speechiness',\n",
       "       'tempo', 'valence', 'A Capella', 'Alternative', 'Anime', 'Blues',\n",
       "       'Children's Music', 'Classical', 'Comedy', 'Country', 'Dance',\n",
       "       'Electronic', 'Folk', 'Hip-Hop', 'Indie', 'Jazz', 'Movie', 'Opera',\n",
       "       'Pop', 'R&B', 'Rap', 'Reggae', 'Reggaeton', 'Rock', 'Ska', 'Soul',\n",
       "       'Soundtrack', 'World', 'A', 'A#', 'B', 'C', 'C#', 'D', 'D#', 'E', 'F',\n",
       "       'F#', 'G', 'G#', 'popularity_score'],\n",
       "      dtype='object')"
      ]
     },
     "execution_count": 539,
     "metadata": {},
     "output_type": "execute_result"
    }
   ],
   "source": [
    "df_music_dumies_keys.columns"
   ]
  },
  {
   "cell_type": "code",
   "execution_count": 540,
   "metadata": {},
   "outputs": [],
   "source": [
    "cols = ['acousticness', 'danceability', 'energy',\n",
    "       'instrumentalness', 'liveness', 'loudness', 'mode',\n",
    "       'speechiness', 'tempo', 'valence', 'A Capella',\n",
    "       'Alternative', 'Anime', 'Blues', \"Children's Music\",\n",
    "       'Classical', 'Comedy', 'Country', 'Dance', 'Electronic', 'Folk',\n",
    "       'Hip-Hop', 'Indie', 'Jazz', 'Movie', 'Opera', 'Pop', 'R&B', 'Rap',\n",
    "       'Reggae', 'Reggaeton', 'Rock', 'Ska', 'Soul', 'Soundtrack', 'World']\n",
    "\n",
    "X = df_music_with_0_pop[cols]\n",
    "y = df_music_with_0_pop['popularity_score']"
   ]
  },
  {
   "cell_type": "code",
   "execution_count": 541,
   "metadata": {},
   "outputs": [],
   "source": [
    "# # Test with the value 0 in popularity\n",
    "\n",
    "# X_train, X_test, y_train, y_test = train_test_split(X, y, random_state = 2, train_size=0.6)\n",
    "\n",
    "# # Logistic Regression\n",
    "# model = LogisticRegression().fit(X_train,y_train)\n",
    "\n",
    "# print(\"accuracy score on logistic regression test set:\",round(model.score(X_test, y_test), 5))\n",
    "# print(\"accuracy score on logistic regression train set:\",round(model.score(X_train, y_train), 5))\n",
    "# print (\"\")\n",
    "\n",
    "\n",
    "# # Decision Tree\n",
    "# modelDTR = DecisionTreeClassifier()\n",
    "# modelDTR.fit(X_train, y_train)\n",
    "\n",
    "# print(\"accuracy score on decision tree classifier test set:\",round(modelDTR.score(X_test, y_test), 5))\n",
    "# print(\"accuracy score on decision tree classifier train set:\",round(modelDTR.score(X_train, y_train), 5))\n",
    "# print (\"\")\n",
    "\n",
    "# # Random Forest\n",
    "# rfc = RandomForestClassifier(n_estimators=15)\n",
    "# rfc.fit(X_train, y_train)\n",
    "\n",
    "# print(\"accuracy score on RandomForest classifier test set:\",round(rfc.score(X_test, y_test), 5))\n",
    "# print(\"accuracy score on RandomForest classifier train set:\",round(rfc.score(X_train, y_train), 5))"
   ]
  },
  {
   "cell_type": "code",
   "execution_count": 542,
   "metadata": {},
   "outputs": [
    {
     "name": "stdout",
     "output_type": "stream",
     "text": [
      "accuracy score on logistic regression test set: 0.45887\n",
      "accuracy score on logistic regression train set: 0.46002\n",
      "\n",
      "accuracy score on decision tree classifier test set: 0.56369\n",
      "accuracy score on decision tree classifier train set: 0.99926\n",
      "\n",
      "accuracy score on RandomForest classifier test set: 0.66511\n",
      "accuracy score on RandomForest classifier train set: 0.99171\n"
     ]
    }
   ],
   "source": [
    "# Test without the value 0 in popularity\n",
    "\n",
    "X = df_music_without_0_pop[cols]\n",
    "y = df_music_without_0_pop['popularity_score']\n",
    "\n",
    "X_train, X_test, y_train, y_test = train_test_split(X, y, train_size=0.75)\n",
    "\n",
    "# Logistic Regression\n",
    "model = LogisticRegression().fit(X_train,y_train)\n",
    "\n",
    "print(\"accuracy score on logistic regression test set:\",round(model.score(X_test, y_test), 5))\n",
    "print(\"accuracy score on logistic regression train set:\",round(model.score(X_train, y_train), 5))\n",
    "print (\"\")\n",
    "\n",
    "\n",
    "# Decision Tree\n",
    "modelDTR = DecisionTreeClassifier()\n",
    "modelDTR.fit(X_train, y_train)\n",
    "\n",
    "print(\"accuracy score on decision tree classifier test set:\",round(modelDTR.score(X_test, y_test), 5))\n",
    "print(\"accuracy score on decision tree classifier train set:\",round(modelDTR.score(X_train, y_train), 5))\n",
    "print (\"\")\n",
    "\n",
    "# Random Forest\n",
    "rfc = RandomForestClassifier(n_estimators=15)\n",
    "rfc.fit(X_train, y_train)\n",
    "\n",
    "print(\"accuracy score on RandomForest classifier test set:\",round(rfc.score(X_test, y_test), 5))\n",
    "print(\"accuracy score on RandomForest classifier train set:\",round(rfc.score(X_train, y_train), 5))"
   ]
  },
  {
   "cell_type": "code",
   "execution_count": 543,
   "metadata": {},
   "outputs": [
    {
     "name": "stderr",
     "output_type": "stream",
     "text": [
      "C:\\Users\\Berenger\\anaconda3\\lib\\site-packages\\sklearn\\linear_model\\_logistic.py:763: ConvergenceWarning: lbfgs failed to converge (status=1):\n",
      "STOP: TOTAL NO. of ITERATIONS REACHED LIMIT.\n",
      "\n",
      "Increase the number of iterations (max_iter) or scale the data as shown in:\n",
      "    https://scikit-learn.org/stable/modules/preprocessing.html\n",
      "Please also refer to the documentation for alternative solver options:\n",
      "    https://scikit-learn.org/stable/modules/linear_model.html#logistic-regression\n",
      "  n_iter_i = _check_optimize_result(\n"
     ]
    },
    {
     "name": "stdout",
     "output_type": "stream",
     "text": [
      "accuracy score on logistic regression train set: 0.67351\n",
      "accuracy score on logistic regression test set: 0.67815\n",
      "\n",
      "accuracy score on decision tree classifier train set: 0.99926\n",
      "accuracy score on decision tree classifier test set: 0.56243\n",
      "\n",
      "accuracy score on RandomForest classifier test set: 0.66912\n",
      "accuracy score on RandomForest classifier train set: 0.99174\n"
     ]
    }
   ],
   "source": [
    "# Create and fit a scaler model\n",
    "scaler = StandardScaler().fit(X_train)\n",
    "\n",
    "# Your scaler model can now transform your data\n",
    "X_train_scaled = scaler.transform(X_train)\n",
    "X_test_scaled = scaler.transform(X_test)\n",
    "\n",
    "# Logistic Regression\n",
    "model = LogisticRegression(max_iter=10).fit(X_train_scaled,y_train)\n",
    "\n",
    "print(\"accuracy score on logistic regression train set:\",round(model.score(X_train_scaled, y_train), 5))\n",
    "print(\"accuracy score on logistic regression test set:\",round(model.score(X_test_scaled, y_test), 5))\n",
    "print (\"\")\n",
    "\n",
    "# Decision Tree\n",
    "modelDTR = DecisionTreeClassifier()\n",
    "modelDTR.fit(X_train_scaled, y_train)\n",
    "\n",
    "print(\"accuracy score on decision tree classifier train set:\",round(modelDTR.score(X_train_scaled, y_train), 5))\n",
    "print(\"accuracy score on decision tree classifier test set:\",round(modelDTR.score(X_test_scaled, y_test), 5))\n",
    "print (\"\")\n",
    "\n",
    "# Random Forest\n",
    "rfc = RandomForestClassifier(n_estimators=15)\n",
    "rfc.fit(X_train, y_train)\n",
    "\n",
    "print(\"accuracy score on RandomForest classifier test set:\",round(rfc.score(X_test, y_test), 5))\n",
    "print(\"accuracy score on RandomForest classifier train set:\",round(rfc.score(X_train, y_train), 5))"
   ]
  },
  {
   "cell_type": "code",
   "execution_count": 554,
   "metadata": {},
   "outputs": [
    {
     "name": "stdout",
     "output_type": "stream",
     "text": [
      "accuracy score on logistic regression train set: 0.67356\n",
      "accuracy score on logistic regression test set: 0.67743\n",
      "\n"
     ]
    },
    {
     "name": "stderr",
     "output_type": "stream",
     "text": [
      "C:\\Users\\Berenger\\anaconda3\\lib\\site-packages\\sklearn\\linear_model\\_logistic.py:763: ConvergenceWarning: lbfgs failed to converge (status=1):\n",
      "STOP: TOTAL NO. of ITERATIONS REACHED LIMIT.\n",
      "\n",
      "Increase the number of iterations (max_iter) or scale the data as shown in:\n",
      "    https://scikit-learn.org/stable/modules/preprocessing.html\n",
      "Please also refer to the documentation for alternative solver options:\n",
      "    https://scikit-learn.org/stable/modules/linear_model.html#logistic-regression\n",
      "  n_iter_i = _check_optimize_result(\n"
     ]
    }
   ],
   "source": [
    "# Logistic Regression\n",
    "model = LogisticRegression(max_iter=20).fit(X_train_scaled,y_train)\n",
    "\n",
    "print(\"accuracy score on logistic regression train set:\",round(model.score(X_train_scaled, y_train), 5))\n",
    "print(\"accuracy score on logistic regression test set:\",round(model.score(X_test_scaled, y_test), 5))\n",
    "print (\"\")"
   ]
  },
  {
   "cell_type": "code",
   "execution_count": 545,
   "metadata": {},
   "outputs": [],
   "source": [
    "# # Random Forest\n",
    "# rfc = RandomForestClassifier(n_estimators= 9, max_features= 'sqrt', max_depth= 54, criterion= 'entropy')\n",
    "# rfc.fit(X_train, y_train)\n",
    "\n",
    "# print(\"accuracy score on RandomForest classifier test set:\",round(rfc.score(X_test, y_test), 5))\n",
    "# print(\"accuracy score on RandomForest classifier train set:\",round(rfc.score(X_train, y_train), 5))"
   ]
  },
  {
   "cell_type": "code",
   "execution_count": 546,
   "metadata": {},
   "outputs": [],
   "source": [
    "# param_grid = {'n_estimators': range(5, 21)\n",
    "#               ,'max_features': ['auto', 'sqrt', 'log2']\n",
    "#               ,'max_depth': range(50, 55)\n",
    "#               ,'criterion': ['gini', 'entropy']\n",
    "#               }\n",
    "\n",
    "# rando = RandomizedSearchCV(RandomForestClassifier(), param_grid, n_iter=2)\n",
    "# rando.fit(X_train, y_train)\n",
    "\n",
    "# print(\"best score:\",rando.best_score_)\n",
    "# print(\"best parameters:\",rando.best_params_)"
   ]
  },
  {
   "cell_type": "code",
   "execution_count": 547,
   "metadata": {},
   "outputs": [],
   "source": [
    "# dico = {'max_depth': range(1,51),\n",
    "#         'min_samples_leaf': range(1,16),\n",
    "#         'min_samples_split' : (2, 5, 7, 10, 15, 30)}\n",
    "\n",
    "# rando = RandomizedSearchCV(DecisionTreeClassifier(), dico, n_iter=2)\n",
    "# rando.fit(X,y)\n",
    "\n",
    "# print(\"best score:\",rando.best_score_)\n",
    "# print(\"best parameters:\",rando.best_params_)"
   ]
  },
  {
   "cell_type": "code",
   "execution_count": 548,
   "metadata": {},
   "outputs": [],
   "source": [
    "# param_grid = {'n_estimators': range(5,11)\n",
    "#               #,'max_features': ['auto', 'sqrt', 'log2']\n",
    "#               #,'max_depth': range(50, 55)\n",
    "#               #,'criterion': ['gini', 'entropy']\n",
    "#               }\n",
    "\n",
    "# grid = GridSearchCV(RandomForestClassifier(), param_grid)\n",
    "# grid.fit(X_train, y_train)\n",
    "\n",
    "# print(\"best score:\",grid.best_score_)\n",
    "# print(\"best parameters:\",grid.best_params_)"
   ]
  },
  {
   "cell_type": "code",
   "execution_count": 555,
   "metadata": {},
   "outputs": [],
   "source": [
    "df_music_without_0_pop.to_csv(\"..\\data\\music_dumies.csv.zip\", header = True, compression = \"zip\")"
   ]
  }
 ],
 "metadata": {
  "interpreter": {
   "hash": "78b7e305d27bf9bc60ca6e97d3f20268b064d9f5fcf2d23d574a1486a0310c34"
  },
  "kernelspec": {
   "display_name": "Python 3.8.12 64-bit ('base': conda)",
   "language": "python",
   "name": "python3"
  },
  "language_info": {
   "codemirror_mode": {
    "name": "ipython",
    "version": 3
   },
   "file_extension": ".py",
   "mimetype": "text/x-python",
   "name": "python",
   "nbconvert_exporter": "python",
   "pygments_lexer": "ipython3",
   "version": "3.8.12"
  },
  "orig_nbformat": 4
 },
 "nbformat": 4,
 "nbformat_minor": 2
}
