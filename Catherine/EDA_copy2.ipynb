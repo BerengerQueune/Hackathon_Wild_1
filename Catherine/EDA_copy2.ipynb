{
 "cells": [
  {
   "cell_type": "code",
   "execution_count": 27,
   "metadata": {},
   "outputs": [
    {
     "data": {
      "text/html": [
       "<div>\n",
       "<style scoped>\n",
       "    .dataframe tbody tr th:only-of-type {\n",
       "        vertical-align: middle;\n",
       "    }\n",
       "\n",
       "    .dataframe tbody tr th {\n",
       "        vertical-align: top;\n",
       "    }\n",
       "\n",
       "    .dataframe thead th {\n",
       "        text-align: right;\n",
       "    }\n",
       "</style>\n",
       "<table border=\"1\" class=\"dataframe\">\n",
       "  <thead>\n",
       "    <tr style=\"text-align: right;\">\n",
       "      <th></th>\n",
       "      <th>genre</th>\n",
       "      <th>artist_name</th>\n",
       "      <th>track_name</th>\n",
       "      <th>track_id</th>\n",
       "      <th>popularity</th>\n",
       "      <th>acousticness</th>\n",
       "      <th>danceability</th>\n",
       "      <th>duration_ms</th>\n",
       "      <th>energy</th>\n",
       "      <th>instrumentalness</th>\n",
       "      <th>key</th>\n",
       "      <th>liveness</th>\n",
       "      <th>loudness</th>\n",
       "      <th>mode</th>\n",
       "      <th>speechiness</th>\n",
       "      <th>tempo</th>\n",
       "      <th>time_signature</th>\n",
       "      <th>valence</th>\n",
       "    </tr>\n",
       "  </thead>\n",
       "  <tbody>\n",
       "    <tr>\n",
       "      <th>0</th>\n",
       "      <td>Movie</td>\n",
       "      <td>Henri Salvador</td>\n",
       "      <td>C'est beau de faire un Show</td>\n",
       "      <td>0BRjO6ga9RKCKjfDqeFgWV</td>\n",
       "      <td>0</td>\n",
       "      <td>0.611</td>\n",
       "      <td>0.389</td>\n",
       "      <td>99373</td>\n",
       "      <td>0.910</td>\n",
       "      <td>0.000</td>\n",
       "      <td>C#</td>\n",
       "      <td>0.3460</td>\n",
       "      <td>-1.828</td>\n",
       "      <td>Major</td>\n",
       "      <td>0.0525</td>\n",
       "      <td>166.969</td>\n",
       "      <td>4/4</td>\n",
       "      <td>0.814</td>\n",
       "    </tr>\n",
       "    <tr>\n",
       "      <th>1</th>\n",
       "      <td>Movie</td>\n",
       "      <td>Martin &amp; les fées</td>\n",
       "      <td>Perdu d'avance (par Gad Elmaleh)</td>\n",
       "      <td>0BjC1NfoEOOusryehmNudP</td>\n",
       "      <td>1</td>\n",
       "      <td>0.246</td>\n",
       "      <td>0.590</td>\n",
       "      <td>137373</td>\n",
       "      <td>0.737</td>\n",
       "      <td>0.000</td>\n",
       "      <td>F#</td>\n",
       "      <td>0.1510</td>\n",
       "      <td>-5.559</td>\n",
       "      <td>Minor</td>\n",
       "      <td>0.0868</td>\n",
       "      <td>174.003</td>\n",
       "      <td>4/4</td>\n",
       "      <td>0.816</td>\n",
       "    </tr>\n",
       "    <tr>\n",
       "      <th>2</th>\n",
       "      <td>Movie</td>\n",
       "      <td>Joseph Williams</td>\n",
       "      <td>Don't Let Me Be Lonely Tonight</td>\n",
       "      <td>0CoSDzoNIKCRs124s9uTVy</td>\n",
       "      <td>3</td>\n",
       "      <td>0.952</td>\n",
       "      <td>0.663</td>\n",
       "      <td>170267</td>\n",
       "      <td>0.131</td>\n",
       "      <td>0.000</td>\n",
       "      <td>C</td>\n",
       "      <td>0.1030</td>\n",
       "      <td>-13.879</td>\n",
       "      <td>Minor</td>\n",
       "      <td>0.0362</td>\n",
       "      <td>99.488</td>\n",
       "      <td>5/4</td>\n",
       "      <td>0.368</td>\n",
       "    </tr>\n",
       "    <tr>\n",
       "      <th>3</th>\n",
       "      <td>Movie</td>\n",
       "      <td>Henri Salvador</td>\n",
       "      <td>Dis-moi Monsieur Gordon Cooper</td>\n",
       "      <td>0Gc6TVm52BwZD07Ki6tIvf</td>\n",
       "      <td>0</td>\n",
       "      <td>0.703</td>\n",
       "      <td>0.240</td>\n",
       "      <td>152427</td>\n",
       "      <td>0.326</td>\n",
       "      <td>0.000</td>\n",
       "      <td>C#</td>\n",
       "      <td>0.0985</td>\n",
       "      <td>-12.178</td>\n",
       "      <td>Major</td>\n",
       "      <td>0.0395</td>\n",
       "      <td>171.758</td>\n",
       "      <td>4/4</td>\n",
       "      <td>0.227</td>\n",
       "    </tr>\n",
       "    <tr>\n",
       "      <th>4</th>\n",
       "      <td>Movie</td>\n",
       "      <td>Fabien Nataf</td>\n",
       "      <td>Ouverture</td>\n",
       "      <td>0IuslXpMROHdEPvSl1fTQK</td>\n",
       "      <td>4</td>\n",
       "      <td>0.950</td>\n",
       "      <td>0.331</td>\n",
       "      <td>82625</td>\n",
       "      <td>0.225</td>\n",
       "      <td>0.123</td>\n",
       "      <td>F</td>\n",
       "      <td>0.2020</td>\n",
       "      <td>-21.150</td>\n",
       "      <td>Major</td>\n",
       "      <td>0.0456</td>\n",
       "      <td>140.576</td>\n",
       "      <td>4/4</td>\n",
       "      <td>0.390</td>\n",
       "    </tr>\n",
       "  </tbody>\n",
       "</table>\n",
       "</div>"
      ],
      "text/plain": [
       "   genre        artist_name                        track_name  \\\n",
       "0  Movie     Henri Salvador       C'est beau de faire un Show   \n",
       "1  Movie  Martin & les fées  Perdu d'avance (par Gad Elmaleh)   \n",
       "2  Movie    Joseph Williams    Don't Let Me Be Lonely Tonight   \n",
       "3  Movie     Henri Salvador    Dis-moi Monsieur Gordon Cooper   \n",
       "4  Movie       Fabien Nataf                         Ouverture   \n",
       "\n",
       "                 track_id  popularity  acousticness  danceability  \\\n",
       "0  0BRjO6ga9RKCKjfDqeFgWV           0         0.611         0.389   \n",
       "1  0BjC1NfoEOOusryehmNudP           1         0.246         0.590   \n",
       "2  0CoSDzoNIKCRs124s9uTVy           3         0.952         0.663   \n",
       "3  0Gc6TVm52BwZD07Ki6tIvf           0         0.703         0.240   \n",
       "4  0IuslXpMROHdEPvSl1fTQK           4         0.950         0.331   \n",
       "\n",
       "   duration_ms  energy  instrumentalness key  liveness  loudness   mode  \\\n",
       "0        99373   0.910             0.000  C#    0.3460    -1.828  Major   \n",
       "1       137373   0.737             0.000  F#    0.1510    -5.559  Minor   \n",
       "2       170267   0.131             0.000   C    0.1030   -13.879  Minor   \n",
       "3       152427   0.326             0.000  C#    0.0985   -12.178  Major   \n",
       "4        82625   0.225             0.123   F    0.2020   -21.150  Major   \n",
       "\n",
       "   speechiness    tempo time_signature  valence  \n",
       "0       0.0525  166.969            4/4    0.814  \n",
       "1       0.0868  174.003            4/4    0.816  \n",
       "2       0.0362   99.488            5/4    0.368  \n",
       "3       0.0395  171.758            4/4    0.227  \n",
       "4       0.0456  140.576            4/4    0.390  "
      ]
     },
     "execution_count": 27,
     "metadata": {},
     "output_type": "execute_result"
    }
   ],
   "source": [
    "import pandas as pd\n",
    "import seaborn as sns\n",
    "import numpy as np\n",
    "\n",
    "from sklearn.model_selection import train_test_split\n",
    "from sklearn.linear_model import LogisticRegression\n",
    "from sklearn.linear_model import LinearRegression\n",
    "from sklearn.metrics import confusion_matrix\n",
    "import seaborn as sns\n",
    "\n",
    "import matplotlib.pyplot as plt\n",
    "import plotly.express as px \n",
    "import plotly.graph_objects as go \n",
    "\n",
    "url = \"https://raw.githubusercontent.com/murpi/wilddata/master/quests/spotify.zip\"\n",
    "df_music = pd.read_csv(url)\n",
    "\n",
    "df_music2 = df_music.copy()\n",
    "df_music2.head()"
   ]
  },
  {
   "cell_type": "code",
   "execution_count": 28,
   "metadata": {},
   "outputs": [],
   "source": [
    "df_music2.drop(columns=['time_signature', 'key', 'track_id',], inplace=True)"
   ]
  },
  {
   "cell_type": "code",
   "execution_count": 29,
   "metadata": {},
   "outputs": [
    {
     "data": {
      "text/html": [
       "<div>\n",
       "<style scoped>\n",
       "    .dataframe tbody tr th:only-of-type {\n",
       "        vertical-align: middle;\n",
       "    }\n",
       "\n",
       "    .dataframe tbody tr th {\n",
       "        vertical-align: top;\n",
       "    }\n",
       "\n",
       "    .dataframe thead th {\n",
       "        text-align: right;\n",
       "    }\n",
       "</style>\n",
       "<table border=\"1\" class=\"dataframe\">\n",
       "  <thead>\n",
       "    <tr style=\"text-align: right;\">\n",
       "      <th></th>\n",
       "      <th>genre</th>\n",
       "      <th>artist_name</th>\n",
       "      <th>track_name</th>\n",
       "      <th>popularity</th>\n",
       "      <th>acousticness</th>\n",
       "      <th>danceability</th>\n",
       "      <th>duration_ms</th>\n",
       "      <th>energy</th>\n",
       "      <th>instrumentalness</th>\n",
       "      <th>liveness</th>\n",
       "      <th>loudness</th>\n",
       "      <th>mode</th>\n",
       "      <th>speechiness</th>\n",
       "      <th>tempo</th>\n",
       "      <th>valence</th>\n",
       "    </tr>\n",
       "  </thead>\n",
       "  <tbody>\n",
       "    <tr>\n",
       "      <th>71649</th>\n",
       "      <td>Children's Music</td>\n",
       "      <td>Toddler Tunes</td>\n",
       "      <td>Itsy Bitsy Spider</td>\n",
       "      <td>47</td>\n",
       "      <td>0.302000</td>\n",
       "      <td>0.901</td>\n",
       "      <td>137454</td>\n",
       "      <td>0.526</td>\n",
       "      <td>0.000000</td>\n",
       "      <td>0.0540</td>\n",
       "      <td>-7.296</td>\n",
       "      <td>Minor</td>\n",
       "      <td>0.0362</td>\n",
       "      <td>109.946</td>\n",
       "      <td>0.706</td>\n",
       "    </tr>\n",
       "    <tr>\n",
       "      <th>71650</th>\n",
       "      <td>Children's Music</td>\n",
       "      <td>Spongebob Squarepants</td>\n",
       "      <td>The Best Day Ever</td>\n",
       "      <td>47</td>\n",
       "      <td>0.202000</td>\n",
       "      <td>0.565</td>\n",
       "      <td>182173</td>\n",
       "      <td>0.758</td>\n",
       "      <td>0.000000</td>\n",
       "      <td>0.0552</td>\n",
       "      <td>-5.205</td>\n",
       "      <td>Major</td>\n",
       "      <td>0.0294</td>\n",
       "      <td>127.817</td>\n",
       "      <td>0.605</td>\n",
       "    </tr>\n",
       "    <tr>\n",
       "      <th>71651</th>\n",
       "      <td>Children's Music</td>\n",
       "      <td>Blippi</td>\n",
       "      <td>The Excavator Song</td>\n",
       "      <td>46</td>\n",
       "      <td>0.528000</td>\n",
       "      <td>0.737</td>\n",
       "      <td>175187</td>\n",
       "      <td>0.549</td>\n",
       "      <td>0.000087</td>\n",
       "      <td>0.2990</td>\n",
       "      <td>-13.215</td>\n",
       "      <td>Major</td>\n",
       "      <td>0.0382</td>\n",
       "      <td>124.980</td>\n",
       "      <td>0.840</td>\n",
       "    </tr>\n",
       "    <tr>\n",
       "      <th>71652</th>\n",
       "      <td>Children's Music</td>\n",
       "      <td>Pinkfong</td>\n",
       "      <td>Baby Shark Music Box</td>\n",
       "      <td>44</td>\n",
       "      <td>0.688000</td>\n",
       "      <td>0.686</td>\n",
       "      <td>110523</td>\n",
       "      <td>0.121</td>\n",
       "      <td>0.885000</td>\n",
       "      <td>0.0793</td>\n",
       "      <td>-20.751</td>\n",
       "      <td>Major</td>\n",
       "      <td>0.1030</td>\n",
       "      <td>148.002</td>\n",
       "      <td>0.818</td>\n",
       "    </tr>\n",
       "    <tr>\n",
       "      <th>71653</th>\n",
       "      <td>Children's Music</td>\n",
       "      <td>Toddler Tunes</td>\n",
       "      <td>Head, Shoulders, Knees and Toes</td>\n",
       "      <td>47</td>\n",
       "      <td>0.249000</td>\n",
       "      <td>0.867</td>\n",
       "      <td>83291</td>\n",
       "      <td>0.729</td>\n",
       "      <td>0.000000</td>\n",
       "      <td>0.0802</td>\n",
       "      <td>-6.616</td>\n",
       "      <td>Major</td>\n",
       "      <td>0.0373</td>\n",
       "      <td>120.129</td>\n",
       "      <td>0.793</td>\n",
       "    </tr>\n",
       "    <tr>\n",
       "      <th>...</th>\n",
       "      <td>...</td>\n",
       "      <td>...</td>\n",
       "      <td>...</td>\n",
       "      <td>...</td>\n",
       "      <td>...</td>\n",
       "      <td>...</td>\n",
       "      <td>...</td>\n",
       "      <td>...</td>\n",
       "      <td>...</td>\n",
       "      <td>...</td>\n",
       "      <td>...</td>\n",
       "      <td>...</td>\n",
       "      <td>...</td>\n",
       "      <td>...</td>\n",
       "      <td>...</td>\n",
       "    </tr>\n",
       "    <tr>\n",
       "      <th>104017</th>\n",
       "      <td>Children’s Music</td>\n",
       "      <td>Smash Mouth</td>\n",
       "      <td>Then The Morning Comes</td>\n",
       "      <td>46</td>\n",
       "      <td>0.024000</td>\n",
       "      <td>0.736</td>\n",
       "      <td>182267</td>\n",
       "      <td>0.868</td>\n",
       "      <td>0.000000</td>\n",
       "      <td>0.0735</td>\n",
       "      <td>-4.972</td>\n",
       "      <td>Minor</td>\n",
       "      <td>0.0289</td>\n",
       "      <td>118.599</td>\n",
       "      <td>0.961</td>\n",
       "    </tr>\n",
       "    <tr>\n",
       "      <th>104018</th>\n",
       "      <td>Children’s Music</td>\n",
       "      <td>Built To Spill</td>\n",
       "      <td>Liar</td>\n",
       "      <td>52</td>\n",
       "      <td>0.266000</td>\n",
       "      <td>0.537</td>\n",
       "      <td>311347</td>\n",
       "      <td>0.755</td>\n",
       "      <td>0.090100</td>\n",
       "      <td>0.2620</td>\n",
       "      <td>-8.187</td>\n",
       "      <td>Major</td>\n",
       "      <td>0.0269</td>\n",
       "      <td>134.879</td>\n",
       "      <td>0.538</td>\n",
       "    </tr>\n",
       "    <tr>\n",
       "      <th>104019</th>\n",
       "      <td>Children’s Music</td>\n",
       "      <td>Moon Taxi</td>\n",
       "      <td>Let The Record Play</td>\n",
       "      <td>44</td>\n",
       "      <td>0.004400</td>\n",
       "      <td>0.672</td>\n",
       "      <td>188667</td>\n",
       "      <td>0.855</td>\n",
       "      <td>0.160000</td>\n",
       "      <td>0.1670</td>\n",
       "      <td>-4.293</td>\n",
       "      <td>Minor</td>\n",
       "      <td>0.0785</td>\n",
       "      <td>166.025</td>\n",
       "      <td>0.779</td>\n",
       "    </tr>\n",
       "    <tr>\n",
       "      <th>104020</th>\n",
       "      <td>Children’s Music</td>\n",
       "      <td>Rend Collective</td>\n",
       "      <td>Every Giant Will Fall</td>\n",
       "      <td>49</td>\n",
       "      <td>0.019800</td>\n",
       "      <td>0.551</td>\n",
       "      <td>225320</td>\n",
       "      <td>0.847</td>\n",
       "      <td>0.000000</td>\n",
       "      <td>0.1320</td>\n",
       "      <td>-6.909</td>\n",
       "      <td>Major</td>\n",
       "      <td>0.0456</td>\n",
       "      <td>111.975</td>\n",
       "      <td>0.445</td>\n",
       "    </tr>\n",
       "    <tr>\n",
       "      <th>104021</th>\n",
       "      <td>Children’s Music</td>\n",
       "      <td>We As Human</td>\n",
       "      <td>Strike Back</td>\n",
       "      <td>45</td>\n",
       "      <td>0.000046</td>\n",
       "      <td>0.523</td>\n",
       "      <td>194147</td>\n",
       "      <td>0.919</td>\n",
       "      <td>0.000005</td>\n",
       "      <td>0.1680</td>\n",
       "      <td>-3.771</td>\n",
       "      <td>Major</td>\n",
       "      <td>0.0383</td>\n",
       "      <td>110.017</td>\n",
       "      <td>0.385</td>\n",
       "    </tr>\n",
       "  </tbody>\n",
       "</table>\n",
       "<p>14756 rows × 15 columns</p>\n",
       "</div>"
      ],
      "text/plain": [
       "                   genre            artist_name  \\\n",
       "71649   Children's Music          Toddler Tunes   \n",
       "71650   Children's Music  Spongebob Squarepants   \n",
       "71651   Children's Music                 Blippi   \n",
       "71652   Children's Music               Pinkfong   \n",
       "71653   Children's Music          Toddler Tunes   \n",
       "...                  ...                    ...   \n",
       "104017  Children’s Music            Smash Mouth   \n",
       "104018  Children’s Music         Built To Spill   \n",
       "104019  Children’s Music              Moon Taxi   \n",
       "104020  Children’s Music        Rend Collective   \n",
       "104021  Children’s Music            We As Human   \n",
       "\n",
       "                             track_name  popularity  acousticness  \\\n",
       "71649                 Itsy Bitsy Spider          47      0.302000   \n",
       "71650                 The Best Day Ever          47      0.202000   \n",
       "71651                The Excavator Song          46      0.528000   \n",
       "71652              Baby Shark Music Box          44      0.688000   \n",
       "71653   Head, Shoulders, Knees and Toes          47      0.249000   \n",
       "...                                 ...         ...           ...   \n",
       "104017           Then The Morning Comes          46      0.024000   \n",
       "104018                             Liar          52      0.266000   \n",
       "104019              Let The Record Play          44      0.004400   \n",
       "104020            Every Giant Will Fall          49      0.019800   \n",
       "104021                      Strike Back          45      0.000046   \n",
       "\n",
       "        danceability  duration_ms  energy  instrumentalness  liveness  \\\n",
       "71649          0.901       137454   0.526          0.000000    0.0540   \n",
       "71650          0.565       182173   0.758          0.000000    0.0552   \n",
       "71651          0.737       175187   0.549          0.000087    0.2990   \n",
       "71652          0.686       110523   0.121          0.885000    0.0793   \n",
       "71653          0.867        83291   0.729          0.000000    0.0802   \n",
       "...              ...          ...     ...               ...       ...   \n",
       "104017         0.736       182267   0.868          0.000000    0.0735   \n",
       "104018         0.537       311347   0.755          0.090100    0.2620   \n",
       "104019         0.672       188667   0.855          0.160000    0.1670   \n",
       "104020         0.551       225320   0.847          0.000000    0.1320   \n",
       "104021         0.523       194147   0.919          0.000005    0.1680   \n",
       "\n",
       "        loudness   mode  speechiness    tempo  valence  \n",
       "71649     -7.296  Minor       0.0362  109.946    0.706  \n",
       "71650     -5.205  Major       0.0294  127.817    0.605  \n",
       "71651    -13.215  Major       0.0382  124.980    0.840  \n",
       "71652    -20.751  Major       0.1030  148.002    0.818  \n",
       "71653     -6.616  Major       0.0373  120.129    0.793  \n",
       "...          ...    ...          ...      ...      ...  \n",
       "104017    -4.972  Minor       0.0289  118.599    0.961  \n",
       "104018    -8.187  Major       0.0269  134.879    0.538  \n",
       "104019    -4.293  Minor       0.0785  166.025    0.779  \n",
       "104020    -6.909  Major       0.0456  111.975    0.445  \n",
       "104021    -3.771  Major       0.0383  110.017    0.385  \n",
       "\n",
       "[14756 rows x 15 columns]"
      ]
     },
     "execution_count": 29,
     "metadata": {},
     "output_type": "execute_result"
    }
   ],
   "source": [
    "df_music2[(df_music2['genre'] == 'Children’s Music') | (df_music2['genre'] == \"Children's Music\")]"
   ]
  },
  {
   "cell_type": "code",
   "execution_count": 30,
   "metadata": {},
   "outputs": [],
   "source": [
    "df_music2.drop(df_music2[(df_music2['genre'] == 'Soundtrack') | (df_music2['genre'] == 'Movie')].index, inplace=True)\n",
    "df_music2 = df_music2.reset_index(drop=True)"
   ]
  },
  {
   "cell_type": "code",
   "execution_count": 31,
   "metadata": {},
   "outputs": [],
   "source": [
    "df_music2['genre'].replace(\"Children’s Music\", \"Children's Music\", inplace=True)"
   ]
  },
  {
   "cell_type": "code",
   "execution_count": 32,
   "metadata": {},
   "outputs": [],
   "source": [
    "#transform ms en s\n",
    "df_music2['duration_ms'] = round(df_music2['duration_ms']/1000,2)"
   ]
  },
  {
   "cell_type": "code",
   "execution_count": 33,
   "metadata": {},
   "outputs": [],
   "source": [
    "#rename columns ms\n",
    "df_music2.rename(columns={'duration_ms':'duration_sec'},inplace=True)\n"
   ]
  },
  {
   "cell_type": "code",
   "execution_count": 34,
   "metadata": {},
   "outputs": [],
   "source": [
    "Percent_popularity_genre = round(((df_music2.value_counts('genre', 'popularity'))*100),3)\n",
    "\n",
    "Percent_genre_danceability = round(((df_music2.value_counts('genre', 'danceability'))*100),3)\n",
    "\n",
    "popularity_genre = round(df_music2.groupby(by=['genre']).mean('popularity'),2).sort_values(['popularity'], ascending=False).reset_index()\n",
    "\n",
    "best_genre_valence = round(df_music2.groupby(by=['genre']).mean('valence'),2).sort_values(['valence'], ascending=False).reset_index()\n",
    "\n",
    "best_popularity_valence = round(df_music2.groupby(by=['genre','popularity']).mean('valence')*100,2).sort_values(['valence', 'popularity'], ascending=False).reset_index()[:11]"
   ]
  },
  {
   "cell_type": "code",
   "execution_count": 35,
   "metadata": {},
   "outputs": [
    {
     "data": {
      "text/html": [
       "<div>\n",
       "<style scoped>\n",
       "    .dataframe tbody tr th:only-of-type {\n",
       "        vertical-align: middle;\n",
       "    }\n",
       "\n",
       "    .dataframe tbody tr th {\n",
       "        vertical-align: top;\n",
       "    }\n",
       "\n",
       "    .dataframe thead th {\n",
       "        text-align: right;\n",
       "    }\n",
       "</style>\n",
       "<table border=\"1\" class=\"dataframe\">\n",
       "  <thead>\n",
       "    <tr style=\"text-align: right;\">\n",
       "      <th></th>\n",
       "      <th>valence</th>\n",
       "      <th>popularity</th>\n",
       "      <th>danceability</th>\n",
       "      <th>duration_sec</th>\n",
       "      <th>acousticness</th>\n",
       "      <th>energy</th>\n",
       "      <th>instrumentalness</th>\n",
       "      <th>liveness</th>\n",
       "      <th>loudness</th>\n",
       "      <th>speechiness</th>\n",
       "      <th>tempo</th>\n",
       "    </tr>\n",
       "  </thead>\n",
       "  <tbody>\n",
       "    <tr>\n",
       "      <th>0</th>\n",
       "      <td>98.0</td>\n",
       "      <td>79</td>\n",
       "      <td>69.7</td>\n",
       "      <td>21483.0</td>\n",
       "      <td>11.40</td>\n",
       "      <td>80.9</td>\n",
       "      <td>0.05</td>\n",
       "      <td>18.30</td>\n",
       "      <td>-819.70</td>\n",
       "      <td>3.02</td>\n",
       "      <td>12594.10</td>\n",
       "    </tr>\n",
       "    <tr>\n",
       "      <th>1</th>\n",
       "      <td>96.5</td>\n",
       "      <td>83</td>\n",
       "      <td>73.3</td>\n",
       "      <td>23960.0</td>\n",
       "      <td>14.50</td>\n",
       "      <td>71.0</td>\n",
       "      <td>11.50</td>\n",
       "      <td>9.56</td>\n",
       "      <td>-584.90</td>\n",
       "      <td>2.92</td>\n",
       "      <td>12797.50</td>\n",
       "    </tr>\n",
       "    <tr>\n",
       "      <th>2</th>\n",
       "      <td>93.4</td>\n",
       "      <td>9</td>\n",
       "      <td>47.5</td>\n",
       "      <td>26639.0</td>\n",
       "      <td>68.00</td>\n",
       "      <td>62.6</td>\n",
       "      <td>0.00</td>\n",
       "      <td>11.80</td>\n",
       "      <td>-859.60</td>\n",
       "      <td>24.90</td>\n",
       "      <td>17004.00</td>\n",
       "    </tr>\n",
       "    <tr>\n",
       "      <th>3</th>\n",
       "      <td>92.7</td>\n",
       "      <td>75</td>\n",
       "      <td>71.9</td>\n",
       "      <td>17293.0</td>\n",
       "      <td>9.12</td>\n",
       "      <td>51.5</td>\n",
       "      <td>0.00</td>\n",
       "      <td>7.91</td>\n",
       "      <td>-972.00</td>\n",
       "      <td>34.80</td>\n",
       "      <td>7651.80</td>\n",
       "    </tr>\n",
       "    <tr>\n",
       "      <th>4</th>\n",
       "      <td>91.9</td>\n",
       "      <td>55</td>\n",
       "      <td>73.8</td>\n",
       "      <td>5851.0</td>\n",
       "      <td>90.70</td>\n",
       "      <td>53.1</td>\n",
       "      <td>0.00</td>\n",
       "      <td>31.10</td>\n",
       "      <td>-735.00</td>\n",
       "      <td>14.00</td>\n",
       "      <td>17000.70</td>\n",
       "    </tr>\n",
       "    <tr>\n",
       "      <th>5</th>\n",
       "      <td>91.8</td>\n",
       "      <td>36</td>\n",
       "      <td>61.3</td>\n",
       "      <td>17148.0</td>\n",
       "      <td>1.69</td>\n",
       "      <td>87.6</td>\n",
       "      <td>11.10</td>\n",
       "      <td>10.50</td>\n",
       "      <td>-481.10</td>\n",
       "      <td>3.47</td>\n",
       "      <td>12402.40</td>\n",
       "    </tr>\n",
       "    <tr>\n",
       "      <th>6</th>\n",
       "      <td>91.4</td>\n",
       "      <td>5</td>\n",
       "      <td>71.8</td>\n",
       "      <td>14092.0</td>\n",
       "      <td>47.60</td>\n",
       "      <td>83.1</td>\n",
       "      <td>0.00</td>\n",
       "      <td>23.30</td>\n",
       "      <td>-539.00</td>\n",
       "      <td>10.80</td>\n",
       "      <td>20003.90</td>\n",
       "    </tr>\n",
       "    <tr>\n",
       "      <th>7</th>\n",
       "      <td>91.3</td>\n",
       "      <td>97</td>\n",
       "      <td>76.0</td>\n",
       "      <td>15804.0</td>\n",
       "      <td>55.60</td>\n",
       "      <td>47.9</td>\n",
       "      <td>0.00</td>\n",
       "      <td>7.03</td>\n",
       "      <td>-557.40</td>\n",
       "      <td>4.66</td>\n",
       "      <td>8991.10</td>\n",
       "    </tr>\n",
       "    <tr>\n",
       "      <th>8</th>\n",
       "      <td>89.0</td>\n",
       "      <td>76</td>\n",
       "      <td>73.4</td>\n",
       "      <td>18478.5</td>\n",
       "      <td>2.22</td>\n",
       "      <td>80.0</td>\n",
       "      <td>0.36</td>\n",
       "      <td>8.82</td>\n",
       "      <td>-793.45</td>\n",
       "      <td>5.28</td>\n",
       "      <td>12292.55</td>\n",
       "    </tr>\n",
       "    <tr>\n",
       "      <th>9</th>\n",
       "      <td>88.9</td>\n",
       "      <td>92</td>\n",
       "      <td>79.0</td>\n",
       "      <td>19000.0</td>\n",
       "      <td>43.70</td>\n",
       "      <td>63.1</td>\n",
       "      <td>0.00</td>\n",
       "      <td>15.80</td>\n",
       "      <td>-554.90</td>\n",
       "      <td>4.25</td>\n",
       "      <td>9403.90</td>\n",
       "    </tr>\n",
       "    <tr>\n",
       "      <th>10</th>\n",
       "      <td>88.6</td>\n",
       "      <td>80</td>\n",
       "      <td>59.6</td>\n",
       "      <td>28380.0</td>\n",
       "      <td>18.10</td>\n",
       "      <td>60.5</td>\n",
       "      <td>0.03</td>\n",
       "      <td>8.63</td>\n",
       "      <td>-1214.50</td>\n",
       "      <td>2.55</td>\n",
       "      <td>9779.80</td>\n",
       "    </tr>\n",
       "  </tbody>\n",
       "</table>\n",
       "</div>"
      ],
      "text/plain": [
       "    valence  popularity  danceability  duration_sec  acousticness  energy  \\\n",
       "0      98.0          79          69.7       21483.0         11.40    80.9   \n",
       "1      96.5          83          73.3       23960.0         14.50    71.0   \n",
       "2      93.4           9          47.5       26639.0         68.00    62.6   \n",
       "3      92.7          75          71.9       17293.0          9.12    51.5   \n",
       "4      91.9          55          73.8        5851.0         90.70    53.1   \n",
       "5      91.8          36          61.3       17148.0          1.69    87.6   \n",
       "6      91.4           5          71.8       14092.0         47.60    83.1   \n",
       "7      91.3          97          76.0       15804.0         55.60    47.9   \n",
       "8      89.0          76          73.4       18478.5          2.22    80.0   \n",
       "9      88.9          92          79.0       19000.0         43.70    63.1   \n",
       "10     88.6          80          59.6       28380.0         18.10    60.5   \n",
       "\n",
       "    instrumentalness  liveness  loudness  speechiness     tempo  \n",
       "0               0.05     18.30   -819.70         3.02  12594.10  \n",
       "1              11.50      9.56   -584.90         2.92  12797.50  \n",
       "2               0.00     11.80   -859.60        24.90  17004.00  \n",
       "3               0.00      7.91   -972.00        34.80   7651.80  \n",
       "4               0.00     31.10   -735.00        14.00  17000.70  \n",
       "5              11.10     10.50   -481.10         3.47  12402.40  \n",
       "6               0.00     23.30   -539.00        10.80  20003.90  \n",
       "7               0.00      7.03   -557.40         4.66   8991.10  \n",
       "8               0.36      8.82   -793.45         5.28  12292.55  \n",
       "9               0.00     15.80   -554.90         4.25   9403.90  \n",
       "10              0.03      8.63  -1214.50         2.55   9779.80  "
      ]
     },
     "execution_count": 35,
     "metadata": {},
     "output_type": "execute_result"
    }
   ],
   "source": [
    "best_popularity_valence = best_popularity_valence[['valence','popularity','danceability','duration_sec','acousticness','energy','instrumentalness','liveness','loudness','speechiness','tempo'\t]]\n",
    "best_popularity_valence \n"
   ]
  },
  {
   "cell_type": "code",
   "execution_count": 36,
   "metadata": {},
   "outputs": [
    {
     "data": {
      "image/png": "[encoded data removed]",
      "text/plain": [
       "<Figure size 1440x864 with 2 Axes>"
      ]
     },
     "metadata": {},
     "output_type": "display_data"
    }
   ],
   "source": [
    "bc = best_popularity_valence.corr()\n",
    "\n",
    "plt.subplots(figsize=(20, 12))\n",
    "\n",
    "#style\n",
    "sns.set_theme(style=\"white\")\n",
    "\n",
    "#heatmap with only direction\n",
    "mask = np.triu(np.ones_like(bc, dtype=bool))\n",
    "\n",
    "# heatmap\n",
    "sns.heatmap(bc,              \n",
    "            cmap=\"YlGnBu\",              \n",
    "            mask=mask,\n",
    "            center=0,                   \n",
    "            square=True,                \n",
    "            linewidths=.5,              \n",
    "            annot=True,                            \n",
    "            cbar_kws={\"shrink\": .5})    \n",
    "\n",
    "plt.title('Correlations heatmap ', size = 20)\n",
    "\n",
    "plt.show()"
   ]
  },
  {
   "cell_type": "code",
   "execution_count": 37,
   "metadata": {},
   "outputs": [
    {
     "data": {
      "application/vnd.plotly.v1+json": {
       "config": {
        "plotlyServerURL": "https://plot.ly"
       },
       "data": [
        {
         "line": {
          "color": "green"
         },
         "name": "*valence_popularity",
         "type": "scatter",
         "x": [
          98,
          96.5,
          93.4,
          92.7,
          91.9,
          91.8,
          91.4,
          91.3,
          89,
          88.9,
          88.6
         ],
         "y": [
          80.9,
          71,
          62.6,
          51.5,
          53.1,
          87.6,
          83.1,
          47.9,
          80,
          63.1,
          60.5
         ]
        },
        {
         "line": {
          "color": "rgb(231,107,243)"
         },
         "name": "valence_acousticness",
         "type": "scatter",
         "x": [
          98,
          96.5,
          93.4,
          92.7,
          91.9,
          91.8,
          91.4,
          91.3,
          89,
          88.9,
          88.6
         ],
         "y": [
          11.4,
          14.5,
          68,
          9.12,
          90.7,
          1.69,
          47.6,
          55.6,
          2.22,
          43.7,
          18.1
         ]
        }
       ],
       "layout": {
        "font": {
         "size": 13
        },
        "height": 600,
        "legend": {
         "title": {
          "text": "***"
         }
        },
        "template": {
         "data": {
          "bar": [
           {
            "error_x": {
             "color": "#f2f5fa"
            },
            "error_y": {
             "color": "#f2f5fa"
            },
            "marker": {
             "line": {
              "color": "rgb(17,17,17)",
              "width": 0.5
             },
             "pattern": {
              "fillmode": "overlay",
              "size": 10,
              "solidity": 0.2
             }
            },
            "type": "bar"
           }
          ],
          "barpolar": [
           {
            "marker": {
             "line": {
              "color": "rgb(17,17,17)",
              "width": 0.5
             },
             "pattern": {
              "fillmode": "overlay",
              "size": 10,
              "solidity": 0.2
             }
            },
            "type": "barpolar"
           }
          ],
          "carpet": [
           {
            "aaxis": {
             "endlinecolor": "#A2B1C6",
             "gridcolor": "#506784",
             "linecolor": "#506784",
             "minorgridcolor": "#506784",
             "startlinecolor": "#A2B1C6"
            },
            "baxis": {
             "endlinecolor": "#A2B1C6",
             "gridcolor": "#506784",
             "linecolor": "#506784",
             "minorgridcolor": "#506784",
             "startlinecolor": "#A2B1C6"
            },
            "type": "carpet"
           }
          ],
          "choropleth": [
           {
            "colorbar": {
             "outlinewidth": 0,
             "ticks": ""
            },
            "type": "choropleth"
           }
          ],
          "contour": [
           {
            "colorbar": {
             "outlinewidth": 0,
             "ticks": ""
            },
            "colorscale": [
             [
              0,
              "#0d0887"
             ],
             [
              0.1111111111111111,
              "#46039f"
             ],
             [
              0.2222222222222222,
              "#7201a8"
             ],
             [
              0.3333333333333333,
              "#9c179e"
             ],
             [
              0.4444444444444444,
              "#bd3786"
             ],
             [
              0.5555555555555556,
              "#d8576b"
             ],
             [
              0.6666666666666666,
              "#ed7953"
             ],
             [
              0.7777777777777778,
              "#fb9f3a"
             ],
             [
              0.8888888888888888,
              "#fdca26"
             ],
             [
              1,
              "#f0f921"
             ]
            ],
            "type": "contour"
           }
          ],
          "contourcarpet": [
           {
            "colorbar": {
             "outlinewidth": 0,
             "ticks": ""
            },
            "type": "contourcarpet"
           }
          ],
          "heatmap": [
           {
            "colorbar": {
             "outlinewidth": 0,
             "ticks": ""
            },
            "colorscale": [
             [
              0,
              "#0d0887"
             ],
             [
              0.1111111111111111,
              "#46039f"
             ],
             [
              0.2222222222222222,
              "#7201a8"
             ],
             [
              0.3333333333333333,
              "#9c179e"
             ],
             [
              0.4444444444444444,
              "#bd3786"
             ],
             [
              0.5555555555555556,
              "#d8576b"
             ],
             [
              0.6666666666666666,
              "#ed7953"
             ],
             [
              0.7777777777777778,
              "#fb9f3a"
             ],
             [
              0.8888888888888888,
              "#fdca26"
             ],
             [
              1,
              "#f0f921"
             ]
            ],
            "type": "heatmap"
           }
          ],
          "heatmapgl": [
           {
            "colorbar": {
             "outlinewidth": 0,
             "ticks": ""
            },
            "colorscale": [
             [
              0,
              "#0d0887"
             ],
             [
              0.1111111111111111,
              "#46039f"
             ],
             [
              0.2222222222222222,
              "#7201a8"
             ],
             [
              0.3333333333333333,
              "#9c179e"
             ],
             [
              0.4444444444444444,
              "#bd3786"
             ],
             [
              0.5555555555555556,
              "#d8576b"
             ],
             [
              0.6666666666666666,
              "#ed7953"
             ],
             [
              0.7777777777777778,
              "#fb9f3a"
             ],
             [
              0.8888888888888888,
              "#fdca26"
             ],
             [
              1,
              "#f0f921"
             ]
            ],
            "type": "heatmapgl"
           }
          ],
          "histogram": [
           {
            "marker": {
             "pattern": {
              "fillmode": "overlay",
              "size": 10,
              "solidity": 0.2
             }
            },
            "type": "histogram"
           }
          ],
          "histogram2d": [
           {
            "colorbar": {
             "outlinewidth": 0,
             "ticks": ""
            },
            "colorscale": [
             [
              0,
              "#0d0887"
             ],
             [
              0.1111111111111111,
              "#46039f"
             ],
             [
              0.2222222222222222,
              "#7201a8"
             ],
             [
              0.3333333333333333,
              "#9c179e"
             ],
             [
              0.4444444444444444,
              "#bd3786"
             ],
             [
              0.5555555555555556,
              "#d8576b"
             ],
             [
              0.6666666666666666,
              "#ed7953"
             ],
             [
              0.7777777777777778,
              "#fb9f3a"
             ],
             [
              0.8888888888888888,
              "#fdca26"
             ],
             [
              1,
              "#f0f921"
             ]
            ],
            "type": "histogram2d"
           }
          ],
          "histogram2dcontour": [
           {
            "colorbar": {
             "outlinewidth": 0,
             "ticks": ""
            },
            "colorscale": [
             [
              0,
              "#0d0887"
             ],
             [
              0.1111111111111111,
              "#46039f"
             ],
             [
              0.2222222222222222,
              "#7201a8"
             ],
             [
              0.3333333333333333,
              "#9c179e"
             ],
             [
              0.4444444444444444,
              "#bd3786"
             ],
             [
              0.5555555555555556,
              "#d8576b"
             ],
             [
              0.6666666666666666,
              "#ed7953"
             ],
             [
              0.7777777777777778,
              "#fb9f3a"
             ],
             [
              0.8888888888888888,
              "#fdca26"
             ],
             [
              1,
              "#f0f921"
             ]
            ],
            "type": "histogram2dcontour"
           }
          ],
          "mesh3d": [
           {
            "colorbar": {
             "outlinewidth": 0,
             "ticks": ""
            },
            "type": "mesh3d"
           }
          ],
          "parcoords": [
           {
            "line": {
             "colorbar": {
              "outlinewidth": 0,
              "ticks": ""
             }
            },
            "type": "parcoords"
           }
          ],
          "pie": [
           {
            "automargin": true,
            "type": "pie"
           }
          ],
          "scatter": [
           {
            "marker": {
             "line": {
              "color": "#283442"
             }
            },
            "type": "scatter"
           }
          ],
          "scatter3d": [
           {
            "line": {
             "colorbar": {
              "outlinewidth": 0,
              "ticks": ""
             }
            },
            "marker": {
             "colorbar": {
              "outlinewidth": 0,
              "ticks": ""
             }
            },
            "type": "scatter3d"
           }
          ],
          "scattercarpet": [
           {
            "marker": {
             "colorbar": {
              "outlinewidth": 0,
              "ticks": ""
             }
            },
            "type": "scattercarpet"
           }
          ],
          "scattergeo": [
           {
            "marker": {
             "colorbar": {
              "outlinewidth": 0,
              "ticks": ""
             }
            },
            "type": "scattergeo"
           }
          ],
          "scattergl": [
           {
            "marker": {
             "line": {
              "color": "#283442"
             }
            },
            "type": "scattergl"
           }
          ],
          "scattermapbox": [
           {
            "marker": {
             "colorbar": {
              "outlinewidth": 0,
              "ticks": ""
             }
            },
            "type": "scattermapbox"
           }
          ],
          "scatterpolar": [
           {
            "marker": {
             "colorbar": {
              "outlinewidth": 0,
              "ticks": ""
             }
            },
            "type": "scatterpolar"
           }
          ],
          "scatterpolargl": [
           {
            "marker": {
             "colorbar": {
              "outlinewidth": 0,
              "ticks": ""
             }
            },
            "type": "scatterpolargl"
           }
          ],
          "scatterternary": [
           {
            "marker": {
             "colorbar": {
              "outlinewidth": 0,
              "ticks": ""
             }
            },
            "type": "scatterternary"
           }
          ],
          "surface": [
           {
            "colorbar": {
             "outlinewidth": 0,
             "ticks": ""
            },
            "colorscale": [
             [
              0,
              "#0d0887"
             ],
             [
              0.1111111111111111,
              "#46039f"
             ],
             [
              0.2222222222222222,
              "#7201a8"
             ],
             [
              0.3333333333333333,
              "#9c179e"
             ],
             [
              0.4444444444444444,
              "#bd3786"
             ],
             [
              0.5555555555555556,
              "#d8576b"
             ],
             [
              0.6666666666666666,
              "#ed7953"
             ],
             [
              0.7777777777777778,
              "#fb9f3a"
             ],
             [
              0.8888888888888888,
              "#fdca26"
             ],
             [
              1,
              "#f0f921"
             ]
            ],
            "type": "surface"
           }
          ],
          "table": [
           {
            "cells": {
             "fill": {
              "color": "#506784"
             },
             "line": {
              "color": "rgb(17,17,17)"
             }
            },
            "header": {
             "fill": {
              "color": "#2a3f5f"
             },
             "line": {
              "color": "rgb(17,17,17)"
             }
            },
            "type": "table"
           }
          ]
         },
         "layout": {
          "annotationdefaults": {
           "arrowcolor": "#f2f5fa",
           "arrowhead": 0,
           "arrowwidth": 1
          },
          "autotypenumbers": "strict",
          "coloraxis": {
           "colorbar": {
            "outlinewidth": 0,
            "ticks": ""
           }
          },
          "colorscale": {
           "diverging": [
            [
             0,
             "#8e0152"
            ],
            [
             0.1,
             "#c51b7d"
            ],
            [
             0.2,
             "#de77ae"
            ],
            [
             0.3,
             "#f1b6da"
            ],
            [
             0.4,
             "#fde0ef"
            ],
            [
             0.5,
             "#f7f7f7"
            ],
            [
             0.6,
             "#e6f5d0"
            ],
            [
             0.7,
             "#b8e186"
            ],
            [
             0.8,
             "#7fbc41"
            ],
            [
             0.9,
             "#4d9221"
            ],
            [
             1,
             "#276419"
            ]
           ],
           "sequential": [
            [
             0,
             "#0d0887"
            ],
            [
             0.1111111111111111,
             "#46039f"
            ],
            [
             0.2222222222222222,
             "#7201a8"
            ],
            [
             0.3333333333333333,
             "#9c179e"
            ],
            [
             0.4444444444444444,
             "#bd3786"
            ],
            [
             0.5555555555555556,
             "#d8576b"
            ],
            [
             0.6666666666666666,
             "#ed7953"
            ],
            [
             0.7777777777777778,
             "#fb9f3a"
            ],
            [
             0.8888888888888888,
             "#fdca26"
            ],
            [
             1,
             "#f0f921"
            ]
           ],
           "sequentialminus": [
            [
             0,
             "#0d0887"
            ],
            [
             0.1111111111111111,
             "#46039f"
            ],
            [
             0.2222222222222222,
             "#7201a8"
            ],
            [
             0.3333333333333333,
             "#9c179e"
            ],
            [
             0.4444444444444444,
             "#bd3786"
            ],
            [
             0.5555555555555556,
             "#d8576b"
            ],
            [
             0.6666666666666666,
             "#ed7953"
            ],
            [
             0.7777777777777778,
             "#fb9f3a"
            ],
            [
             0.8888888888888888,
             "#fdca26"
            ],
            [
             1,
             "#f0f921"
            ]
           ]
          },
          "colorway": [
           "#636efa",
           "#EF553B",
           "#00cc96",
           "#ab63fa",
           "#FFA15A",
           "#19d3f3",
           "#FF6692",
           "#B6E880",
           "#FF97FF",
           "#FECB52"
          ],
          "font": {
           "color": "#f2f5fa"
          },
          "geo": {
           "bgcolor": "rgb(17,17,17)",
           "lakecolor": "rgb(17,17,17)",
           "landcolor": "rgb(17,17,17)",
           "showlakes": true,
           "showland": true,
           "subunitcolor": "#506784"
          },
          "hoverlabel": {
           "align": "left"
          },
          "hovermode": "closest",
          "mapbox": {
           "style": "dark"
          },
          "paper_bgcolor": "rgb(17,17,17)",
          "plot_bgcolor": "rgb(17,17,17)",
          "polar": {
           "angularaxis": {
            "gridcolor": "#506784",
            "linecolor": "#506784",
            "ticks": ""
           },
           "bgcolor": "rgb(17,17,17)",
           "radialaxis": {
            "gridcolor": "#506784",
            "linecolor": "#506784",
            "ticks": ""
           }
          },
          "scene": {
           "xaxis": {
            "backgroundcolor": "rgb(17,17,17)",
            "gridcolor": "#506784",
            "gridwidth": 2,
            "linecolor": "#506784",
            "showbackground": true,
            "ticks": "",
            "zerolinecolor": "#C8D4E3"
           },
           "yaxis": {
            "backgroundcolor": "rgb(17,17,17)",
            "gridcolor": "#506784",
            "gridwidth": 2,
            "linecolor": "#506784",
            "showbackground": true,
            "ticks": "",
            "zerolinecolor": "#C8D4E3"
           },
           "zaxis": {
            "backgroundcolor": "rgb(17,17,17)",
            "gridcolor": "#506784",
            "gridwidth": 2,
            "linecolor": "#506784",
            "showbackground": true,
            "ticks": "",
            "zerolinecolor": "#C8D4E3"
           }
          },
          "shapedefaults": {
           "line": {
            "color": "#f2f5fa"
           }
          },
          "sliderdefaults": {
           "bgcolor": "#C8D4E3",
           "bordercolor": "rgb(17,17,17)",
           "borderwidth": 1,
           "tickwidth": 0
          },
          "ternary": {
           "aaxis": {
            "gridcolor": "#506784",
            "linecolor": "#506784",
            "ticks": ""
           },
           "baxis": {
            "gridcolor": "#506784",
            "linecolor": "#506784",
            "ticks": ""
           },
           "bgcolor": "rgb(17,17,17)",
           "caxis": {
            "gridcolor": "#506784",
            "linecolor": "#506784",
            "ticks": ""
           }
          },
          "title": {
           "x": 0.05
          },
          "updatemenudefaults": {
           "bgcolor": "#506784",
           "borderwidth": 0
          },
          "xaxis": {
           "automargin": true,
           "gridcolor": "#283442",
           "linecolor": "#506784",
           "ticks": "",
           "title": {
            "standoff": 15
           },
           "zerolinecolor": "#283442",
           "zerolinewidth": 2
          },
          "yaxis": {
           "automargin": true,
           "gridcolor": "#283442",
           "linecolor": "#506784",
           "ticks": "",
           "title": {
            "standoff": 15
           },
           "zerolinecolor": "#283442",
           "zerolinewidth": 2
          }
         }
        },
        "title": {
         "text": "<b>Graph<b>",
         "x": 0.5
        },
        "width": 1300
       }
      }
     },
     "metadata": {},
     "output_type": "display_data"
    }
   ],
   "source": [
    "fig = go.Figure() \n",
    "\n",
    "\n",
    "fig.add_trace(go.Scatter(x=best_popularity_valence.valence, \n",
    "                    y=best_popularity_valence.energy, \n",
    "                    name=\"*valence_popularity\",\n",
    "                    \n",
    "                    line_color='green'))\n",
    "\n",
    "\n",
    "fig.add_trace(go.Scatter(x=best_popularity_valence.valence, \n",
    "                    y=best_popularity_valence.acousticness,\n",
    "                    name=\"valence_acousticness\",\n",
    "                    \n",
    "                    line_color='rgb(231,107,243)'))\n",
    "\n",
    "fig.update_layout(title ='<b>Graph<b>',\n",
    "                    title_x = 0.5,                    \n",
    "                    width=1300,\n",
    "                    height=600,\n",
    "                    legend_title=\"***\",\n",
    "                    template='plotly_dark',\n",
    "                    font_size=13\n",
    "                    )\n",
    "\n",
    "fig.show()"
   ]
  },
  {
   "cell_type": "code",
   "execution_count": 40,
   "metadata": {},
   "outputs": [
    {
     "data": {
      "text/html": [
       "<div>\n",
       "<style scoped>\n",
       "    .dataframe tbody tr th:only-of-type {\n",
       "        vertical-align: middle;\n",
       "    }\n",
       "\n",
       "    .dataframe tbody tr th {\n",
       "        vertical-align: top;\n",
       "    }\n",
       "\n",
       "    .dataframe thead th {\n",
       "        text-align: right;\n",
       "    }\n",
       "</style>\n",
       "<table border=\"1\" class=\"dataframe\">\n",
       "  <thead>\n",
       "    <tr style=\"text-align: right;\">\n",
       "      <th></th>\n",
       "      <th>genre</th>\n",
       "      <th>popularity</th>\n",
       "      <th>acousticness</th>\n",
       "      <th>danceability</th>\n",
       "      <th>duration_sec</th>\n",
       "      <th>energy</th>\n",
       "      <th>instrumentalness</th>\n",
       "      <th>liveness</th>\n",
       "      <th>loudness</th>\n",
       "      <th>speechiness</th>\n",
       "      <th>tempo</th>\n",
       "      <th>valence</th>\n",
       "    </tr>\n",
       "  </thead>\n",
       "  <tbody>\n",
       "    <tr>\n",
       "      <th>0</th>\n",
       "      <td>Reggae</td>\n",
       "      <td>35.59</td>\n",
       "      <td>0.19</td>\n",
       "      <td>0.70</td>\n",
       "      <td>239.50</td>\n",
       "      <td>0.64</td>\n",
       "      <td>0.04</td>\n",
       "      <td>0.19</td>\n",
       "      <td>-7.52</td>\n",
       "      <td>0.12</td>\n",
       "      <td>118.16</td>\n",
       "      <td>0.68</td>\n",
       "    </tr>\n",
       "    <tr>\n",
       "      <th>1</th>\n",
       "      <td>Reggaeton</td>\n",
       "      <td>37.74</td>\n",
       "      <td>0.22</td>\n",
       "      <td>0.73</td>\n",
       "      <td>232.04</td>\n",
       "      <td>0.75</td>\n",
       "      <td>0.00</td>\n",
       "      <td>0.21</td>\n",
       "      <td>-5.88</td>\n",
       "      <td>0.13</td>\n",
       "      <td>120.99</td>\n",
       "      <td>0.66</td>\n",
       "    </tr>\n",
       "    <tr>\n",
       "      <th>2</th>\n",
       "      <td>Ska</td>\n",
       "      <td>28.61</td>\n",
       "      <td>0.10</td>\n",
       "      <td>0.53</td>\n",
       "      <td>191.55</td>\n",
       "      <td>0.82</td>\n",
       "      <td>0.06</td>\n",
       "      <td>0.24</td>\n",
       "      <td>-6.17</td>\n",
       "      <td>0.09</td>\n",
       "      <td>129.43</td>\n",
       "      <td>0.65</td>\n",
       "    </tr>\n",
       "    <tr>\n",
       "      <th>3</th>\n",
       "      <td>Blues</td>\n",
       "      <td>34.74</td>\n",
       "      <td>0.33</td>\n",
       "      <td>0.53</td>\n",
       "      <td>251.93</td>\n",
       "      <td>0.61</td>\n",
       "      <td>0.10</td>\n",
       "      <td>0.23</td>\n",
       "      <td>-9.05</td>\n",
       "      <td>0.06</td>\n",
       "      <td>121.14</td>\n",
       "      <td>0.58</td>\n",
       "    </tr>\n",
       "    <tr>\n",
       "      <th>4</th>\n",
       "      <td>Country</td>\n",
       "      <td>46.10</td>\n",
       "      <td>0.27</td>\n",
       "      <td>0.58</td>\n",
       "      <td>217.24</td>\n",
       "      <td>0.64</td>\n",
       "      <td>0.01</td>\n",
       "      <td>0.19</td>\n",
       "      <td>-7.34</td>\n",
       "      <td>0.05</td>\n",
       "      <td>123.41</td>\n",
       "      <td>0.54</td>\n",
       "    </tr>\n",
       "    <tr>\n",
       "      <th>5</th>\n",
       "      <td>Children's Music</td>\n",
       "      <td>36.20</td>\n",
       "      <td>0.32</td>\n",
       "      <td>0.60</td>\n",
       "      <td>199.66</td>\n",
       "      <td>0.59</td>\n",
       "      <td>0.09</td>\n",
       "      <td>0.18</td>\n",
       "      <td>-8.40</td>\n",
       "      <td>0.10</td>\n",
       "      <td>121.64</td>\n",
       "      <td>0.53</td>\n",
       "    </tr>\n",
       "    <tr>\n",
       "      <th>6</th>\n",
       "      <td>Dance</td>\n",
       "      <td>57.28</td>\n",
       "      <td>0.15</td>\n",
       "      <td>0.64</td>\n",
       "      <td>226.26</td>\n",
       "      <td>0.70</td>\n",
       "      <td>0.04</td>\n",
       "      <td>0.19</td>\n",
       "      <td>-6.05</td>\n",
       "      <td>0.08</td>\n",
       "      <td>120.80</td>\n",
       "      <td>0.52</td>\n",
       "    </tr>\n",
       "    <tr>\n",
       "      <th>7</th>\n",
       "      <td>Rock</td>\n",
       "      <td>59.62</td>\n",
       "      <td>0.20</td>\n",
       "      <td>0.54</td>\n",
       "      <td>237.00</td>\n",
       "      <td>0.68</td>\n",
       "      <td>0.05</td>\n",
       "      <td>0.19</td>\n",
       "      <td>-7.29</td>\n",
       "      <td>0.05</td>\n",
       "      <td>122.63</td>\n",
       "      <td>0.52</td>\n",
       "    </tr>\n",
       "    <tr>\n",
       "      <th>8</th>\n",
       "      <td>Jazz</td>\n",
       "      <td>40.82</td>\n",
       "      <td>0.50</td>\n",
       "      <td>0.59</td>\n",
       "      <td>265.65</td>\n",
       "      <td>0.47</td>\n",
       "      <td>0.36</td>\n",
       "      <td>0.17</td>\n",
       "      <td>-11.21</td>\n",
       "      <td>0.07</td>\n",
       "      <td>111.78</td>\n",
       "      <td>0.51</td>\n",
       "    </tr>\n",
       "    <tr>\n",
       "      <th>9</th>\n",
       "      <td>Pop</td>\n",
       "      <td>66.59</td>\n",
       "      <td>0.22</td>\n",
       "      <td>0.64</td>\n",
       "      <td>220.86</td>\n",
       "      <td>0.64</td>\n",
       "      <td>0.02</td>\n",
       "      <td>0.18</td>\n",
       "      <td>-6.50</td>\n",
       "      <td>0.11</td>\n",
       "      <td>121.18</td>\n",
       "      <td>0.48</td>\n",
       "    </tr>\n",
       "    <tr>\n",
       "      <th>10</th>\n",
       "      <td>Soul</td>\n",
       "      <td>47.03</td>\n",
       "      <td>0.36</td>\n",
       "      <td>0.62</td>\n",
       "      <td>234.71</td>\n",
       "      <td>0.53</td>\n",
       "      <td>0.06</td>\n",
       "      <td>0.18</td>\n",
       "      <td>-8.87</td>\n",
       "      <td>0.08</td>\n",
       "      <td>115.32</td>\n",
       "      <td>0.48</td>\n",
       "    </tr>\n",
       "    <tr>\n",
       "      <th>11</th>\n",
       "      <td>Hip-Hop</td>\n",
       "      <td>58.42</td>\n",
       "      <td>0.18</td>\n",
       "      <td>0.72</td>\n",
       "      <td>219.98</td>\n",
       "      <td>0.64</td>\n",
       "      <td>0.01</td>\n",
       "      <td>0.20</td>\n",
       "      <td>-6.86</td>\n",
       "      <td>0.21</td>\n",
       "      <td>120.79</td>\n",
       "      <td>0.47</td>\n",
       "    </tr>\n",
       "    <tr>\n",
       "      <th>12</th>\n",
       "      <td>Rap</td>\n",
       "      <td>60.53</td>\n",
       "      <td>0.17</td>\n",
       "      <td>0.70</td>\n",
       "      <td>219.85</td>\n",
       "      <td>0.65</td>\n",
       "      <td>0.01</td>\n",
       "      <td>0.20</td>\n",
       "      <td>-6.67</td>\n",
       "      <td>0.19</td>\n",
       "      <td>121.10</td>\n",
       "      <td>0.46</td>\n",
       "    </tr>\n",
       "    <tr>\n",
       "      <th>13</th>\n",
       "      <td>R&amp;B</td>\n",
       "      <td>52.31</td>\n",
       "      <td>0.29</td>\n",
       "      <td>0.64</td>\n",
       "      <td>225.75</td>\n",
       "      <td>0.56</td>\n",
       "      <td>0.03</td>\n",
       "      <td>0.18</td>\n",
       "      <td>-7.60</td>\n",
       "      <td>0.12</td>\n",
       "      <td>116.37</td>\n",
       "      <td>0.45</td>\n",
       "    </tr>\n",
       "    <tr>\n",
       "      <th>14</th>\n",
       "      <td>Alternative</td>\n",
       "      <td>50.21</td>\n",
       "      <td>0.16</td>\n",
       "      <td>0.54</td>\n",
       "      <td>233.24</td>\n",
       "      <td>0.71</td>\n",
       "      <td>0.06</td>\n",
       "      <td>0.20</td>\n",
       "      <td>-6.54</td>\n",
       "      <td>0.09</td>\n",
       "      <td>122.53</td>\n",
       "      <td>0.45</td>\n",
       "    </tr>\n",
       "    <tr>\n",
       "      <th>15</th>\n",
       "      <td>Folk</td>\n",
       "      <td>49.94</td>\n",
       "      <td>0.46</td>\n",
       "      <td>0.53</td>\n",
       "      <td>235.81</td>\n",
       "      <td>0.49</td>\n",
       "      <td>0.08</td>\n",
       "      <td>0.17</td>\n",
       "      <td>-9.87</td>\n",
       "      <td>0.05</td>\n",
       "      <td>118.75</td>\n",
       "      <td>0.44</td>\n",
       "    </tr>\n",
       "    <tr>\n",
       "      <th>16</th>\n",
       "      <td>Anime</td>\n",
       "      <td>24.26</td>\n",
       "      <td>0.29</td>\n",
       "      <td>0.47</td>\n",
       "      <td>229.94</td>\n",
       "      <td>0.67</td>\n",
       "      <td>0.28</td>\n",
       "      <td>0.19</td>\n",
       "      <td>-7.92</td>\n",
       "      <td>0.07</td>\n",
       "      <td>126.63</td>\n",
       "      <td>0.44</td>\n",
       "    </tr>\n",
       "    <tr>\n",
       "      <th>17</th>\n",
       "      <td>Indie</td>\n",
       "      <td>54.70</td>\n",
       "      <td>0.33</td>\n",
       "      <td>0.57</td>\n",
       "      <td>224.15</td>\n",
       "      <td>0.58</td>\n",
       "      <td>0.09</td>\n",
       "      <td>0.17</td>\n",
       "      <td>-7.92</td>\n",
       "      <td>0.07</td>\n",
       "      <td>119.29</td>\n",
       "      <td>0.43</td>\n",
       "    </tr>\n",
       "    <tr>\n",
       "      <th>18</th>\n",
       "      <td>Comedy</td>\n",
       "      <td>21.34</td>\n",
       "      <td>0.79</td>\n",
       "      <td>0.56</td>\n",
       "      <td>235.31</td>\n",
       "      <td>0.68</td>\n",
       "      <td>0.00</td>\n",
       "      <td>0.72</td>\n",
       "      <td>-11.69</td>\n",
       "      <td>0.85</td>\n",
       "      <td>98.24</td>\n",
       "      <td>0.41</td>\n",
       "    </tr>\n",
       "    <tr>\n",
       "      <th>19</th>\n",
       "      <td>Electronic</td>\n",
       "      <td>38.06</td>\n",
       "      <td>0.12</td>\n",
       "      <td>0.62</td>\n",
       "      <td>269.20</td>\n",
       "      <td>0.74</td>\n",
       "      <td>0.35</td>\n",
       "      <td>0.21</td>\n",
       "      <td>-7.04</td>\n",
       "      <td>0.10</td>\n",
       "      <td>125.85</td>\n",
       "      <td>0.39</td>\n",
       "    </tr>\n",
       "    <tr>\n",
       "      <th>20</th>\n",
       "      <td>A Capella</td>\n",
       "      <td>9.30</td>\n",
       "      <td>0.83</td>\n",
       "      <td>0.41</td>\n",
       "      <td>204.47</td>\n",
       "      <td>0.25</td>\n",
       "      <td>0.01</td>\n",
       "      <td>0.14</td>\n",
       "      <td>-13.66</td>\n",
       "      <td>0.04</td>\n",
       "      <td>111.52</td>\n",
       "      <td>0.33</td>\n",
       "    </tr>\n",
       "    <tr>\n",
       "      <th>21</th>\n",
       "      <td>World</td>\n",
       "      <td>35.52</td>\n",
       "      <td>0.39</td>\n",
       "      <td>0.44</td>\n",
       "      <td>315.33</td>\n",
       "      <td>0.51</td>\n",
       "      <td>0.23</td>\n",
       "      <td>0.23</td>\n",
       "      <td>-10.71</td>\n",
       "      <td>0.05</td>\n",
       "      <td>119.82</td>\n",
       "      <td>0.30</td>\n",
       "    </tr>\n",
       "    <tr>\n",
       "      <th>22</th>\n",
       "      <td>Classical</td>\n",
       "      <td>29.28</td>\n",
       "      <td>0.87</td>\n",
       "      <td>0.31</td>\n",
       "      <td>310.34</td>\n",
       "      <td>0.18</td>\n",
       "      <td>0.60</td>\n",
       "      <td>0.16</td>\n",
       "      <td>-21.54</td>\n",
       "      <td>0.05</td>\n",
       "      <td>104.34</td>\n",
       "      <td>0.21</td>\n",
       "    </tr>\n",
       "    <tr>\n",
       "      <th>23</th>\n",
       "      <td>Opera</td>\n",
       "      <td>13.34</td>\n",
       "      <td>0.95</td>\n",
       "      <td>0.29</td>\n",
       "      <td>259.16</td>\n",
       "      <td>0.17</td>\n",
       "      <td>0.23</td>\n",
       "      <td>0.22</td>\n",
       "      <td>-19.34</td>\n",
       "      <td>0.06</td>\n",
       "      <td>101.80</td>\n",
       "      <td>0.19</td>\n",
       "    </tr>\n",
       "  </tbody>\n",
       "</table>\n",
       "</div>"
      ],
      "text/plain": [
       "               genre  popularity  acousticness  danceability  duration_sec  \\\n",
       "0             Reggae       35.59          0.19          0.70        239.50   \n",
       "1          Reggaeton       37.74          0.22          0.73        232.04   \n",
       "2                Ska       28.61          0.10          0.53        191.55   \n",
       "3              Blues       34.74          0.33          0.53        251.93   \n",
       "4            Country       46.10          0.27          0.58        217.24   \n",
       "5   Children's Music       36.20          0.32          0.60        199.66   \n",
       "6              Dance       57.28          0.15          0.64        226.26   \n",
       "7               Rock       59.62          0.20          0.54        237.00   \n",
       "8               Jazz       40.82          0.50          0.59        265.65   \n",
       "9                Pop       66.59          0.22          0.64        220.86   \n",
       "10              Soul       47.03          0.36          0.62        234.71   \n",
       "11           Hip-Hop       58.42          0.18          0.72        219.98   \n",
       "12               Rap       60.53          0.17          0.70        219.85   \n",
       "13               R&B       52.31          0.29          0.64        225.75   \n",
       "14       Alternative       50.21          0.16          0.54        233.24   \n",
       "15              Folk       49.94          0.46          0.53        235.81   \n",
       "16             Anime       24.26          0.29          0.47        229.94   \n",
       "17             Indie       54.70          0.33          0.57        224.15   \n",
       "18            Comedy       21.34          0.79          0.56        235.31   \n",
       "19        Electronic       38.06          0.12          0.62        269.20   \n",
       "20         A Capella        9.30          0.83          0.41        204.47   \n",
       "21             World       35.52          0.39          0.44        315.33   \n",
       "22         Classical       29.28          0.87          0.31        310.34   \n",
       "23             Opera       13.34          0.95          0.29        259.16   \n",
       "\n",
       "    energy  instrumentalness  liveness  loudness  speechiness   tempo  valence  \n",
       "0     0.64              0.04      0.19     -7.52         0.12  118.16     0.68  \n",
       "1     0.75              0.00      0.21     -5.88         0.13  120.99     0.66  \n",
       "2     0.82              0.06      0.24     -6.17         0.09  129.43     0.65  \n",
       "3     0.61              0.10      0.23     -9.05         0.06  121.14     0.58  \n",
       "4     0.64              0.01      0.19     -7.34         0.05  123.41     0.54  \n",
       "5     0.59              0.09      0.18     -8.40         0.10  121.64     0.53  \n",
       "6     0.70              0.04      0.19     -6.05         0.08  120.80     0.52  \n",
       "7     0.68              0.05      0.19     -7.29         0.05  122.63     0.52  \n",
       "8     0.47              0.36      0.17    -11.21         0.07  111.78     0.51  \n",
       "9     0.64              0.02      0.18     -6.50         0.11  121.18     0.48  \n",
       "10    0.53              0.06      0.18     -8.87         0.08  115.32     0.48  \n",
       "11    0.64              0.01      0.20     -6.86         0.21  120.79     0.47  \n",
       "12    0.65              0.01      0.20     -6.67         0.19  121.10     0.46  \n",
       "13    0.56              0.03      0.18     -7.60         0.12  116.37     0.45  \n",
       "14    0.71              0.06      0.20     -6.54         0.09  122.53     0.45  \n",
       "15    0.49              0.08      0.17     -9.87         0.05  118.75     0.44  \n",
       "16    0.67              0.28      0.19     -7.92         0.07  126.63     0.44  \n",
       "17    0.58              0.09      0.17     -7.92         0.07  119.29     0.43  \n",
       "18    0.68              0.00      0.72    -11.69         0.85   98.24     0.41  \n",
       "19    0.74              0.35      0.21     -7.04         0.10  125.85     0.39  \n",
       "20    0.25              0.01      0.14    -13.66         0.04  111.52     0.33  \n",
       "21    0.51              0.23      0.23    -10.71         0.05  119.82     0.30  \n",
       "22    0.18              0.60      0.16    -21.54         0.05  104.34     0.21  \n",
       "23    0.17              0.23      0.22    -19.34         0.06  101.80     0.19  "
      ]
     },
     "execution_count": 40,
     "metadata": {},
     "output_type": "execute_result"
    }
   ],
   "source": [
    "best_genre_valence"
   ]
  },
  {
   "cell_type": "code",
   "execution_count": 41,
   "metadata": {},
   "outputs": [
    {
     "data": {
      "text/html": [
       "<div>\n",
       "<style scoped>\n",
       "    .dataframe tbody tr th:only-of-type {\n",
       "        vertical-align: middle;\n",
       "    }\n",
       "\n",
       "    .dataframe tbody tr th {\n",
       "        vertical-align: top;\n",
       "    }\n",
       "\n",
       "    .dataframe thead th {\n",
       "        text-align: right;\n",
       "    }\n",
       "</style>\n",
       "<table border=\"1\" class=\"dataframe\">\n",
       "  <thead>\n",
       "    <tr style=\"text-align: right;\">\n",
       "      <th></th>\n",
       "      <th>genre</th>\n",
       "      <th>popularity</th>\n",
       "      <th>acousticness</th>\n",
       "      <th>danceability</th>\n",
       "      <th>duration_sec</th>\n",
       "      <th>energy</th>\n",
       "      <th>instrumentalness</th>\n",
       "      <th>liveness</th>\n",
       "      <th>loudness</th>\n",
       "      <th>speechiness</th>\n",
       "      <th>tempo</th>\n",
       "      <th>valence</th>\n",
       "    </tr>\n",
       "  </thead>\n",
       "  <tbody>\n",
       "    <tr>\n",
       "      <th>0</th>\n",
       "      <td>Pop</td>\n",
       "      <td>66.59</td>\n",
       "      <td>0.22</td>\n",
       "      <td>0.64</td>\n",
       "      <td>220.86</td>\n",
       "      <td>0.64</td>\n",
       "      <td>0.02</td>\n",
       "      <td>0.18</td>\n",
       "      <td>-6.50</td>\n",
       "      <td>0.11</td>\n",
       "      <td>121.18</td>\n",
       "      <td>0.48</td>\n",
       "    </tr>\n",
       "    <tr>\n",
       "      <th>1</th>\n",
       "      <td>Rap</td>\n",
       "      <td>60.53</td>\n",
       "      <td>0.17</td>\n",
       "      <td>0.70</td>\n",
       "      <td>219.85</td>\n",
       "      <td>0.65</td>\n",
       "      <td>0.01</td>\n",
       "      <td>0.20</td>\n",
       "      <td>-6.67</td>\n",
       "      <td>0.19</td>\n",
       "      <td>121.10</td>\n",
       "      <td>0.46</td>\n",
       "    </tr>\n",
       "    <tr>\n",
       "      <th>2</th>\n",
       "      <td>Rock</td>\n",
       "      <td>59.62</td>\n",
       "      <td>0.20</td>\n",
       "      <td>0.54</td>\n",
       "      <td>237.00</td>\n",
       "      <td>0.68</td>\n",
       "      <td>0.05</td>\n",
       "      <td>0.19</td>\n",
       "      <td>-7.29</td>\n",
       "      <td>0.05</td>\n",
       "      <td>122.63</td>\n",
       "      <td>0.52</td>\n",
       "    </tr>\n",
       "    <tr>\n",
       "      <th>3</th>\n",
       "      <td>Hip-Hop</td>\n",
       "      <td>58.42</td>\n",
       "      <td>0.18</td>\n",
       "      <td>0.72</td>\n",
       "      <td>219.98</td>\n",
       "      <td>0.64</td>\n",
       "      <td>0.01</td>\n",
       "      <td>0.20</td>\n",
       "      <td>-6.86</td>\n",
       "      <td>0.21</td>\n",
       "      <td>120.79</td>\n",
       "      <td>0.47</td>\n",
       "    </tr>\n",
       "    <tr>\n",
       "      <th>4</th>\n",
       "      <td>Dance</td>\n",
       "      <td>57.28</td>\n",
       "      <td>0.15</td>\n",
       "      <td>0.64</td>\n",
       "      <td>226.26</td>\n",
       "      <td>0.70</td>\n",
       "      <td>0.04</td>\n",
       "      <td>0.19</td>\n",
       "      <td>-6.05</td>\n",
       "      <td>0.08</td>\n",
       "      <td>120.80</td>\n",
       "      <td>0.52</td>\n",
       "    </tr>\n",
       "    <tr>\n",
       "      <th>5</th>\n",
       "      <td>Indie</td>\n",
       "      <td>54.70</td>\n",
       "      <td>0.33</td>\n",
       "      <td>0.57</td>\n",
       "      <td>224.15</td>\n",
       "      <td>0.58</td>\n",
       "      <td>0.09</td>\n",
       "      <td>0.17</td>\n",
       "      <td>-7.92</td>\n",
       "      <td>0.07</td>\n",
       "      <td>119.29</td>\n",
       "      <td>0.43</td>\n",
       "    </tr>\n",
       "    <tr>\n",
       "      <th>6</th>\n",
       "      <td>R&amp;B</td>\n",
       "      <td>52.31</td>\n",
       "      <td>0.29</td>\n",
       "      <td>0.64</td>\n",
       "      <td>225.75</td>\n",
       "      <td>0.56</td>\n",
       "      <td>0.03</td>\n",
       "      <td>0.18</td>\n",
       "      <td>-7.60</td>\n",
       "      <td>0.12</td>\n",
       "      <td>116.37</td>\n",
       "      <td>0.45</td>\n",
       "    </tr>\n",
       "    <tr>\n",
       "      <th>7</th>\n",
       "      <td>Alternative</td>\n",
       "      <td>50.21</td>\n",
       "      <td>0.16</td>\n",
       "      <td>0.54</td>\n",
       "      <td>233.24</td>\n",
       "      <td>0.71</td>\n",
       "      <td>0.06</td>\n",
       "      <td>0.20</td>\n",
       "      <td>-6.54</td>\n",
       "      <td>0.09</td>\n",
       "      <td>122.53</td>\n",
       "      <td>0.45</td>\n",
       "    </tr>\n",
       "    <tr>\n",
       "      <th>8</th>\n",
       "      <td>Folk</td>\n",
       "      <td>49.94</td>\n",
       "      <td>0.46</td>\n",
       "      <td>0.53</td>\n",
       "      <td>235.81</td>\n",
       "      <td>0.49</td>\n",
       "      <td>0.08</td>\n",
       "      <td>0.17</td>\n",
       "      <td>-9.87</td>\n",
       "      <td>0.05</td>\n",
       "      <td>118.75</td>\n",
       "      <td>0.44</td>\n",
       "    </tr>\n",
       "    <tr>\n",
       "      <th>9</th>\n",
       "      <td>Soul</td>\n",
       "      <td>47.03</td>\n",
       "      <td>0.36</td>\n",
       "      <td>0.62</td>\n",
       "      <td>234.71</td>\n",
       "      <td>0.53</td>\n",
       "      <td>0.06</td>\n",
       "      <td>0.18</td>\n",
       "      <td>-8.87</td>\n",
       "      <td>0.08</td>\n",
       "      <td>115.32</td>\n",
       "      <td>0.48</td>\n",
       "    </tr>\n",
       "    <tr>\n",
       "      <th>10</th>\n",
       "      <td>Country</td>\n",
       "      <td>46.10</td>\n",
       "      <td>0.27</td>\n",
       "      <td>0.58</td>\n",
       "      <td>217.24</td>\n",
       "      <td>0.64</td>\n",
       "      <td>0.01</td>\n",
       "      <td>0.19</td>\n",
       "      <td>-7.34</td>\n",
       "      <td>0.05</td>\n",
       "      <td>123.41</td>\n",
       "      <td>0.54</td>\n",
       "    </tr>\n",
       "    <tr>\n",
       "      <th>11</th>\n",
       "      <td>Jazz</td>\n",
       "      <td>40.82</td>\n",
       "      <td>0.50</td>\n",
       "      <td>0.59</td>\n",
       "      <td>265.65</td>\n",
       "      <td>0.47</td>\n",
       "      <td>0.36</td>\n",
       "      <td>0.17</td>\n",
       "      <td>-11.21</td>\n",
       "      <td>0.07</td>\n",
       "      <td>111.78</td>\n",
       "      <td>0.51</td>\n",
       "    </tr>\n",
       "    <tr>\n",
       "      <th>12</th>\n",
       "      <td>Electronic</td>\n",
       "      <td>38.06</td>\n",
       "      <td>0.12</td>\n",
       "      <td>0.62</td>\n",
       "      <td>269.20</td>\n",
       "      <td>0.74</td>\n",
       "      <td>0.35</td>\n",
       "      <td>0.21</td>\n",
       "      <td>-7.04</td>\n",
       "      <td>0.10</td>\n",
       "      <td>125.85</td>\n",
       "      <td>0.39</td>\n",
       "    </tr>\n",
       "    <tr>\n",
       "      <th>13</th>\n",
       "      <td>Reggaeton</td>\n",
       "      <td>37.74</td>\n",
       "      <td>0.22</td>\n",
       "      <td>0.73</td>\n",
       "      <td>232.04</td>\n",
       "      <td>0.75</td>\n",
       "      <td>0.00</td>\n",
       "      <td>0.21</td>\n",
       "      <td>-5.88</td>\n",
       "      <td>0.13</td>\n",
       "      <td>120.99</td>\n",
       "      <td>0.66</td>\n",
       "    </tr>\n",
       "    <tr>\n",
       "      <th>14</th>\n",
       "      <td>Children's Music</td>\n",
       "      <td>36.20</td>\n",
       "      <td>0.32</td>\n",
       "      <td>0.60</td>\n",
       "      <td>199.66</td>\n",
       "      <td>0.59</td>\n",
       "      <td>0.09</td>\n",
       "      <td>0.18</td>\n",
       "      <td>-8.40</td>\n",
       "      <td>0.10</td>\n",
       "      <td>121.64</td>\n",
       "      <td>0.53</td>\n",
       "    </tr>\n",
       "    <tr>\n",
       "      <th>15</th>\n",
       "      <td>Reggae</td>\n",
       "      <td>35.59</td>\n",
       "      <td>0.19</td>\n",
       "      <td>0.70</td>\n",
       "      <td>239.50</td>\n",
       "      <td>0.64</td>\n",
       "      <td>0.04</td>\n",
       "      <td>0.19</td>\n",
       "      <td>-7.52</td>\n",
       "      <td>0.12</td>\n",
       "      <td>118.16</td>\n",
       "      <td>0.68</td>\n",
       "    </tr>\n",
       "    <tr>\n",
       "      <th>16</th>\n",
       "      <td>World</td>\n",
       "      <td>35.52</td>\n",
       "      <td>0.39</td>\n",
       "      <td>0.44</td>\n",
       "      <td>315.33</td>\n",
       "      <td>0.51</td>\n",
       "      <td>0.23</td>\n",
       "      <td>0.23</td>\n",
       "      <td>-10.71</td>\n",
       "      <td>0.05</td>\n",
       "      <td>119.82</td>\n",
       "      <td>0.30</td>\n",
       "    </tr>\n",
       "    <tr>\n",
       "      <th>17</th>\n",
       "      <td>Blues</td>\n",
       "      <td>34.74</td>\n",
       "      <td>0.33</td>\n",
       "      <td>0.53</td>\n",
       "      <td>251.93</td>\n",
       "      <td>0.61</td>\n",
       "      <td>0.10</td>\n",
       "      <td>0.23</td>\n",
       "      <td>-9.05</td>\n",
       "      <td>0.06</td>\n",
       "      <td>121.14</td>\n",
       "      <td>0.58</td>\n",
       "    </tr>\n",
       "    <tr>\n",
       "      <th>18</th>\n",
       "      <td>Classical</td>\n",
       "      <td>29.28</td>\n",
       "      <td>0.87</td>\n",
       "      <td>0.31</td>\n",
       "      <td>310.34</td>\n",
       "      <td>0.18</td>\n",
       "      <td>0.60</td>\n",
       "      <td>0.16</td>\n",
       "      <td>-21.54</td>\n",
       "      <td>0.05</td>\n",
       "      <td>104.34</td>\n",
       "      <td>0.21</td>\n",
       "    </tr>\n",
       "    <tr>\n",
       "      <th>19</th>\n",
       "      <td>Ska</td>\n",
       "      <td>28.61</td>\n",
       "      <td>0.10</td>\n",
       "      <td>0.53</td>\n",
       "      <td>191.55</td>\n",
       "      <td>0.82</td>\n",
       "      <td>0.06</td>\n",
       "      <td>0.24</td>\n",
       "      <td>-6.17</td>\n",
       "      <td>0.09</td>\n",
       "      <td>129.43</td>\n",
       "      <td>0.65</td>\n",
       "    </tr>\n",
       "    <tr>\n",
       "      <th>20</th>\n",
       "      <td>Anime</td>\n",
       "      <td>24.26</td>\n",
       "      <td>0.29</td>\n",
       "      <td>0.47</td>\n",
       "      <td>229.94</td>\n",
       "      <td>0.67</td>\n",
       "      <td>0.28</td>\n",
       "      <td>0.19</td>\n",
       "      <td>-7.92</td>\n",
       "      <td>0.07</td>\n",
       "      <td>126.63</td>\n",
       "      <td>0.44</td>\n",
       "    </tr>\n",
       "    <tr>\n",
       "      <th>21</th>\n",
       "      <td>Comedy</td>\n",
       "      <td>21.34</td>\n",
       "      <td>0.79</td>\n",
       "      <td>0.56</td>\n",
       "      <td>235.31</td>\n",
       "      <td>0.68</td>\n",
       "      <td>0.00</td>\n",
       "      <td>0.72</td>\n",
       "      <td>-11.69</td>\n",
       "      <td>0.85</td>\n",
       "      <td>98.24</td>\n",
       "      <td>0.41</td>\n",
       "    </tr>\n",
       "    <tr>\n",
       "      <th>22</th>\n",
       "      <td>Opera</td>\n",
       "      <td>13.34</td>\n",
       "      <td>0.95</td>\n",
       "      <td>0.29</td>\n",
       "      <td>259.16</td>\n",
       "      <td>0.17</td>\n",
       "      <td>0.23</td>\n",
       "      <td>0.22</td>\n",
       "      <td>-19.34</td>\n",
       "      <td>0.06</td>\n",
       "      <td>101.80</td>\n",
       "      <td>0.19</td>\n",
       "    </tr>\n",
       "    <tr>\n",
       "      <th>23</th>\n",
       "      <td>A Capella</td>\n",
       "      <td>9.30</td>\n",
       "      <td>0.83</td>\n",
       "      <td>0.41</td>\n",
       "      <td>204.47</td>\n",
       "      <td>0.25</td>\n",
       "      <td>0.01</td>\n",
       "      <td>0.14</td>\n",
       "      <td>-13.66</td>\n",
       "      <td>0.04</td>\n",
       "      <td>111.52</td>\n",
       "      <td>0.33</td>\n",
       "    </tr>\n",
       "  </tbody>\n",
       "</table>\n",
       "</div>"
      ],
      "text/plain": [
       "               genre  popularity  acousticness  danceability  duration_sec  \\\n",
       "0                Pop       66.59          0.22          0.64        220.86   \n",
       "1                Rap       60.53          0.17          0.70        219.85   \n",
       "2               Rock       59.62          0.20          0.54        237.00   \n",
       "3            Hip-Hop       58.42          0.18          0.72        219.98   \n",
       "4              Dance       57.28          0.15          0.64        226.26   \n",
       "5              Indie       54.70          0.33          0.57        224.15   \n",
       "6                R&B       52.31          0.29          0.64        225.75   \n",
       "7        Alternative       50.21          0.16          0.54        233.24   \n",
       "8               Folk       49.94          0.46          0.53        235.81   \n",
       "9               Soul       47.03          0.36          0.62        234.71   \n",
       "10           Country       46.10          0.27          0.58        217.24   \n",
       "11              Jazz       40.82          0.50          0.59        265.65   \n",
       "12        Electronic       38.06          0.12          0.62        269.20   \n",
       "13         Reggaeton       37.74          0.22          0.73        232.04   \n",
       "14  Children's Music       36.20          0.32          0.60        199.66   \n",
       "15            Reggae       35.59          0.19          0.70        239.50   \n",
       "16             World       35.52          0.39          0.44        315.33   \n",
       "17             Blues       34.74          0.33          0.53        251.93   \n",
       "18         Classical       29.28          0.87          0.31        310.34   \n",
       "19               Ska       28.61          0.10          0.53        191.55   \n",
       "20             Anime       24.26          0.29          0.47        229.94   \n",
       "21            Comedy       21.34          0.79          0.56        235.31   \n",
       "22             Opera       13.34          0.95          0.29        259.16   \n",
       "23         A Capella        9.30          0.83          0.41        204.47   \n",
       "\n",
       "    energy  instrumentalness  liveness  loudness  speechiness   tempo  valence  \n",
       "0     0.64              0.02      0.18     -6.50         0.11  121.18     0.48  \n",
       "1     0.65              0.01      0.20     -6.67         0.19  121.10     0.46  \n",
       "2     0.68              0.05      0.19     -7.29         0.05  122.63     0.52  \n",
       "3     0.64              0.01      0.20     -6.86         0.21  120.79     0.47  \n",
       "4     0.70              0.04      0.19     -6.05         0.08  120.80     0.52  \n",
       "5     0.58              0.09      0.17     -7.92         0.07  119.29     0.43  \n",
       "6     0.56              0.03      0.18     -7.60         0.12  116.37     0.45  \n",
       "7     0.71              0.06      0.20     -6.54         0.09  122.53     0.45  \n",
       "8     0.49              0.08      0.17     -9.87         0.05  118.75     0.44  \n",
       "9     0.53              0.06      0.18     -8.87         0.08  115.32     0.48  \n",
       "10    0.64              0.01      0.19     -7.34         0.05  123.41     0.54  \n",
       "11    0.47              0.36      0.17    -11.21         0.07  111.78     0.51  \n",
       "12    0.74              0.35      0.21     -7.04         0.10  125.85     0.39  \n",
       "13    0.75              0.00      0.21     -5.88         0.13  120.99     0.66  \n",
       "14    0.59              0.09      0.18     -8.40         0.10  121.64     0.53  \n",
       "15    0.64              0.04      0.19     -7.52         0.12  118.16     0.68  \n",
       "16    0.51              0.23      0.23    -10.71         0.05  119.82     0.30  \n",
       "17    0.61              0.10      0.23     -9.05         0.06  121.14     0.58  \n",
       "18    0.18              0.60      0.16    -21.54         0.05  104.34     0.21  \n",
       "19    0.82              0.06      0.24     -6.17         0.09  129.43     0.65  \n",
       "20    0.67              0.28      0.19     -7.92         0.07  126.63     0.44  \n",
       "21    0.68              0.00      0.72    -11.69         0.85   98.24     0.41  \n",
       "22    0.17              0.23      0.22    -19.34         0.06  101.80     0.19  \n",
       "23    0.25              0.01      0.14    -13.66         0.04  111.52     0.33  "
      ]
     },
     "execution_count": 41,
     "metadata": {},
     "output_type": "execute_result"
    }
   ],
   "source": [
    "popularity_genre"
   ]
  },
  {
   "cell_type": "code",
   "execution_count": 42,
   "metadata": {},
   "outputs": [
    {
     "data": {
      "application/vnd.plotly.v1+json": {
       "config": {
        "plotlyServerURL": "https://plot.ly"
       },
       "data": [
        {
         "hovertemplate": "popularity=%{marker.color}<br>genre=%{theta}<extra></extra>",
         "legendgroup": "",
         "marker": {
          "color": [
           66.59,
           60.53,
           59.62,
           58.42,
           57.28,
           54.7,
           52.31,
           50.21,
           49.94,
           47.03,
           46.1,
           40.82,
           38.06,
           37.74,
           36.2,
           35.59,
           35.52,
           34.74,
           29.28,
           28.61,
           24.26,
           21.34,
           13.34,
           9.3
          ],
          "coloraxis": "coloraxis",
          "size": [
           66.59,
           60.53,
           59.62,
           58.42,
           57.28,
           54.7,
           52.31,
           50.21,
           49.94,
           47.03,
           46.1,
           40.82,
           38.06,
           37.74,
           36.2,
           35.59,
           35.52,
           34.74,
           29.28,
           28.61,
           24.26,
           21.34,
           13.34,
           9.3
          ],
          "sizemode": "area",
          "sizeref": 0.166475,
          "symbol": "circle"
         },
         "mode": "markers",
         "name": "",
         "r": [
          66.59,
          60.53,
          59.62,
          58.42,
          57.28,
          54.7,
          52.31,
          50.21,
          49.94,
          47.03,
          46.1,
          40.82,
          38.06,
          37.74,
          36.2,
          35.59,
          35.52,
          34.74,
          29.28,
          28.61,
          24.26,
          21.34,
          13.34,
          9.3
         ],
         "showlegend": false,
         "subplot": "polar",
         "theta": [
          "Pop",
          "Rap",
          "Rock",
          "Hip-Hop",
          "Dance",
          "Indie",
          "R&B",
          "Alternative",
          "Folk",
          "Soul",
          "Country",
          "Jazz",
          "Electronic",
          "Reggaeton",
          "Children's Music",
          "Reggae",
          "World",
          "Blues",
          "Classical",
          "Ska",
          "Anime",
          "Comedy",
          "Opera",
          "A Capella"
         ],
         "type": "scatterpolar"
        }
       ],
       "layout": {
        "autosize": false,
        "coloraxis": {
         "colorbar": {
          "title": {
           "text": "popularity"
          }
         },
         "colorscale": [
          [
           0,
           "rgb(0, 147, 146)"
          ],
          [
           0.16666666666666666,
           "rgb(114, 170, 161)"
          ],
          [
           0.3333333333333333,
           "rgb(177, 199, 179)"
          ],
          [
           0.5,
           "rgb(241, 234, 200)"
          ],
          [
           0.6666666666666666,
           "rgb(229, 185, 173)"
          ],
          [
           0.8333333333333334,
           "rgb(217, 137, 148)"
          ],
          [
           1,
           "rgb(208, 88, 126)"
          ]
         ]
        },
        "font": {
         "size": 13
        },
        "height": 600,
        "legend": {
         "itemsizing": "constant",
         "tracegroupgap": 0
        },
        "margin": {
         "t": 60
        },
        "polar": {
         "angularaxis": {
          "direction": "clockwise",
          "rotation": 90
         },
         "domain": {
          "x": [
           0,
           1
          ],
          "y": [
           0,
           1
          ]
         }
        },
        "template": {
         "data": {
          "bar": [
           {
            "error_x": {
             "color": "#f2f5fa"
            },
            "error_y": {
             "color": "#f2f5fa"
            },
            "marker": {
             "line": {
              "color": "rgb(17,17,17)",
              "width": 0.5
             },
             "pattern": {
              "fillmode": "overlay",
              "size": 10,
              "solidity": 0.2
             }
            },
            "type": "bar"
           }
          ],
          "barpolar": [
           {
            "marker": {
             "line": {
              "color": "rgb(17,17,17)",
              "width": 0.5
             },
             "pattern": {
              "fillmode": "overlay",
              "size": 10,
              "solidity": 0.2
             }
            },
            "type": "barpolar"
           }
          ],
          "carpet": [
           {
            "aaxis": {
             "endlinecolor": "#A2B1C6",
             "gridcolor": "#506784",
             "linecolor": "#506784",
             "minorgridcolor": "#506784",
             "startlinecolor": "#A2B1C6"
            },
            "baxis": {
             "endlinecolor": "#A2B1C6",
             "gridcolor": "#506784",
             "linecolor": "#506784",
             "minorgridcolor": "#506784",
             "startlinecolor": "#A2B1C6"
            },
            "type": "carpet"
           }
          ],
          "choropleth": [
           {
            "colorbar": {
             "outlinewidth": 0,
             "ticks": ""
            },
            "type": "choropleth"
           }
          ],
          "contour": [
           {
            "colorbar": {
             "outlinewidth": 0,
             "ticks": ""
            },
            "colorscale": [
             [
              0,
              "#0d0887"
             ],
             [
              0.1111111111111111,
              "#46039f"
             ],
             [
              0.2222222222222222,
              "#7201a8"
             ],
             [
              0.3333333333333333,
              "#9c179e"
             ],
             [
              0.4444444444444444,
              "#bd3786"
             ],
             [
              0.5555555555555556,
              "#d8576b"
             ],
             [
              0.6666666666666666,
              "#ed7953"
             ],
             [
              0.7777777777777778,
              "#fb9f3a"
             ],
             [
              0.8888888888888888,
              "#fdca26"
             ],
             [
              1,
              "#f0f921"
             ]
            ],
            "type": "contour"
           }
          ],
          "contourcarpet": [
           {
            "colorbar": {
             "outlinewidth": 0,
             "ticks": ""
            },
            "type": "contourcarpet"
           }
          ],
          "heatmap": [
           {
            "colorbar": {
             "outlinewidth": 0,
             "ticks": ""
            },
            "colorscale": [
             [
              0,
              "#0d0887"
             ],
             [
              0.1111111111111111,
              "#46039f"
             ],
             [
              0.2222222222222222,
              "#7201a8"
             ],
             [
              0.3333333333333333,
              "#9c179e"
             ],
             [
              0.4444444444444444,
              "#bd3786"
             ],
             [
              0.5555555555555556,
              "#d8576b"
             ],
             [
              0.6666666666666666,
              "#ed7953"
             ],
             [
              0.7777777777777778,
              "#fb9f3a"
             ],
             [
              0.8888888888888888,
              "#fdca26"
             ],
             [
              1,
              "#f0f921"
             ]
            ],
            "type": "heatmap"
           }
          ],
          "heatmapgl": [
           {
            "colorbar": {
             "outlinewidth": 0,
             "ticks": ""
            },
            "colorscale": [
             [
              0,
              "#0d0887"
             ],
             [
              0.1111111111111111,
              "#46039f"
             ],
             [
              0.2222222222222222,
              "#7201a8"
             ],
             [
              0.3333333333333333,
              "#9c179e"
             ],
             [
              0.4444444444444444,
              "#bd3786"
             ],
             [
              0.5555555555555556,
              "#d8576b"
             ],
             [
              0.6666666666666666,
              "#ed7953"
             ],
             [
              0.7777777777777778,
              "#fb9f3a"
             ],
             [
              0.8888888888888888,
              "#fdca26"
             ],
             [
              1,
              "#f0f921"
             ]
            ],
            "type": "heatmapgl"
           }
          ],
          "histogram": [
           {
            "marker": {
             "pattern": {
              "fillmode": "overlay",
              "size": 10,
              "solidity": 0.2
             }
            },
            "type": "histogram"
           }
          ],
          "histogram2d": [
           {
            "colorbar": {
             "outlinewidth": 0,
             "ticks": ""
            },
            "colorscale": [
             [
              0,
              "#0d0887"
             ],
             [
              0.1111111111111111,
              "#46039f"
             ],
             [
              0.2222222222222222,
              "#7201a8"
             ],
             [
              0.3333333333333333,
              "#9c179e"
             ],
             [
              0.4444444444444444,
              "#bd3786"
             ],
             [
              0.5555555555555556,
              "#d8576b"
             ],
             [
              0.6666666666666666,
              "#ed7953"
             ],
             [
              0.7777777777777778,
              "#fb9f3a"
             ],
             [
              0.8888888888888888,
              "#fdca26"
             ],
             [
              1,
              "#f0f921"
             ]
            ],
            "type": "histogram2d"
           }
          ],
          "histogram2dcontour": [
           {
            "colorbar": {
             "outlinewidth": 0,
             "ticks": ""
            },
            "colorscale": [
             [
              0,
              "#0d0887"
             ],
             [
              0.1111111111111111,
              "#46039f"
             ],
             [
              0.2222222222222222,
              "#7201a8"
             ],
             [
              0.3333333333333333,
              "#9c179e"
             ],
             [
              0.4444444444444444,
              "#bd3786"
             ],
             [
              0.5555555555555556,
              "#d8576b"
             ],
             [
              0.6666666666666666,
              "#ed7953"
             ],
             [
              0.7777777777777778,
              "#fb9f3a"
             ],
             [
              0.8888888888888888,
              "#fdca26"
             ],
             [
              1,
              "#f0f921"
             ]
            ],
            "type": "histogram2dcontour"
           }
          ],
          "mesh3d": [
           {
            "colorbar": {
             "outlinewidth": 0,
             "ticks": ""
            },
            "type": "mesh3d"
           }
          ],
          "parcoords": [
           {
            "line": {
             "colorbar": {
              "outlinewidth": 0,
              "ticks": ""
             }
            },
            "type": "parcoords"
           }
          ],
          "pie": [
           {
            "automargin": true,
            "type": "pie"
           }
          ],
          "scatter": [
           {
            "marker": {
             "line": {
              "color": "#283442"
             }
            },
            "type": "scatter"
           }
          ],
          "scatter3d": [
           {
            "line": {
             "colorbar": {
              "outlinewidth": 0,
              "ticks": ""
             }
            },
            "marker": {
             "colorbar": {
              "outlinewidth": 0,
              "ticks": ""
             }
            },
            "type": "scatter3d"
           }
          ],
          "scattercarpet": [
           {
            "marker": {
             "colorbar": {
              "outlinewidth": 0,
              "ticks": ""
             }
            },
            "type": "scattercarpet"
           }
          ],
          "scattergeo": [
           {
            "marker": {
             "colorbar": {
              "outlinewidth": 0,
              "ticks": ""
             }
            },
            "type": "scattergeo"
           }
          ],
          "scattergl": [
           {
            "marker": {
             "line": {
              "color": "#283442"
             }
            },
            "type": "scattergl"
           }
          ],
          "scattermapbox": [
           {
            "marker": {
             "colorbar": {
              "outlinewidth": 0,
              "ticks": ""
             }
            },
            "type": "scattermapbox"
           }
          ],
          "scatterpolar": [
           {
            "marker": {
             "colorbar": {
              "outlinewidth": 0,
              "ticks": ""
             }
            },
            "type": "scatterpolar"
           }
          ],
          "scatterpolargl": [
           {
            "marker": {
             "colorbar": {
              "outlinewidth": 0,
              "ticks": ""
             }
            },
            "type": "scatterpolargl"
           }
          ],
          "scatterternary": [
           {
            "marker": {
             "colorbar": {
              "outlinewidth": 0,
              "ticks": ""
             }
            },
            "type": "scatterternary"
           }
          ],
          "surface": [
           {
            "colorbar": {
             "outlinewidth": 0,
             "ticks": ""
            },
            "colorscale": [
             [
              0,
              "#0d0887"
             ],
             [
              0.1111111111111111,
              "#46039f"
             ],
             [
              0.2222222222222222,
              "#7201a8"
             ],
             [
              0.3333333333333333,
              "#9c179e"
             ],
             [
              0.4444444444444444,
              "#bd3786"
             ],
             [
              0.5555555555555556,
              "#d8576b"
             ],
             [
              0.6666666666666666,
              "#ed7953"
             ],
             [
              0.7777777777777778,
              "#fb9f3a"
             ],
             [
              0.8888888888888888,
              "#fdca26"
             ],
             [
              1,
              "#f0f921"
             ]
            ],
            "type": "surface"
           }
          ],
          "table": [
           {
            "cells": {
             "fill": {
              "color": "#506784"
             },
             "line": {
              "color": "rgb(17,17,17)"
             }
            },
            "header": {
             "fill": {
              "color": "#2a3f5f"
             },
             "line": {
              "color": "rgb(17,17,17)"
             }
            },
            "type": "table"
           }
          ]
         },
         "layout": {
          "annotationdefaults": {
           "arrowcolor": "#f2f5fa",
           "arrowhead": 0,
           "arrowwidth": 1
          },
          "autotypenumbers": "strict",
          "coloraxis": {
           "colorbar": {
            "outlinewidth": 0,
            "ticks": ""
           }
          },
          "colorscale": {
           "diverging": [
            [
             0,
             "#8e0152"
            ],
            [
             0.1,
             "#c51b7d"
            ],
            [
             0.2,
             "#de77ae"
            ],
            [
             0.3,
             "#f1b6da"
            ],
            [
             0.4,
             "#fde0ef"
            ],
            [
             0.5,
             "#f7f7f7"
            ],
            [
             0.6,
             "#e6f5d0"
            ],
            [
             0.7,
             "#b8e186"
            ],
            [
             0.8,
             "#7fbc41"
            ],
            [
             0.9,
             "#4d9221"
            ],
            [
             1,
             "#276419"
            ]
           ],
           "sequential": [
            [
             0,
             "#0d0887"
            ],
            [
             0.1111111111111111,
             "#46039f"
            ],
            [
             0.2222222222222222,
             "#7201a8"
            ],
            [
             0.3333333333333333,
             "#9c179e"
            ],
            [
             0.4444444444444444,
             "#bd3786"
            ],
            [
             0.5555555555555556,
             "#d8576b"
            ],
            [
             0.6666666666666666,
             "#ed7953"
            ],
            [
             0.7777777777777778,
             "#fb9f3a"
            ],
            [
             0.8888888888888888,
             "#fdca26"
            ],
            [
             1,
             "#f0f921"
            ]
           ],
           "sequentialminus": [
            [
             0,
             "#0d0887"
            ],
            [
             0.1111111111111111,
             "#46039f"
            ],
            [
             0.2222222222222222,
             "#7201a8"
            ],
            [
             0.3333333333333333,
             "#9c179e"
            ],
            [
             0.4444444444444444,
             "#bd3786"
            ],
            [
             0.5555555555555556,
             "#d8576b"
            ],
            [
             0.6666666666666666,
             "#ed7953"
            ],
            [
             0.7777777777777778,
             "#fb9f3a"
            ],
            [
             0.8888888888888888,
             "#fdca26"
            ],
            [
             1,
             "#f0f921"
            ]
           ]
          },
          "colorway": [
           "#636efa",
           "#EF553B",
           "#00cc96",
           "#ab63fa",
           "#FFA15A",
           "#19d3f3",
           "#FF6692",
           "#B6E880",
           "#FF97FF",
           "#FECB52"
          ],
          "font": {
           "color": "#f2f5fa"
          },
          "geo": {
           "bgcolor": "rgb(17,17,17)",
           "lakecolor": "rgb(17,17,17)",
           "landcolor": "rgb(17,17,17)",
           "showlakes": true,
           "showland": true,
           "subunitcolor": "#506784"
          },
          "hoverlabel": {
           "align": "left"
          },
          "hovermode": "closest",
          "mapbox": {
           "style": "dark"
          },
          "paper_bgcolor": "rgb(17,17,17)",
          "plot_bgcolor": "rgb(17,17,17)",
          "polar": {
           "angularaxis": {
            "gridcolor": "#506784",
            "linecolor": "#506784",
            "ticks": ""
           },
           "bgcolor": "rgb(17,17,17)",
           "radialaxis": {
            "gridcolor": "#506784",
            "linecolor": "#506784",
            "ticks": ""
           }
          },
          "scene": {
           "xaxis": {
            "backgroundcolor": "rgb(17,17,17)",
            "gridcolor": "#506784",
            "gridwidth": 2,
            "linecolor": "#506784",
            "showbackground": true,
            "ticks": "",
            "zerolinecolor": "#C8D4E3"
           },
           "yaxis": {
            "backgroundcolor": "rgb(17,17,17)",
            "gridcolor": "#506784",
            "gridwidth": 2,
            "linecolor": "#506784",
            "showbackground": true,
            "ticks": "",
            "zerolinecolor": "#C8D4E3"
           },
           "zaxis": {
            "backgroundcolor": "rgb(17,17,17)",
            "gridcolor": "#506784",
            "gridwidth": 2,
            "linecolor": "#506784",
            "showbackground": true,
            "ticks": "",
            "zerolinecolor": "#C8D4E3"
           }
          },
          "shapedefaults": {
           "line": {
            "color": "#f2f5fa"
           }
          },
          "sliderdefaults": {
           "bgcolor": "#C8D4E3",
           "bordercolor": "rgb(17,17,17)",
           "borderwidth": 1,
           "tickwidth": 0
          },
          "ternary": {
           "aaxis": {
            "gridcolor": "#506784",
            "linecolor": "#506784",
            "ticks": ""
           },
           "baxis": {
            "gridcolor": "#506784",
            "linecolor": "#506784",
            "ticks": ""
           },
           "bgcolor": "rgb(17,17,17)",
           "caxis": {
            "gridcolor": "#506784",
            "linecolor": "#506784",
            "ticks": ""
           }
          },
          "title": {
           "x": 0.05
          },
          "updatemenudefaults": {
           "bgcolor": "#506784",
           "borderwidth": 0
          },
          "xaxis": {
           "automargin": true,
           "gridcolor": "#283442",
           "linecolor": "#506784",
           "ticks": "",
           "title": {
            "standoff": 15
           },
           "zerolinecolor": "#283442",
           "zerolinewidth": 2
          },
          "yaxis": {
           "automargin": true,
           "gridcolor": "#283442",
           "linecolor": "#506784",
           "ticks": "",
           "title": {
            "standoff": 15
           },
           "zerolinecolor": "#283442",
           "zerolinewidth": 2
          }
         }
        },
        "title": {
         "text": "Popularity rate for each musical genre",
         "x": 0.1
        },
        "width": 1000
       }
      }
     },
     "metadata": {},
     "output_type": "display_data"
    }
   ],
   "source": [
    "fig = px.scatter_polar(popularity_genre, r=\"popularity\", theta=\"genre\",\n",
    "                       color=\"popularity\", size=\"popularity\",\n",
    "                       color_continuous_scale=px.colors.diverging.Tealrose,\n",
    "                        \n",
    "                       template=\"plotly_dark\")\n",
    "\n",
    "fig.update_layout(autosize=False,\n",
    "                    title='Popularity rate for each musical genre',\n",
    "                    title_x = 0.1,                    \n",
    "                    width=1000,\n",
    "                    height=600,                    \n",
    "                    template='plotly_dark',\n",
    "                    font_size=13\n",
    "                    )\n",
    "\n",
    "fig.show()"
   ]
  },
  {
   "cell_type": "code",
   "execution_count": 43,
   "metadata": {},
   "outputs": [
    {
     "data": {
      "application/vnd.plotly.v1+json": {
       "config": {
        "plotlyServerURL": "https://plot.ly"
       },
       "data": [
        {
         "fill": "toself",
         "hovertemplate": "danceability=%{r}<br>genre=%{theta}<extra></extra>",
         "legendgroup": "",
         "line": {
          "color": "#f0f921",
          "dash": "solid"
         },
         "marker": {
          "symbol": "circle"
         },
         "mode": "lines",
         "name": "",
         "r": [
          0.64,
          0.7,
          0.54,
          0.72,
          0.64,
          0.57,
          0.64,
          0.54,
          0.53,
          0.62,
          0.58,
          0.59,
          0.62,
          0.73,
          0.6,
          0.7,
          0.44,
          0.53,
          0.31,
          0.53,
          0.47,
          0.56,
          0.29,
          0.41,
          0.64
         ],
         "showlegend": false,
         "subplot": "polar",
         "theta": [
          "Pop",
          "Rap",
          "Rock",
          "Hip-Hop",
          "Dance",
          "Indie",
          "R&B",
          "Alternative",
          "Folk",
          "Soul",
          "Country",
          "Jazz",
          "Electronic",
          "Reggaeton",
          "Children's Music",
          "Reggae",
          "World",
          "Blues",
          "Classical",
          "Ska",
          "Anime",
          "Comedy",
          "Opera",
          "A Capella",
          "Pop"
         ],
         "type": "scatterpolar"
        }
       ],
       "layout": {
        "autosize": false,
        "font": {
         "size": 13
        },
        "height": 600,
        "legend": {
         "tracegroupgap": 0
        },
        "margin": {
         "t": 60
        },
        "polar": {
         "angularaxis": {
          "direction": "clockwise",
          "rotation": 90
         },
         "domain": {
          "x": [
           0,
           1
          ],
          "y": [
           0,
           1
          ]
         }
        },
        "template": {
         "data": {
          "bar": [
           {
            "error_x": {
             "color": "#f2f5fa"
            },
            "error_y": {
             "color": "#f2f5fa"
            },
            "marker": {
             "line": {
              "color": "rgb(17,17,17)",
              "width": 0.5
             },
             "pattern": {
              "fillmode": "overlay",
              "size": 10,
              "solidity": 0.2
             }
            },
            "type": "bar"
           }
          ],
          "barpolar": [
           {
            "marker": {
             "line": {
              "color": "rgb(17,17,17)",
              "width": 0.5
             },
             "pattern": {
              "fillmode": "overlay",
              "size": 10,
              "solidity": 0.2
             }
            },
            "type": "barpolar"
           }
          ],
          "carpet": [
           {
            "aaxis": {
             "endlinecolor": "#A2B1C6",
             "gridcolor": "#506784",
             "linecolor": "#506784",
             "minorgridcolor": "#506784",
             "startlinecolor": "#A2B1C6"
            },
            "baxis": {
             "endlinecolor": "#A2B1C6",
             "gridcolor": "#506784",
             "linecolor": "#506784",
             "minorgridcolor": "#506784",
             "startlinecolor": "#A2B1C6"
            },
            "type": "carpet"
           }
          ],
          "choropleth": [
           {
            "colorbar": {
             "outlinewidth": 0,
             "ticks": ""
            },
            "type": "choropleth"
           }
          ],
          "contour": [
           {
            "colorbar": {
             "outlinewidth": 0,
             "ticks": ""
            },
            "colorscale": [
             [
              0,
              "#0d0887"
             ],
             [
              0.1111111111111111,
              "#46039f"
             ],
             [
              0.2222222222222222,
              "#7201a8"
             ],
             [
              0.3333333333333333,
              "#9c179e"
             ],
             [
              0.4444444444444444,
              "#bd3786"
             ],
             [
              0.5555555555555556,
              "#d8576b"
             ],
             [
              0.6666666666666666,
              "#ed7953"
             ],
             [
              0.7777777777777778,
              "#fb9f3a"
             ],
             [
              0.8888888888888888,
              "#fdca26"
             ],
             [
              1,
              "#f0f921"
             ]
            ],
            "type": "contour"
           }
          ],
          "contourcarpet": [
           {
            "colorbar": {
             "outlinewidth": 0,
             "ticks": ""
            },
            "type": "contourcarpet"
           }
          ],
          "heatmap": [
           {
            "colorbar": {
             "outlinewidth": 0,
             "ticks": ""
            },
            "colorscale": [
             [
              0,
              "#0d0887"
             ],
             [
              0.1111111111111111,
              "#46039f"
             ],
             [
              0.2222222222222222,
              "#7201a8"
             ],
             [
              0.3333333333333333,
              "#9c179e"
             ],
             [
              0.4444444444444444,
              "#bd3786"
             ],
             [
              0.5555555555555556,
              "#d8576b"
             ],
             [
              0.6666666666666666,
              "#ed7953"
             ],
             [
              0.7777777777777778,
              "#fb9f3a"
             ],
             [
              0.8888888888888888,
              "#fdca26"
             ],
             [
              1,
              "#f0f921"
             ]
            ],
            "type": "heatmap"
           }
          ],
          "heatmapgl": [
           {
            "colorbar": {
             "outlinewidth": 0,
             "ticks": ""
            },
            "colorscale": [
             [
              0,
              "#0d0887"
             ],
             [
              0.1111111111111111,
              "#46039f"
             ],
             [
              0.2222222222222222,
              "#7201a8"
             ],
             [
              0.3333333333333333,
              "#9c179e"
             ],
             [
              0.4444444444444444,
              "#bd3786"
             ],
             [
              0.5555555555555556,
              "#d8576b"
             ],
             [
              0.6666666666666666,
              "#ed7953"
             ],
             [
              0.7777777777777778,
              "#fb9f3a"
             ],
             [
              0.8888888888888888,
              "#fdca26"
             ],
             [
              1,
              "#f0f921"
             ]
            ],
            "type": "heatmapgl"
           }
          ],
          "histogram": [
           {
            "marker": {
             "pattern": {
              "fillmode": "overlay",
              "size": 10,
              "solidity": 0.2
             }
            },
            "type": "histogram"
           }
          ],
          "histogram2d": [
           {
            "colorbar": {
             "outlinewidth": 0,
             "ticks": ""
            },
            "colorscale": [
             [
              0,
              "#0d0887"
             ],
             [
              0.1111111111111111,
              "#46039f"
             ],
             [
              0.2222222222222222,
              "#7201a8"
             ],
             [
              0.3333333333333333,
              "#9c179e"
             ],
             [
              0.4444444444444444,
              "#bd3786"
             ],
             [
              0.5555555555555556,
              "#d8576b"
             ],
             [
              0.6666666666666666,
              "#ed7953"
             ],
             [
              0.7777777777777778,
              "#fb9f3a"
             ],
             [
              0.8888888888888888,
              "#fdca26"
             ],
             [
              1,
              "#f0f921"
             ]
            ],
            "type": "histogram2d"
           }
          ],
          "histogram2dcontour": [
           {
            "colorbar": {
             "outlinewidth": 0,
             "ticks": ""
            },
            "colorscale": [
             [
              0,
              "#0d0887"
             ],
             [
              0.1111111111111111,
              "#46039f"
             ],
             [
              0.2222222222222222,
              "#7201a8"
             ],
             [
              0.3333333333333333,
              "#9c179e"
             ],
             [
              0.4444444444444444,
              "#bd3786"
             ],
             [
              0.5555555555555556,
              "#d8576b"
             ],
             [
              0.6666666666666666,
              "#ed7953"
             ],
             [
              0.7777777777777778,
              "#fb9f3a"
             ],
             [
              0.8888888888888888,
              "#fdca26"
             ],
             [
              1,
              "#f0f921"
             ]
            ],
            "type": "histogram2dcontour"
           }
          ],
          "mesh3d": [
           {
            "colorbar": {
             "outlinewidth": 0,
             "ticks": ""
            },
            "type": "mesh3d"
           }
          ],
          "parcoords": [
           {
            "line": {
             "colorbar": {
              "outlinewidth": 0,
              "ticks": ""
             }
            },
            "type": "parcoords"
           }
          ],
          "pie": [
           {
            "automargin": true,
            "type": "pie"
           }
          ],
          "scatter": [
           {
            "marker": {
             "line": {
              "color": "#283442"
             }
            },
            "type": "scatter"
           }
          ],
          "scatter3d": [
           {
            "line": {
             "colorbar": {
              "outlinewidth": 0,
              "ticks": ""
             }
            },
            "marker": {
             "colorbar": {
              "outlinewidth": 0,
              "ticks": ""
             }
            },
            "type": "scatter3d"
           }
          ],
          "scattercarpet": [
           {
            "marker": {
             "colorbar": {
              "outlinewidth": 0,
              "ticks": ""
             }
            },
            "type": "scattercarpet"
           }
          ],
          "scattergeo": [
           {
            "marker": {
             "colorbar": {
              "outlinewidth": 0,
              "ticks": ""
             }
            },
            "type": "scattergeo"
           }
          ],
          "scattergl": [
           {
            "marker": {
             "line": {
              "color": "#283442"
             }
            },
            "type": "scattergl"
           }
          ],
          "scattermapbox": [
           {
            "marker": {
             "colorbar": {
              "outlinewidth": 0,
              "ticks": ""
             }
            },
            "type": "scattermapbox"
           }
          ],
          "scatterpolar": [
           {
            "marker": {
             "colorbar": {
              "outlinewidth": 0,
              "ticks": ""
             }
            },
            "type": "scatterpolar"
           }
          ],
          "scatterpolargl": [
           {
            "marker": {
             "colorbar": {
              "outlinewidth": 0,
              "ticks": ""
             }
            },
            "type": "scatterpolargl"
           }
          ],
          "scatterternary": [
           {
            "marker": {
             "colorbar": {
              "outlinewidth": 0,
              "ticks": ""
             }
            },
            "type": "scatterternary"
           }
          ],
          "surface": [
           {
            "colorbar": {
             "outlinewidth": 0,
             "ticks": ""
            },
            "colorscale": [
             [
              0,
              "#0d0887"
             ],
             [
              0.1111111111111111,
              "#46039f"
             ],
             [
              0.2222222222222222,
              "#7201a8"
             ],
             [
              0.3333333333333333,
              "#9c179e"
             ],
             [
              0.4444444444444444,
              "#bd3786"
             ],
             [
              0.5555555555555556,
              "#d8576b"
             ],
             [
              0.6666666666666666,
              "#ed7953"
             ],
             [
              0.7777777777777778,
              "#fb9f3a"
             ],
             [
              0.8888888888888888,
              "#fdca26"
             ],
             [
              1,
              "#f0f921"
             ]
            ],
            "type": "surface"
           }
          ],
          "table": [
           {
            "cells": {
             "fill": {
              "color": "#506784"
             },
             "line": {
              "color": "rgb(17,17,17)"
             }
            },
            "header": {
             "fill": {
              "color": "#2a3f5f"
             },
             "line": {
              "color": "rgb(17,17,17)"
             }
            },
            "type": "table"
           }
          ]
         },
         "layout": {
          "annotationdefaults": {
           "arrowcolor": "#f2f5fa",
           "arrowhead": 0,
           "arrowwidth": 1
          },
          "autotypenumbers": "strict",
          "coloraxis": {
           "colorbar": {
            "outlinewidth": 0,
            "ticks": ""
           }
          },
          "colorscale": {
           "diverging": [
            [
             0,
             "#8e0152"
            ],
            [
             0.1,
             "#c51b7d"
            ],
            [
             0.2,
             "#de77ae"
            ],
            [
             0.3,
             "#f1b6da"
            ],
            [
             0.4,
             "#fde0ef"
            ],
            [
             0.5,
             "#f7f7f7"
            ],
            [
             0.6,
             "#e6f5d0"
            ],
            [
             0.7,
             "#b8e186"
            ],
            [
             0.8,
             "#7fbc41"
            ],
            [
             0.9,
             "#4d9221"
            ],
            [
             1,
             "#276419"
            ]
           ],
           "sequential": [
            [
             0,
             "#0d0887"
            ],
            [
             0.1111111111111111,
             "#46039f"
            ],
            [
             0.2222222222222222,
             "#7201a8"
            ],
            [
             0.3333333333333333,
             "#9c179e"
            ],
            [
             0.4444444444444444,
             "#bd3786"
            ],
            [
             0.5555555555555556,
             "#d8576b"
            ],
            [
             0.6666666666666666,
             "#ed7953"
            ],
            [
             0.7777777777777778,
             "#fb9f3a"
            ],
            [
             0.8888888888888888,
             "#fdca26"
            ],
            [
             1,
             "#f0f921"
            ]
           ],
           "sequentialminus": [
            [
             0,
             "#0d0887"
            ],
            [
             0.1111111111111111,
             "#46039f"
            ],
            [
             0.2222222222222222,
             "#7201a8"
            ],
            [
             0.3333333333333333,
             "#9c179e"
            ],
            [
             0.4444444444444444,
             "#bd3786"
            ],
            [
             0.5555555555555556,
             "#d8576b"
            ],
            [
             0.6666666666666666,
             "#ed7953"
            ],
            [
             0.7777777777777778,
             "#fb9f3a"
            ],
            [
             0.8888888888888888,
             "#fdca26"
            ],
            [
             1,
             "#f0f921"
            ]
           ]
          },
          "colorway": [
           "#636efa",
           "#EF553B",
           "#00cc96",
           "#ab63fa",
           "#FFA15A",
           "#19d3f3",
           "#FF6692",
           "#B6E880",
           "#FF97FF",
           "#FECB52"
          ],
          "font": {
           "color": "#f2f5fa"
          },
          "geo": {
           "bgcolor": "rgb(17,17,17)",
           "lakecolor": "rgb(17,17,17)",
           "landcolor": "rgb(17,17,17)",
           "showlakes": true,
           "showland": true,
           "subunitcolor": "#506784"
          },
          "hoverlabel": {
           "align": "left"
          },
          "hovermode": "closest",
          "mapbox": {
           "style": "dark"
          },
          "paper_bgcolor": "rgb(17,17,17)",
          "plot_bgcolor": "rgb(17,17,17)",
          "polar": {
           "angularaxis": {
            "gridcolor": "#506784",
            "linecolor": "#506784",
            "ticks": ""
           },
           "bgcolor": "rgb(17,17,17)",
           "radialaxis": {
            "gridcolor": "#506784",
            "linecolor": "#506784",
            "ticks": ""
           }
          },
          "scene": {
           "xaxis": {
            "backgroundcolor": "rgb(17,17,17)",
            "gridcolor": "#506784",
            "gridwidth": 2,
            "linecolor": "#506784",
            "showbackground": true,
            "ticks": "",
            "zerolinecolor": "#C8D4E3"
           },
           "yaxis": {
            "backgroundcolor": "rgb(17,17,17)",
            "gridcolor": "#506784",
            "gridwidth": 2,
            "linecolor": "#506784",
            "showbackground": true,
            "ticks": "",
            "zerolinecolor": "#C8D4E3"
           },
           "zaxis": {
            "backgroundcolor": "rgb(17,17,17)",
            "gridcolor": "#506784",
            "gridwidth": 2,
            "linecolor": "#506784",
            "showbackground": true,
            "ticks": "",
            "zerolinecolor": "#C8D4E3"
           }
          },
          "shapedefaults": {
           "line": {
            "color": "#f2f5fa"
           }
          },
          "sliderdefaults": {
           "bgcolor": "#C8D4E3",
           "bordercolor": "rgb(17,17,17)",
           "borderwidth": 1,
           "tickwidth": 0
          },
          "ternary": {
           "aaxis": {
            "gridcolor": "#506784",
            "linecolor": "#506784",
            "ticks": ""
           },
           "baxis": {
            "gridcolor": "#506784",
            "linecolor": "#506784",
            "ticks": ""
           },
           "bgcolor": "rgb(17,17,17)",
           "caxis": {
            "gridcolor": "#506784",
            "linecolor": "#506784",
            "ticks": ""
           }
          },
          "title": {
           "x": 0.05
          },
          "updatemenudefaults": {
           "bgcolor": "#506784",
           "borderwidth": 0
          },
          "xaxis": {
           "automargin": true,
           "gridcolor": "#283442",
           "linecolor": "#506784",
           "ticks": "",
           "title": {
            "standoff": 15
           },
           "zerolinecolor": "#283442",
           "zerolinewidth": 2
          },
          "yaxis": {
           "automargin": true,
           "gridcolor": "#283442",
           "linecolor": "#506784",
           "ticks": "",
           "title": {
            "standoff": 15
           },
           "zerolinecolor": "#283442",
           "zerolinewidth": 2
          }
         }
        },
        "title": {
         "text": "Danceability for each musical genre",
         "x": 0.1
        },
        "width": 1000
       }
      }
     },
     "metadata": {},
     "output_type": "display_data"
    }
   ],
   "source": [
    "\n",
    "fig = px.line_polar(popularity_genre, r=\"danceability\", theta=\"genre\", line_close=True,\n",
    "                    color_discrete_sequence=px.colors.sequential.Plasma_r,\n",
    "                    template=\"plotly_dark\",\n",
    "                    )\n",
    "\n",
    "fig.update_traces(fill='toself')\n",
    "\n",
    "fig.update_layout(autosize=False, \n",
    "                    title='Danceability for each musical genre',\n",
    "                    title_x = 0.1,                    \n",
    "                    width=1000,\n",
    "                    height=600,                    \n",
    "                    template='plotly_dark',\n",
    "                    font_size=13\n",
    "                    )\n",
    "\n",
    "fig.show()"
   ]
  }
 ],
 "metadata": {
  "interpreter": {
   "hash": "4544d665ae83a938e78316550df4048c4b5eacadf9e9ff52d5a508ec23c5226a"
  },
  "kernelspec": {
   "display_name": "Python 3.8.12 64-bit ('base': conda)",
   "language": "python",
   "name": "python3"
  },
  "language_info": {
   "codemirror_mode": {
    "name": "ipython",
    "version": 3
   },
   "file_extension": ".py",
   "mimetype": "text/x-python",
   "name": "python",
   "nbconvert_exporter": "python",
   "pygments_lexer": "ipython3",
   "version": "3.8.12"
  },
  "orig_nbformat": 4
 },
 "nbformat": 4,
 "nbformat_minor": 2
}
