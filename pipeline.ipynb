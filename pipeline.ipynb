{
 "cells": [
  {
   "cell_type": "code",
   "execution_count": 61,
   "metadata": {},
   "outputs": [],
   "source": [
    "import pandas as pd\n",
    "import math\n",
    "from sklearn.preprocessing import MinMaxScaler"
   ]
  },
  {
   "cell_type": "code",
   "execution_count": 62,
   "metadata": {},
   "outputs": [],
   "source": [
    "df = pd.read_csv('https://raw.githubusercontent.com/murpi/wilddata/master/quests/spotify.zip')"
   ]
  },
  {
   "cell_type": "code",
   "execution_count": 63,
   "metadata": {},
   "outputs": [],
   "source": [
    "def popularity_score(popularity):\n",
    "  popularity = popularity / 20\n",
    "  popularity = math.ceil(popularity)\n",
    "  return popularity"
   ]
  },
  {
   "cell_type": "code",
   "execution_count": 64,
   "metadata": {},
   "outputs": [],
   "source": [
    "df.drop('time_signature', axis = 1, inplace = True)\n",
    "df = df[(df['genre'] != 'Soundtrack') & (df['genre'] != 'Movie')]\n",
    "df = df[(df['duration_ms'] >= 90000) & (df['duration_ms'] <= 900000)]\n",
    "df['genre'].replace(\"Children’s Music\", \"Children's Music\", inplace = True)\n",
    "top_songs = df[df['popularity'] >= 80]\n",
    "top_scaled = top_songs.copy()\n",
    "scaler = MinMaxScaler()\n",
    "top_scaled['loudness_scaled'] = scaler.fit_transform(top_songs['loudness'].values.reshape(-1, 1))"
   ]
  },
  {
   "cell_type": "code",
   "execution_count": 65,
   "metadata": {},
   "outputs": [],
   "source": [
    "top_scaled.to_csv('data/top_polar.csv.zip', compression='zip', index=False)"
   ]
  },
  {
   "cell_type": "code",
   "execution_count": 66,
   "metadata": {},
   "outputs": [],
   "source": [
    "df_music_dummies = pd.concat([df , df['genre'].str.get_dummies()], axis = 1)\n",
    "df_music_dummies['mode'] = df_music_dummies['mode'].factorize()[0]\n",
    "df_music_dummies[\"popularity_score\"] = df[\"popularity\"].apply(popularity_score)\n",
    "cols = ['genre', 'key', 'popularity']\n",
    "df_music_dummies.drop(cols, axis=1, inplace=True)\n",
    "df_music_without_0_pop = df_music_dummies[df_music_dummies['popularity_score'] != 0]"
   ]
  },
  {
   "cell_type": "code",
   "execution_count": 67,
   "metadata": {},
   "outputs": [],
   "source": [
    "\n",
    "df_final = df_music_without_0_pop.copy()\n",
    "df_final['tempo'].apply(round)\n",
    "df_final['duration_ms'] = round(df_final['duration_ms'] / 1000)\n",
    "df_final = df_final.astype({'tempo': 'int', 'duration_ms': 'int'})\n",
    "df_final.drop_duplicates(subset = ['track_id'], inplace = True)"
   ]
  },
  {
   "cell_type": "code",
   "execution_count": 74,
   "metadata": {},
   "outputs": [],
   "source": [
    "df_final.to_csv('data/music_ml.csv.zip', compression='zip', index = False)"
   ]
  },
  {
   "cell_type": "code",
   "execution_count": 69,
   "metadata": {},
   "outputs": [],
   "source": [
    "popularity_genre = round(df.groupby(by=['genre']).mean('popularity'),2).sort_values(['popularity'], ascending=False).reset_index()"
   ]
  },
  {
   "cell_type": "code",
   "execution_count": 70,
   "metadata": {},
   "outputs": [],
   "source": [
    "popularity_genre.to_csv('data/pop_genre.csv.zip', compression='zip', index=False)"
   ]
  },
  {
   "cell_type": "code",
   "execution_count": 71,
   "metadata": {},
   "outputs": [
    {
     "data": {
      "text/html": [
       "<div>\n",
       "<style scoped>\n",
       "    .dataframe tbody tr th:only-of-type {\n",
       "        vertical-align: middle;\n",
       "    }\n",
       "\n",
       "    .dataframe tbody tr th {\n",
       "        vertical-align: top;\n",
       "    }\n",
       "\n",
       "    .dataframe thead th {\n",
       "        text-align: right;\n",
       "    }\n",
       "</style>\n",
       "<table border=\"1\" class=\"dataframe\">\n",
       "  <thead>\n",
       "    <tr style=\"text-align: right;\">\n",
       "      <th></th>\n",
       "      <th>track_name</th>\n",
       "    </tr>\n",
       "  </thead>\n",
       "  <tbody>\n",
       "    <tr>\n",
       "      <th>Home</th>\n",
       "      <td>93</td>\n",
       "    </tr>\n",
       "    <tr>\n",
       "      <th>You</th>\n",
       "      <td>69</td>\n",
       "    </tr>\n",
       "    <tr>\n",
       "      <th>Stay</th>\n",
       "      <td>61</td>\n",
       "    </tr>\n",
       "    <tr>\n",
       "      <th>Closer</th>\n",
       "      <td>58</td>\n",
       "    </tr>\n",
       "    <tr>\n",
       "      <th>Wake Up</th>\n",
       "      <td>55</td>\n",
       "    </tr>\n",
       "    <tr>\n",
       "      <th>...</th>\n",
       "      <td>...</td>\n",
       "    </tr>\n",
       "    <tr>\n",
       "      <th>Die Walküre, WWV 86B: Leb wohl, du kühnes, herrliches Kind - Live</th>\n",
       "      <td>1</td>\n",
       "    </tr>\n",
       "    <tr>\n",
       "      <th>Carmen, Act IV, No.27 Duo et Choeur final: Tu m'aimes donc plus (Don José/Carmen/Choeurs)</th>\n",
       "      <td>1</td>\n",
       "    </tr>\n",
       "    <tr>\n",
       "      <th>Carmen Suite No. 2: La Garde montante. Allegro (Act I)</th>\n",
       "      <td>1</td>\n",
       "    </tr>\n",
       "    <tr>\n",
       "      <th>J.S. Bach: Ave Maria</th>\n",
       "      <td>1</td>\n",
       "    </tr>\n",
       "    <tr>\n",
       "      <th>You Don't Have To Hurt No More</th>\n",
       "      <td>1</td>\n",
       "    </tr>\n",
       "  </tbody>\n",
       "</table>\n",
       "<p>126588 rows × 1 columns</p>\n",
       "</div>"
      ],
      "text/plain": [
       "                                                    track_name\n",
       "Home                                                        93\n",
       "You                                                         69\n",
       "Stay                                                        61\n",
       "Closer                                                      58\n",
       "Wake Up                                                     55\n",
       "...                                                        ...\n",
       "Die Walküre, WWV 86B: Leb wohl, du kühnes, herr...           1\n",
       "Carmen, Act IV, No.27 Duo et Choeur final: Tu m...           1\n",
       "Carmen Suite No. 2: La Garde montante. Allegro ...           1\n",
       "J.S. Bach: Ave Maria                                         1\n",
       "You Don't Have To Hurt No More                               1\n",
       "\n",
       "[126588 rows x 1 columns]"
      ]
     },
     "execution_count": 71,
     "metadata": {},
     "output_type": "execute_result"
    }
   ],
   "source": [
    "df_test = df_final['track_name'].value_counts()\n",
    "df_test = pd.DataFrame(df_test)\n",
    "df_test"
   ]
  },
  {
   "cell_type": "code",
   "execution_count": 75,
   "metadata": {},
   "outputs": [
    {
     "data": {
      "text/html": [
       "<div>\n",
       "<style scoped>\n",
       "    .dataframe tbody tr th:only-of-type {\n",
       "        vertical-align: middle;\n",
       "    }\n",
       "\n",
       "    .dataframe tbody tr th {\n",
       "        vertical-align: top;\n",
       "    }\n",
       "\n",
       "    .dataframe thead th {\n",
       "        text-align: right;\n",
       "    }\n",
       "</style>\n",
       "<table border=\"1\" class=\"dataframe\">\n",
       "  <thead>\n",
       "    <tr style=\"text-align: right;\">\n",
       "      <th></th>\n",
       "      <th>artist_name</th>\n",
       "      <th>track_name</th>\n",
       "      <th>track_id</th>\n",
       "      <th>acousticness</th>\n",
       "      <th>danceability</th>\n",
       "      <th>duration_ms</th>\n",
       "      <th>energy</th>\n",
       "      <th>instrumentalness</th>\n",
       "      <th>liveness</th>\n",
       "      <th>loudness</th>\n",
       "      <th>...</th>\n",
       "      <th>Pop</th>\n",
       "      <th>R&amp;B</th>\n",
       "      <th>Rap</th>\n",
       "      <th>Reggae</th>\n",
       "      <th>Reggaeton</th>\n",
       "      <th>Rock</th>\n",
       "      <th>Ska</th>\n",
       "      <th>Soul</th>\n",
       "      <th>World</th>\n",
       "      <th>popularity_score</th>\n",
       "    </tr>\n",
       "  </thead>\n",
       "  <tbody>\n",
       "    <tr>\n",
       "      <th>13645</th>\n",
       "      <td>Lady Gaga</td>\n",
       "      <td>Poker Face</td>\n",
       "      <td>0WfKDYeUAoLA3vdvLKKWMW</td>\n",
       "      <td>0.139000</td>\n",
       "      <td>0.846</td>\n",
       "      <td>237</td>\n",
       "      <td>0.815</td>\n",
       "      <td>0.000002</td>\n",
       "      <td>0.131</td>\n",
       "      <td>-4.512</td>\n",
       "      <td>...</td>\n",
       "      <td>0</td>\n",
       "      <td>0</td>\n",
       "      <td>0</td>\n",
       "      <td>0</td>\n",
       "      <td>0</td>\n",
       "      <td>0</td>\n",
       "      <td>0</td>\n",
       "      <td>0</td>\n",
       "      <td>0</td>\n",
       "      <td>4</td>\n",
       "    </tr>\n",
       "    <tr>\n",
       "      <th>31708</th>\n",
       "      <td>yuchaP</td>\n",
       "      <td>Poker Face</td>\n",
       "      <td>6PP3V8WppdOquSc7o0zmMF</td>\n",
       "      <td>0.000971</td>\n",
       "      <td>0.516</td>\n",
       "      <td>200</td>\n",
       "      <td>0.893</td>\n",
       "      <td>0.000106</td>\n",
       "      <td>0.140</td>\n",
       "      <td>-3.836</td>\n",
       "      <td>...</td>\n",
       "      <td>0</td>\n",
       "      <td>0</td>\n",
       "      <td>0</td>\n",
       "      <td>0</td>\n",
       "      <td>0</td>\n",
       "      <td>0</td>\n",
       "      <td>0</td>\n",
       "      <td>0</td>\n",
       "      <td>0</td>\n",
       "      <td>1</td>\n",
       "    </tr>\n",
       "  </tbody>\n",
       "</table>\n",
       "<p>2 rows × 39 columns</p>\n",
       "</div>"
      ],
      "text/plain": [
       "      artist_name  track_name                track_id  acousticness  \\\n",
       "13645   Lady Gaga  Poker Face  0WfKDYeUAoLA3vdvLKKWMW      0.139000   \n",
       "31708      yuchaP  Poker Face  6PP3V8WppdOquSc7o0zmMF      0.000971   \n",
       "\n",
       "       danceability  duration_ms  energy  instrumentalness  liveness  \\\n",
       "13645         0.846          237   0.815          0.000002     0.131   \n",
       "31708         0.516          200   0.893          0.000106     0.140   \n",
       "\n",
       "       loudness  ...  Pop  R&B  Rap  Reggae  Reggaeton  Rock  Ska  Soul  \\\n",
       "13645    -4.512  ...    0    0    0       0          0     0    0     0   \n",
       "31708    -3.836  ...    0    0    0       0          0     0    0     0   \n",
       "\n",
       "       World  popularity_score  \n",
       "13645      0                 4  \n",
       "31708      0                 1  \n",
       "\n",
       "[2 rows x 39 columns]"
      ]
     },
     "execution_count": 75,
     "metadata": {},
     "output_type": "execute_result"
    }
   ],
   "source": [
    "df_final[df_final['track_name'] == 'Poker Face']"
   ]
  },
  {
   "cell_type": "code",
   "execution_count": 76,
   "metadata": {},
   "outputs": [
    {
     "data": {
      "text/plain": [
       "Index(['artist_name', 'track_name', 'track_id', 'acousticness', 'danceability',\n",
       "       'duration_ms', 'energy', 'instrumentalness', 'liveness', 'loudness',\n",
       "       'mode', 'speechiness', 'tempo', 'valence', 'A Capella', 'Alternative',\n",
       "       'Anime', 'Blues', 'Children's Music', 'Classical', 'Comedy', 'Country',\n",
       "       'Dance', 'Electronic', 'Folk', 'Hip-Hop', 'Indie', 'Jazz', 'Opera',\n",
       "       'Pop', 'R&B', 'Rap', 'Reggae', 'Reggaeton', 'Rock', 'Ska', 'Soul',\n",
       "       'World', 'popularity_score'],\n",
       "      dtype='object')"
      ]
     },
     "execution_count": 76,
     "metadata": {},
     "output_type": "execute_result"
    }
   ],
   "source": [
    "df_final.columns"
   ]
  },
  {
   "cell_type": "code",
   "execution_count": null,
   "metadata": {},
   "outputs": [],
   "source": []
  }
 ],
 "metadata": {
  "interpreter": {
   "hash": "40e8acbb205c65c00df44503a190e56d13bfb94037a433e00048fdfdd1adf4d2"
  },
  "kernelspec": {
   "display_name": "Python 3.9.7 64-bit ('base': conda)",
   "language": "python",
   "name": "python3"
  },
  "language_info": {
   "codemirror_mode": {
    "name": "ipython",
    "version": 3
   },
   "file_extension": ".py",
   "mimetype": "text/x-python",
   "name": "python",
   "nbconvert_exporter": "python",
   "pygments_lexer": "ipython3",
   "version": "3.9.7"
  },
  "orig_nbformat": 4
 },
 "nbformat": 4,
 "nbformat_minor": 2
}
