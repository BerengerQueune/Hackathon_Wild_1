{
 "cells": [
  {
   "cell_type": "code",
   "execution_count": 15,
   "metadata": {},
   "outputs": [],
   "source": [
    "import pandas as pd\n",
    "from sklearn.preprocessing import MinMaxScaler\n",
    "import math"
   ]
  },
  {
   "cell_type": "code",
   "execution_count": 16,
   "metadata": {},
   "outputs": [],
   "source": [
    "df = pd.read_csv('https://raw.githubusercontent.com/murpi/wilddata/master/quests/spotify.zip')"
   ]
  },
  {
   "cell_type": "code",
   "execution_count": 17,
   "metadata": {},
   "outputs": [],
   "source": [
    "def popularity_score(popularity):\n",
    "  popularity = popularity / 20\n",
    "  popularity = math.ceil(popularity)\n",
    "  return popularity"
   ]
  },
  {
   "cell_type": "code",
   "execution_count": 18,
   "metadata": {},
   "outputs": [],
   "source": [
    "df.drop('time_signature', axis = 1, inplace = True)\n",
    "df = df[(df['genre'] != 'Soundtrack') & (df['genre'] != 'Movie')]\n",
    "df = df[(df['duration_ms'] > 90000) & (df['duration_ms'] < 900000)]\n",
    "df['genre'].replace(\"Children’s Music\", \"Children's Music\", inplace = True)\n",
    "top_songs = df[df['popularity'] >= 80]\n",
    "top_scaled = top_songs.copy()\n",
    "scaler = MinMaxScaler()\n",
    "top_scaled['loudness_scaled'] = scaler.fit_transform(top_songs['loudness'].values.reshape(-1, 1))"
   ]
  },
  {
   "cell_type": "code",
   "execution_count": 19,
   "metadata": {},
   "outputs": [],
   "source": [
    "top_scaled.to_csv('data/top_polar.csv.zip', compression='zip')"
   ]
  },
  {
   "cell_type": "code",
   "execution_count": 20,
   "metadata": {},
   "outputs": [],
   "source": [
    "df_music_dummies = pd.concat([df , df['genre'].str.get_dummies()], axis = 1)\n",
    "df_music_dummies['mode'] = df_music_dummies['mode'].factorize()[0]\n",
    "df_music_dummies_keys = pd.concat([df_music_dummies , df_music_dummies['key'].str.get_dummies()], axis = 1)\n",
    "df_music_dummies_keys[\"popularity_score\"] = df[\"popularity\"].apply(popularity_score)\n",
    "cols = ['genre', 'artist_name', 'track_name', 'track_id', 'key']\n",
    "df_music_dummies_keys.drop(cols, axis=1, inplace=True)\n",
    "df_music_without_0_pop = df_music_dummies_keys[df_music_dummies_keys['popularity_score'] != 0]"
   ]
  },
  {
   "cell_type": "code",
   "execution_count": 21,
   "metadata": {},
   "outputs": [],
   "source": [
    "df_final = df_music_without_0_pop.copy()\n",
    "df_final.drop(columns = ['duration_ms'], axis = 1, inplace = True)"
   ]
  },
  {
   "cell_type": "code",
   "execution_count": 22,
   "metadata": {},
   "outputs": [],
   "source": [
    "df_final.to_csv('data/music_ml.csv.zip', compression='zip')"
   ]
  },
  {
   "cell_type": "code",
   "execution_count": 24,
   "metadata": {},
   "outputs": [
    {
     "data": {
      "text/plain": [
       "Index(['popularity', 'acousticness', 'danceability', 'energy',\n",
       "       'instrumentalness', 'liveness', 'loudness', 'mode', 'speechiness',\n",
       "       'tempo', 'valence', 'A Capella', 'Alternative', 'Anime', 'Blues',\n",
       "       'Children's Music', 'Classical', 'Comedy', 'Country', 'Dance',\n",
       "       'Electronic', 'Folk', 'Hip-Hop', 'Indie', 'Jazz', 'Opera', 'Pop', 'R&B',\n",
       "       'Rap', 'Reggae', 'Reggaeton', 'Rock', 'Ska', 'Soul', 'World', 'A', 'A#',\n",
       "       'B', 'C', 'C#', 'D', 'D#', 'E', 'F', 'F#', 'G', 'G#',\n",
       "       'popularity_score'],\n",
       "      dtype='object')"
      ]
     },
     "execution_count": 24,
     "metadata": {},
     "output_type": "execute_result"
    }
   ],
   "source": [
    "df_final.columns"
   ]
  },
  {
   "cell_type": "code",
   "execution_count": null,
   "metadata": {},
   "outputs": [],
   "source": []
  }
 ],
 "metadata": {
  "interpreter": {
   "hash": "40e8acbb205c65c00df44503a190e56d13bfb94037a433e00048fdfdd1adf4d2"
  },
  "kernelspec": {
   "display_name": "Python 3.9.7 64-bit ('base': conda)",
   "language": "python",
   "name": "python3"
  },
  "language_info": {
   "codemirror_mode": {
    "name": "ipython",
    "version": 3
   },
   "file_extension": ".py",
   "mimetype": "text/x-python",
   "name": "python",
   "nbconvert_exporter": "python",
   "pygments_lexer": "ipython3",
   "version": "3.9.7"
  },
  "orig_nbformat": 4
 },
 "nbformat": 4,
 "nbformat_minor": 2
}
