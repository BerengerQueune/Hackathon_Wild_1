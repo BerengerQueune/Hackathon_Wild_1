{
 "cells": [
  {
   "cell_type": "code",
   "execution_count": 1,
   "metadata": {},
   "outputs": [],
   "source": [
    "import pandas as pd\n",
    "from sklearn.preprocessing import MinMaxScaler\n",
    "import math"
   ]
  },
  {
   "cell_type": "code",
   "execution_count": 3,
   "metadata": {},
   "outputs": [],
   "source": [
    "df = pd.read_csv('https://raw.githubusercontent.com/murpi/wilddata/master/quests/spotify.zip')"
   ]
  },
  {
   "cell_type": "code",
   "execution_count": 4,
   "metadata": {},
   "outputs": [],
   "source": [
    "def popularity_score(popularity):\n",
    "  popularity = popularity / 20\n",
    "  popularity = math.ceil(popularity)\n",
    "  return popularity"
   ]
  },
  {
   "cell_type": "code",
   "execution_count": 5,
   "metadata": {},
   "outputs": [],
   "source": [
    "df.drop('time_signature', axis = 1, inplace = True)\n",
    "df = df[(df['genre'] != 'Soundtrack') & (df['genre'] != 'Movie')]\n",
    "df = df[(df['duration_ms'] > 90000) & (df['duration_ms'] < 900000)]\n",
    "df['genre'].replace(\"Children's Music\", \"Children’s Music\", inplace = True)\n",
    "top_songs = df[df['popularity'] >= 80]\n",
    "top_scaled = top_songs.copy()\n",
    "scaler = MinMaxScaler()\n",
    "top_scaled['loudness_scaled'] = scaler.fit_transform(top_songs['loudness'].values.reshape(-1, 1))"
   ]
  },
  {
   "cell_type": "code",
   "execution_count": 6,
   "metadata": {},
   "outputs": [],
   "source": [
    "top_scaled.to_csv('data/top_polar.csv.zip', compression='zip')"
   ]
  },
  {
   "cell_type": "code",
   "execution_count": 8,
   "metadata": {},
   "outputs": [],
   "source": [
    "df_music_dummies = pd.concat([df , df['genre'].str.get_dummies()], axis = 1)\n",
    "df_music_dummies['mode'] = df_music_dummies['mode'].factorize()[0]\n",
    "df_music_dummies_keys = pd.concat([df_music_dummies , df_music_dummies['key'].str.get_dummies()], axis = 1)\n",
    "df_music_dummies_keys[\"popularity_score\"] = df[\"popularity\"].apply(popularity_score)\n",
    "cols = ['genre', 'artist_name', 'track_name', 'track_id', 'key']\n",
    "df_music_dummies_keys.drop(cols, axis=1, inplace=True)\n",
    "df_music_without_0_pop = df_music_dummies_keys[df_music_dummies_keys['popularity_score'] != 0]"
   ]
  },
  {
   "cell_type": "code",
   "execution_count": 9,
   "metadata": {},
   "outputs": [],
   "source": [
    "df_final = df_music_without_0_pop.copy()\n",
    "df_final['duration'] = round(df_music_without_0_pop['duration_ms'] / 1000)\n",
    "df_final = df_final.astype({'duration': 'int32'})"
   ]
  },
  {
   "cell_type": "code",
   "execution_count": 10,
   "metadata": {},
   "outputs": [],
   "source": [
    "df_final.to_csv('data/music_ml.csv.zip', compression='zip')"
   ]
  }
 ],
 "metadata": {
  "interpreter": {
   "hash": "40e8acbb205c65c00df44503a190e56d13bfb94037a433e00048fdfdd1adf4d2"
  },
  "kernelspec": {
   "display_name": "Python 3.9.7 64-bit ('base': conda)",
   "language": "python",
   "name": "python3"
  },
  "language_info": {
   "codemirror_mode": {
    "name": "ipython",
    "version": 3
   },
   "file_extension": ".py",
   "mimetype": "text/x-python",
   "name": "python",
   "nbconvert_exporter": "python",
   "pygments_lexer": "ipython3",
   "version": "3.9.7"
  },
  "orig_nbformat": 4
 },
 "nbformat": 4,
 "nbformat_minor": 2
}
